{
  "nbformat": 4,
  "nbformat_minor": 0,
  "metadata": {
    "kernelspec": {
      "display_name": "Python 3",
      "language": "python",
      "name": "python3"
    },
    "language_info": {
      "codemirror_mode": {
        "name": "ipython",
        "version": 3
      },
      "file_extension": ".py",
      "mimetype": "text/x-python",
      "name": "python",
      "nbconvert_exporter": "python",
      "pygments_lexer": "ipython3",
      "version": "3.7.4"
    },
    "colab": {
      "name": "Récursivité.ipynb",
      "provenance": [],
      "include_colab_link": true
    }
  },
  "cells": [
    {
      "cell_type": "markdown",
      "metadata": {
        "id": "view-in-github",
        "colab_type": "text"
      },
      "source": [
        "<a href=\"https://colab.research.google.com/github/NicolasVigot/Notebooks-/blob/master/Re%CC%81cursivite%CC%81.ipynb\" target=\"_parent\"><img src=\"https://colab.research.google.com/assets/colab-badge.svg\" alt=\"Open In Colab\"/></a>"
      ]
    },
    {
      "cell_type": "markdown",
      "metadata": {
        "id": "avn2WVBAB44i",
        "colab_type": "text"
      },
      "source": [
        "# Récursivité\n",
        "\n",
        "Une fonction récursive est une fonction qui s'appelle elle-même. La récursivité est un principe de programmation très puissant, et particulièrement adapté aux mathématiques.\n",
        "Lors du codage d'une fonction récursive, il est important de préciser une condition d'arrêt."
      ]
    },
    {
      "cell_type": "markdown",
      "metadata": {
        "id": "R2Nstya4B44o",
        "colab_type": "text"
      },
      "source": [
        "## Factorielle\n",
        "\n",
        "La fonction factorielle se définit très natuellement de manière récursive. Pour mémoire : $n! = 1 \\times 2 \\times \\ldots \\times n = n \\times (n-1) !$. Sachant que $1 ! = 1$ et $0 ! = 1$ (par convention), le codage de la fonction peut se faire ainsi :"
      ]
    },
    {
      "cell_type": "code",
      "metadata": {
        "id": "78zY9-ATB44r",
        "colab_type": "code",
        "colab": {}
      },
      "source": [
        "def factorielle(n):"
      ],
      "execution_count": 0,
      "outputs": []
    },
    {
      "cell_type": "code",
      "metadata": {
        "scrolled": true,
        "id": "GZ2X6HE9B445",
        "colab_type": "code",
        "colab": {}
      },
      "source": [
        "factorielle(5)"
      ],
      "execution_count": 0,
      "outputs": []
    },
    {
      "cell_type": "markdown",
      "metadata": {
        "id": "3AE_-2BlB45D",
        "colab_type": "text"
      },
      "source": [
        "## Suite récurrente\n",
        "\n",
        "1. Coder une fonction qui permet de calculer les termes de la suite (définie par **récurrence**) : \n",
        "$$\\left\\{ \\begin{aligned} u_{0} & = 1 \\\\ u_{n+1} & = 2 \\times u_{n} + 3 \\end{aligned} \\right.$$\n",
        "1. Calculer les dix premiers termes de cette suite.\n",
        "1. Calculer le premier rang $n$ pour lequel $u_n > 10^6$. "
      ]
    },
    {
      "cell_type": "code",
      "metadata": {
        "id": "bcYAdVzjB45G",
        "colab_type": "code",
        "colab": {}
      },
      "source": [
        "#Insérez votre code ici"
      ],
      "execution_count": 0,
      "outputs": []
    },
    {
      "cell_type": "markdown",
      "metadata": {
        "id": "W_gDsfq-B45P",
        "colab_type": "text"
      },
      "source": [
        "## Algorithme d'Euclide\n",
        "\n",
        "Un des plus anciens algorithmes des mathématiques, cet algorithme permet de calculer le pgcd de deux entiers $a$ et $b$, en s'appuyant sur la remarque suivante : pgcd($a$,$b$) = pgcd($b$,$r$), où $r$ est le reste de la division euclidienne de $a$ par $b$. Cet algorithme se programme donc encore naturellement de manière récursive. "
      ]
    },
    {
      "cell_type": "code",
      "metadata": {
        "id": "67hg3mufB45Q",
        "colab_type": "code",
        "colab": {}
      },
      "source": [
        "#Insérez votre code ici"
      ],
      "execution_count": 0,
      "outputs": []
    },
    {
      "cell_type": "markdown",
      "metadata": {
        "id": "Xf_I8aogB45X",
        "colab_type": "text"
      },
      "source": [
        "## Permutations d'une liste\n",
        "\n",
        "Etant donné une liste `L = [a, b, c, ...]`, comment fabriquer toutes les permutations de cette liste ? Là encore, un algorithme récursif s'averera très utile... "
      ]
    },
    {
      "cell_type": "code",
      "metadata": {
        "id": "AV9pv0BGB45Z",
        "colab_type": "code",
        "colab": {}
      },
      "source": [
        "#Insérez votre code ici"
      ],
      "execution_count": 0,
      "outputs": []
    },
    {
      "cell_type": "markdown",
      "metadata": {
        "id": "5XNCje6sB45f",
        "colab_type": "text"
      },
      "source": [
        "## Tri rapide\n",
        "\n",
        "Il est existe de très nombreux algorithmes pour trier une liste ou un tableau. Certains sont plus performants que d'autres, selon divers critères (espace, temps au pire, temps en moyenne, etc.). Nombre d'entre eux sont récursifs. L'algorithme de tri rapide (quicksort) est l'un des plus utilisés, car il est justement... rapide !\n",
        "\n",
        "La méthode consiste à placer un élément du tableau (appelé pivot) à sa place définitive, en permutant tous les éléments de telle sorte que tous ceux qui sont inférieurs au pivot soient à sa gauche et que tous ceux qui sont supérieurs au pivot soient à sa droite.\n",
        "\n",
        "Cette opération s'appelle le partitionnement. Pour chacun des sous-tableaux, on définit un nouveau pivot et on répète l'opération de partitionnement. Ce processus est répété récursivement, jusqu'à ce que l'ensemble des éléments soit trié.\n",
        "\n",
        "Le pivot peut être choisi aléatoirement dans la liste, ou plus simplement être son premier élément."
      ]
    },
    {
      "cell_type": "code",
      "metadata": {
        "id": "XiLpTpPVB45i",
        "colab_type": "code",
        "colab": {}
      },
      "source": [
        "#Insérez votre code ici"
      ],
      "execution_count": 0,
      "outputs": []
    },
    {
      "cell_type": "markdown",
      "metadata": {
        "id": "NpHioUIWB45p",
        "colab_type": "text"
      },
      "source": [
        "### Un jeu de test"
      ]
    },
    {
      "cell_type": "code",
      "metadata": {
        "id": "g3rkG02XB45s",
        "colab_type": "code",
        "colab": {}
      },
      "source": [
        "import random\n",
        "L = list(range(1, 101))\n",
        "random.shuffle(L)\n",
        "print(L)"
      ],
      "execution_count": 0,
      "outputs": []
    }
  ]
}