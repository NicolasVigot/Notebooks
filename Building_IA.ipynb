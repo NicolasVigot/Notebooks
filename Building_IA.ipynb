{
  "nbformat": 4,
  "nbformat_minor": 0,
  "metadata": {
    "colab": {
      "provenance": [],
      "authorship_tag": "ABX9TyMSWcccXM1Vi6010fFNyPQr",
      "include_colab_link": true
    },
    "kernelspec": {
      "name": "python3",
      "display_name": "Python 3"
    },
    "language_info": {
      "name": "python"
    }
  },
  "cells": [
    {
      "cell_type": "markdown",
      "metadata": {
        "id": "view-in-github",
        "colab_type": "text"
      },
      "source": [
        "<a href=\"https://colab.research.google.com/github/NicolasVigot/Notebooks/blob/master/Building_IA.ipynb\" target=\"_parent\"><img src=\"https://colab.research.google.com/assets/colab-badge.svg\" alt=\"Open In Colab\"/></a>"
      ]
    },
    {
      "cell_type": "code",
      "execution_count": 3,
      "metadata": {
        "colab": {
          "base_uri": "https://localhost:8080/"
        },
        "id": "mWlBBth9v1El",
        "outputId": "59d65c99-10f2-4f32-d053-0fce5b7e9307"
      },
      "outputs": [
        {
          "output_type": "stream",
          "name": "stdout",
          "text": [
            "PAN AMS CAS NYC HEL\n",
            "PAN AMS CAS HEL NYC\n",
            "PAN AMS NYC CAS HEL\n",
            "PAN AMS NYC HEL CAS\n",
            "PAN AMS HEL CAS NYC\n",
            "PAN AMS HEL NYC CAS\n",
            "PAN CAS AMS NYC HEL\n",
            "PAN CAS AMS HEL NYC\n",
            "PAN CAS NYC AMS HEL\n",
            "PAN CAS NYC HEL AMS\n",
            "PAN CAS HEL AMS NYC\n",
            "PAN CAS HEL NYC AMS\n",
            "PAN NYC AMS CAS HEL\n",
            "PAN NYC AMS HEL CAS\n",
            "PAN NYC CAS AMS HEL\n",
            "PAN NYC CAS HEL AMS\n",
            "PAN NYC HEL AMS CAS\n",
            "PAN NYC HEL CAS AMS\n",
            "PAN HEL AMS CAS NYC\n",
            "PAN HEL AMS NYC CAS\n",
            "PAN HEL CAS AMS NYC\n",
            "PAN HEL CAS NYC AMS\n",
            "PAN HEL NYC AMS CAS\n",
            "PAN HEL NYC CAS AMS\n",
            "24\n"
          ]
        }
      ],
      "source": [
        "def main():\n",
        "    portnames = [\"PAN\", \"AMS\", \"CAS\", \"NYC\", \"HEL\"]\n",
        "\n",
        "    port1 = 0\n",
        "    l = 0\n",
        "    for port2 in range(1, 5):\n",
        "        for port3 in range(1, 5):\n",
        "            for port4 in range(1, 5):\n",
        "                for port5 in range(1, 5):\n",
        "                    route = [port1, port2, port3, port4, port5]\n",
        "\n",
        "                    # Modify this if statement to check if the route is valid\n",
        "                    if set(route) == set(range(5)):\n",
        "                        # do not modify this print statement\n",
        "                        print(' '.join([portnames[i] for i in route]))\n",
        "                        l += 1\n",
        "    print(l)\n",
        "\n",
        "\n",
        "main()"
      ]
    },
    {
      "cell_type": "code",
      "source": [
        "print(set(range(5)))"
      ],
      "metadata": {
        "colab": {
          "base_uri": "https://localhost:8080/"
        },
        "id": "bmX9et4lwJLZ",
        "outputId": "bd5e7c1f-6460-40cc-f0fa-eb51d0bf5dac"
      },
      "execution_count": 4,
      "outputs": [
        {
          "output_type": "stream",
          "name": "stdout",
          "text": [
            "{0, 1, 2, 3, 4}\n"
          ]
        }
      ]
    },
    {
      "cell_type": "code",
      "source": [
        "portnames = [\"PAN\", \"AMS\", \"CAS\", \"NYC\", \"HEL\"]\n",
        "\n",
        "def permutations(route, ports):\n",
        "    if len(ports)==0:\n",
        "        print(' '.join([portnames[i] for i in route]))\n",
        "    else:\n",
        "        for i in range(len(ports)):\n",
        "            if ports[i] not in route:\n",
        "                permutations(route+[ports[i]],ports[:i]+ports[i+1:])\n",
        "\n",
        "# This will start the recursion with 0 (\"PAN\") as the first stop\n",
        "permutations([0], list(range(1, len(portnames))))"
      ],
      "metadata": {
        "colab": {
          "base_uri": "https://localhost:8080/"
        },
        "id": "vLekR-Jew51s",
        "outputId": "2b3f7458-4d4a-4ba9-c306-6e173d9684fc"
      },
      "execution_count": 26,
      "outputs": [
        {
          "output_type": "stream",
          "name": "stdout",
          "text": [
            "PAN AMS CAS NYC HEL\n",
            "PAN AMS CAS HEL NYC\n",
            "PAN AMS NYC CAS HEL\n",
            "PAN AMS NYC HEL CAS\n",
            "PAN AMS HEL CAS NYC\n",
            "PAN AMS HEL NYC CAS\n",
            "PAN CAS AMS NYC HEL\n",
            "PAN CAS AMS HEL NYC\n",
            "PAN CAS NYC AMS HEL\n",
            "PAN CAS NYC HEL AMS\n",
            "PAN CAS HEL AMS NYC\n",
            "PAN CAS HEL NYC AMS\n",
            "PAN NYC AMS CAS HEL\n",
            "PAN NYC AMS HEL CAS\n",
            "PAN NYC CAS AMS HEL\n",
            "PAN NYC CAS HEL AMS\n",
            "PAN NYC HEL AMS CAS\n",
            "PAN NYC HEL CAS AMS\n",
            "PAN HEL AMS CAS NYC\n",
            "PAN HEL AMS NYC CAS\n",
            "PAN HEL CAS AMS NYC\n",
            "PAN HEL CAS NYC AMS\n",
            "PAN HEL NYC AMS CAS\n",
            "PAN HEL NYC CAS AMS\n"
          ]
        }
      ]
    },
    {
      "cell_type": "code",
      "source": [
        "'''\n",
        "Solution ChatGPT\n",
        "'''\n",
        "def permutations(route, portnames):\n",
        "    # If all ports have been visited, print the current route\n",
        "    if len(route) == len(portnames):\n",
        "        print(' '.join([portnames[i] for i in route]))\n",
        "    else:\n",
        "        # Iterate over all possible next ports\n",
        "        for next_port in range(len(portnames)):\n",
        "            if next_port not in route:\n",
        "                # Add the next port to the route and recurse\n",
        "                permutations(route + [next_port], portnames)\n",
        "\n",
        "# Sample portnames list\n",
        "portnames = ['PAN', 'BRA', 'ARG', 'CHL', 'URU']\n",
        "\n",
        "# Start from Panama (index 0) and visit other ports exactly once\n",
        "permutations([0], portnames)"
      ],
      "metadata": {
        "colab": {
          "base_uri": "https://localhost:8080/"
        },
        "id": "SekcHWRd7HNH",
        "outputId": "39d61458-4bd2-490c-cf6c-7a9a12a84dd6"
      },
      "execution_count": 18,
      "outputs": [
        {
          "output_type": "stream",
          "name": "stdout",
          "text": [
            "PAN BRA ARG CHL URU\n",
            "PAN BRA ARG URU CHL\n",
            "PAN BRA CHL ARG URU\n",
            "PAN BRA CHL URU ARG\n",
            "PAN BRA URU ARG CHL\n",
            "PAN BRA URU CHL ARG\n",
            "PAN ARG BRA CHL URU\n",
            "PAN ARG BRA URU CHL\n",
            "PAN ARG CHL BRA URU\n",
            "PAN ARG CHL URU BRA\n",
            "PAN ARG URU BRA CHL\n",
            "PAN ARG URU CHL BRA\n",
            "PAN CHL BRA ARG URU\n",
            "PAN CHL BRA URU ARG\n",
            "PAN CHL ARG BRA URU\n",
            "PAN CHL ARG URU BRA\n",
            "PAN CHL URU BRA ARG\n",
            "PAN CHL URU ARG BRA\n",
            "PAN URU BRA ARG CHL\n",
            "PAN URU BRA CHL ARG\n",
            "PAN URU ARG BRA CHL\n",
            "PAN URU ARG CHL BRA\n",
            "PAN URU CHL BRA ARG\n",
            "PAN URU CHL ARG BRA\n"
          ]
        }
      ]
    },
    {
      "cell_type": "code",
      "source": [],
      "metadata": {
        "id": "LxhpVb5U-GSB"
      },
      "execution_count": null,
      "outputs": []
    }
  ]
}