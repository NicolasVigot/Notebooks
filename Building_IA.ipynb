{
  "nbformat": 4,
  "nbformat_minor": 0,
  "metadata": {
    "colab": {
      "provenance": [],
      "authorship_tag": "ABX9TyMjU1tL1AcRQpo9a9xb20zf",
      "include_colab_link": true
    },
    "kernelspec": {
      "name": "python3",
      "display_name": "Python 3"
    },
    "language_info": {
      "name": "python"
    }
  },
  "cells": [
    {
      "cell_type": "markdown",
      "metadata": {
        "id": "view-in-github",
        "colab_type": "text"
      },
      "source": [
        "<a href=\"https://colab.research.google.com/github/NicolasVigot/Notebooks/blob/master/Building_IA.ipynb\" target=\"_parent\"><img src=\"https://colab.research.google.com/assets/colab-badge.svg\" alt=\"Open In Colab\"/></a>"
      ]
    },
    {
      "cell_type": "code",
      "execution_count": null,
      "metadata": {
        "id": "mWlBBth9v1El"
      },
      "outputs": [],
      "source": [
        "def main():\n",
        "    portnames = [\"PAN\", \"AMS\", \"CAS\", \"NYC\", \"HEL\"]\n",
        "\n",
        "    port1 = 0\n",
        "    l = 0\n",
        "    for port2 in range(1, 5):\n",
        "        for port3 in range(1, 5):\n",
        "            for port4 in range(1, 5):\n",
        "                for port5 in range(1, 5):\n",
        "                    route = [port1, port2, port3, port4, port5]\n",
        "\n",
        "                    # Modify this if statement to check if the route is valid\n",
        "                    if set(route) == set(range(5)):\n",
        "                        # do not modify this print statement\n",
        "                        print(' '.join([portnames[i] for i in route]))\n",
        "                        l += 1\n",
        "    print(l)\n",
        "\n",
        "\n",
        "main()"
      ]
    },
    {
      "cell_type": "code",
      "source": [
        "portnames = [\"PAN\", \"AMS\", \"CAS\", \"NYC\", \"HEL\"]\n",
        "\n",
        "def permutations(route, ports):\n",
        "    if len(ports)<1:\n",
        "        print(' '.join([portnames[i] for i in route]))\n",
        "    else:\n",
        "        for i in range(len(ports)):\n",
        "            if ports[i] not in route:\n",
        "                permutations(route+[ports[i]],ports[:i]+ports[i+1:])\n",
        "\n",
        "# This will start the recursion with 0 (\"PAN\") as the first stop\n",
        "permutations([0], list(range(1, len(portnames))))"
      ],
      "metadata": {
        "colab": {
          "base_uri": "https://localhost:8080/"
        },
        "id": "vLekR-Jew51s",
        "outputId": "eb6f6b56-4592-49be-bc8e-35d831e784ec"
      },
      "execution_count": 11,
      "outputs": [
        {
          "output_type": "stream",
          "name": "stdout",
          "text": [
            "PAN AMS CAS NYC HEL\n",
            "PAN AMS CAS HEL NYC\n",
            "PAN AMS NYC CAS HEL\n",
            "PAN AMS NYC HEL CAS\n",
            "PAN AMS HEL CAS NYC\n",
            "PAN AMS HEL NYC CAS\n",
            "PAN CAS AMS NYC HEL\n",
            "PAN CAS AMS HEL NYC\n",
            "PAN CAS NYC AMS HEL\n",
            "PAN CAS NYC HEL AMS\n",
            "PAN CAS HEL AMS NYC\n",
            "PAN CAS HEL NYC AMS\n",
            "PAN NYC AMS CAS HEL\n",
            "PAN NYC AMS HEL CAS\n",
            "PAN NYC CAS AMS HEL\n",
            "PAN NYC CAS HEL AMS\n",
            "PAN NYC HEL AMS CAS\n",
            "PAN NYC HEL CAS AMS\n",
            "PAN HEL AMS CAS NYC\n",
            "PAN HEL AMS NYC CAS\n",
            "PAN HEL CAS AMS NYC\n",
            "PAN HEL CAS NYC AMS\n",
            "PAN HEL NYC AMS CAS\n",
            "PAN HEL NYC CAS AMS\n"
          ]
        }
      ]
    },
    {
      "cell_type": "code",
      "source": [
        "'''\n",
        "Solution ChatGPT\n",
        "'''\n",
        "def permutations(route, portnames):\n",
        "    # If all ports have been visited, print the current route\n",
        "    if len(route) == len(portnames):\n",
        "        print(' '.join([portnames[i] for i in route]))\n",
        "    else:\n",
        "        # Iterate over all possible next ports\n",
        "        for next_port in range(len(portnames)):\n",
        "            if next_port not in route:\n",
        "                # Add the next port to the route and recurse\n",
        "                permutations(route + [next_port], portnames)\n",
        "\n",
        "# Sample portnames list\n",
        "portnames = ['PAN', 'BRA', 'ARG', 'CHL', 'URU']\n",
        "\n",
        "# Start from Panama (index 0) and visit other ports exactly once\n",
        "permutations([0], portnames)"
      ],
      "metadata": {
        "id": "SekcHWRd7HNH"
      },
      "execution_count": null,
      "outputs": []
    },
    {
      "cell_type": "code",
      "source": [
        "portnames = [\"PAN\", \"AMS\", \"CAS\", \"NYC\", \"HEL\"]\n",
        "\n",
        "D = [\n",
        "        [0,8943,8019,3652,10545],\n",
        "        [8943,0,2619,6317,2078],\n",
        "        [8019,2619,0,5836,4939],\n",
        "        [3652,6317,5836,0,7825],\n",
        "        [10545,2078,4939,7825,0]\n",
        "    ]\n",
        "\n",
        "co2 = 0.02\n",
        "\n",
        "smallest = 1000000\n",
        "bestroute = [0,0,0,0,0]\n",
        "\n",
        "def permutations(route, ports):\n",
        "    global smallest,bestroute\n",
        "    if len(ports)<1:\n",
        "        distance = D[route[0]][route[1]] + D[route[1]][route[2]] + D[route[2]][route[3]] + D[route[3]][route[4]]\n",
        "        emissions = distance * co2\n",
        "        if emissions < smallest:\n",
        "            smallest = emissions\n",
        "            bestroute[:] = route[:]\n",
        "\n",
        "    else:\n",
        "        for i in range(len(ports)):\n",
        "            if ports[i] not in route:\n",
        "                permutations(route+[ports[i]],ports[:i]+ports[i+1:])\n",
        "\n",
        "\n",
        "# This will start the recursion with 0 (\"PAN\") as the first stop\n",
        "permutations([0], list(range(1, len(portnames))))\n",
        "\n",
        "print(' '.join([portnames[i] for i in bestroute]) + \" %.1f kg\" % smallest)"
      ],
      "metadata": {
        "id": "LxhpVb5U-GSB",
        "outputId": "199c4298-cd2b-4d13-aec8-2fa5f3a1ea18",
        "colab": {
          "base_uri": "https://localhost:8080/"
        }
      },
      "execution_count": 55,
      "outputs": [
        {
          "output_type": "stream",
          "name": "stdout",
          "text": [
            "PAN NYC CAS AMS HEL 283.7 kg\n"
          ]
        }
      ]
    },
    {
      "cell_type": "code",
      "source": [],
      "metadata": {
        "id": "bFKW1kazHgZV"
      },
      "execution_count": null,
      "outputs": []
    }
  ]
}