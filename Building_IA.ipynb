{
  "nbformat": 4,
  "nbformat_minor": 0,
  "metadata": {
    "colab": {
      "provenance": [],
      "authorship_tag": "ABX9TyNemi+yED8s2cEIeMs4QjF7",
      "include_colab_link": true
    },
    "kernelspec": {
      "name": "python3",
      "display_name": "Python 3"
    },
    "language_info": {
      "name": "python"
    }
  },
  "cells": [
    {
      "cell_type": "markdown",
      "metadata": {
        "id": "view-in-github",
        "colab_type": "text"
      },
      "source": [
        "<a href=\"https://colab.research.google.com/github/NicolasVigot/Notebooks/blob/master/Building_IA.ipynb\" target=\"_parent\"><img src=\"https://colab.research.google.com/assets/colab-badge.svg\" alt=\"Open In Colab\"/></a>"
      ]
    },
    {
      "cell_type": "code",
      "execution_count": null,
      "metadata": {
        "colab": {
          "base_uri": "https://localhost:8080/"
        },
        "id": "mWlBBth9v1El",
        "outputId": "59d65c99-10f2-4f32-d053-0fce5b7e9307"
      },
      "outputs": [
        {
          "output_type": "stream",
          "name": "stdout",
          "text": [
            "PAN AMS CAS NYC HEL\n",
            "PAN AMS CAS HEL NYC\n",
            "PAN AMS NYC CAS HEL\n",
            "PAN AMS NYC HEL CAS\n",
            "PAN AMS HEL CAS NYC\n",
            "PAN AMS HEL NYC CAS\n",
            "PAN CAS AMS NYC HEL\n",
            "PAN CAS AMS HEL NYC\n",
            "PAN CAS NYC AMS HEL\n",
            "PAN CAS NYC HEL AMS\n",
            "PAN CAS HEL AMS NYC\n",
            "PAN CAS HEL NYC AMS\n",
            "PAN NYC AMS CAS HEL\n",
            "PAN NYC AMS HEL CAS\n",
            "PAN NYC CAS AMS HEL\n",
            "PAN NYC CAS HEL AMS\n",
            "PAN NYC HEL AMS CAS\n",
            "PAN NYC HEL CAS AMS\n",
            "PAN HEL AMS CAS NYC\n",
            "PAN HEL AMS NYC CAS\n",
            "PAN HEL CAS AMS NYC\n",
            "PAN HEL CAS NYC AMS\n",
            "PAN HEL NYC AMS CAS\n",
            "PAN HEL NYC CAS AMS\n",
            "24\n"
          ]
        }
      ],
      "source": [
        "def main():\n",
        "    portnames = [\"PAN\", \"AMS\", \"CAS\", \"NYC\", \"HEL\"]\n",
        "\n",
        "    port1 = 0\n",
        "    l = 0\n",
        "    for port2 in range(1, 5):\n",
        "        for port3 in range(1, 5):\n",
        "            for port4 in range(1, 5):\n",
        "                for port5 in range(1, 5):\n",
        "                    route = [port1, port2, port3, port4, port5]\n",
        "\n",
        "                    # Modify this if statement to check if the route is valid\n",
        "                    if set(route) == set(range(5)):\n",
        "                        # do not modify this print statement\n",
        "                        print(' '.join([portnames[i] for i in route]))\n",
        "                        l += 1\n",
        "    print(l)\n",
        "\n",
        "\n",
        "main()"
      ]
    },
    {
      "cell_type": "code",
      "source": [
        "print(set(range(5)))"
      ],
      "metadata": {
        "colab": {
          "base_uri": "https://localhost:8080/"
        },
        "id": "bmX9et4lwJLZ",
        "outputId": "bd5e7c1f-6460-40cc-f0fa-eb51d0bf5dac"
      },
      "execution_count": null,
      "outputs": [
        {
          "output_type": "stream",
          "name": "stdout",
          "text": [
            "{0, 1, 2, 3, 4}\n"
          ]
        }
      ]
    },
    {
      "cell_type": "code",
      "source": [
        "portnames = [\"PAN\", \"AMS\", \"CAS\", \"NYC\", \"HEL\"]\n",
        "\n",
        "def permutations(route, ports):\n",
        "    if len(ports)<1:\n",
        "        print(' '.join([portnames[i] for i in route]))\n",
        "    else:\n",
        "        for i in range(len(ports)):\n",
        "            if ports[i] not in route:\n",
        "                permutations(route+[ports[i]],ports[:i]+ports[i+1:])\n",
        "\n",
        "# This will start the recursion with 0 (\"PAN\") as the first stop\n",
        "permutations([0], list(range(1, len(portnames))))"
      ],
      "metadata": {
        "colab": {
          "base_uri": "https://localhost:8080/"
        },
        "id": "vLekR-Jew51s",
        "outputId": "2b3f7458-4d4a-4ba9-c306-6e173d9684fc"
      },
      "execution_count": null,
      "outputs": [
        {
          "output_type": "stream",
          "name": "stdout",
          "text": [
            "PAN AMS CAS NYC HEL\n",
            "PAN AMS CAS HEL NYC\n",
            "PAN AMS NYC CAS HEL\n",
            "PAN AMS NYC HEL CAS\n",
            "PAN AMS HEL CAS NYC\n",
            "PAN AMS HEL NYC CAS\n",
            "PAN CAS AMS NYC HEL\n",
            "PAN CAS AMS HEL NYC\n",
            "PAN CAS NYC AMS HEL\n",
            "PAN CAS NYC HEL AMS\n",
            "PAN CAS HEL AMS NYC\n",
            "PAN CAS HEL NYC AMS\n",
            "PAN NYC AMS CAS HEL\n",
            "PAN NYC AMS HEL CAS\n",
            "PAN NYC CAS AMS HEL\n",
            "PAN NYC CAS HEL AMS\n",
            "PAN NYC HEL AMS CAS\n",
            "PAN NYC HEL CAS AMS\n",
            "PAN HEL AMS CAS NYC\n",
            "PAN HEL AMS NYC CAS\n",
            "PAN HEL CAS AMS NYC\n",
            "PAN HEL CAS NYC AMS\n",
            "PAN HEL NYC AMS CAS\n",
            "PAN HEL NYC CAS AMS\n"
          ]
        }
      ]
    },
    {
      "cell_type": "code",
      "source": [
        "'''\n",
        "Solution ChatGPT\n",
        "'''\n",
        "def permutations(route, portnames):\n",
        "    # If all ports have been visited, print the current route\n",
        "    if len(route) == len(portnames):\n",
        "        print(' '.join([portnames[i] for i in route]))\n",
        "    else:\n",
        "        # Iterate over all possible next ports\n",
        "        for next_port in range(len(portnames)):\n",
        "            if next_port not in route:\n",
        "                # Add the next port to the route and recurse\n",
        "                permutations(route + [next_port], portnames)\n",
        "\n",
        "# Sample portnames list\n",
        "portnames = ['PAN', 'BRA', 'ARG', 'CHL', 'URU']\n",
        "\n",
        "# Start from Panama (index 0) and visit other ports exactly once\n",
        "permutations([0], portnames)"
      ],
      "metadata": {
        "colab": {
          "base_uri": "https://localhost:8080/"
        },
        "id": "SekcHWRd7HNH",
        "outputId": "39d61458-4bd2-490c-cf6c-7a9a12a84dd6"
      },
      "execution_count": null,
      "outputs": [
        {
          "output_type": "stream",
          "name": "stdout",
          "text": [
            "PAN BRA ARG CHL URU\n",
            "PAN BRA ARG URU CHL\n",
            "PAN BRA CHL ARG URU\n",
            "PAN BRA CHL URU ARG\n",
            "PAN BRA URU ARG CHL\n",
            "PAN BRA URU CHL ARG\n",
            "PAN ARG BRA CHL URU\n",
            "PAN ARG BRA URU CHL\n",
            "PAN ARG CHL BRA URU\n",
            "PAN ARG CHL URU BRA\n",
            "PAN ARG URU BRA CHL\n",
            "PAN ARG URU CHL BRA\n",
            "PAN CHL BRA ARG URU\n",
            "PAN CHL BRA URU ARG\n",
            "PAN CHL ARG BRA URU\n",
            "PAN CHL ARG URU BRA\n",
            "PAN CHL URU BRA ARG\n",
            "PAN CHL URU ARG BRA\n",
            "PAN URU BRA ARG CHL\n",
            "PAN URU BRA CHL ARG\n",
            "PAN URU ARG BRA CHL\n",
            "PAN URU ARG CHL BRA\n",
            "PAN URU CHL BRA ARG\n",
            "PAN URU CHL ARG BRA\n"
          ]
        }
      ]
    },
    {
      "cell_type": "code",
      "source": [
        "def main():\n",
        "    countries = ['Denmark', 'Finland', 'Iceland', 'Norway', 'Sweden']\n",
        "    populations = [5615000, 5439000, 324000, 5080000, 9609000]\n",
        "    fishers = [1891, 2652, 3800, 11611, 1757]\n",
        "\n",
        "    total_fishers = sum(fishers)\n",
        "    total_population = sum(populations)\n",
        "\n",
        "    # write your solution here\n",
        "\n",
        "    for country, fisher in zip(countries, fishers):\n",
        "        print(\"%s %.2f%%\" % (country, 100*fisher/total_fishers)) # modify this to print correct results\n",
        "\n",
        "main()"
      ],
      "metadata": {
        "colab": {
          "base_uri": "https://localhost:8080/"
        },
        "id": "LxhpVb5U-GSB",
        "outputId": "3cfd2f1e-f270-4db3-bdb2-9fb71197a9e9"
      },
      "execution_count": null,
      "outputs": [
        {
          "output_type": "stream",
          "name": "stdout",
          "text": [
            "Denmark 8.71%\n",
            "Finland 12.22%\n",
            "Iceland 17.50%\n",
            "Norway 53.48%\n",
            "Sweden 8.09%\n"
          ]
        }
      ]
    },
    {
      "cell_type": "code",
      "source": [
        "countries = ['Denmark', 'Finland', 'Iceland', 'Norway', 'Sweden']\n",
        "populations = [5615000, 5439000, 324000, 5080000, 9609000]\n",
        "male_fishers = [1822, 2575, 3400, 11291, 1731]\n",
        "female_fishers = [69, 77, 400, 320, 26]\n",
        "\n",
        "def guess(winner_gender):\n",
        "    if winner_gender == 'female':\n",
        "        fishers = female_fishers\n",
        "    else:\n",
        "        fishers = male_fishers\n",
        "\n",
        "    total_fishers = sum(fishers)\n",
        "\n",
        "    prob = [100*k/total_fishers for k in fishers]\n",
        "\n",
        "    biggest = max(prob)\n",
        "    guess = countries[prob.index(biggest)]\n",
        "    return (guess, biggest)\n",
        "\n",
        "def main():\n",
        "    country, fraction = guess(\"male\")\n",
        "    print(\"if the winner is male, my guess is he's from %s; probability %.2f%%\" % (country, fraction))\n",
        "    country, fraction = guess(\"female\")\n",
        "    print(\"if the winner is female, my guess is she's from %s; probability %.2f%%\" % (country, fraction))\n",
        "\n",
        "main()"
      ],
      "metadata": {
        "id": "1pAYsO6VrI1Y",
        "colab": {
          "base_uri": "https://localhost:8080/"
        },
        "outputId": "2a8d3187-46a3-4a14-dee9-900e708202bd"
      },
      "execution_count": null,
      "outputs": [
        {
          "output_type": "stream",
          "name": "stdout",
          "text": [
            "if the winner is male, my guess is he's from Norway; probability 54.23%\n",
            "if the winner is female, my guess is she's from Iceland; probability 44.84%\n"
          ]
        }
      ]
    },
    {
      "cell_type": "code",
      "source": [
        "countries = ['Denmark', 'Finland', 'Iceland', 'Norway', 'Sweden']\n",
        "countries.index('Finlands')"
      ],
      "metadata": {
        "colab": {
          "base_uri": "https://localhost:8080/",
          "height": 191
        },
        "id": "7aePz6cSEuOG",
        "outputId": "788b826d-dbda-4e75-c424-098ee089957d"
      },
      "execution_count": null,
      "outputs": [
        {
          "output_type": "error",
          "ename": "ValueError",
          "evalue": "ignored",
          "traceback": [
            "\u001b[0;31m---------------------------------------------------------------------------\u001b[0m",
            "\u001b[0;31mValueError\u001b[0m                                Traceback (most recent call last)",
            "\u001b[0;32m<ipython-input-7-3b67857eb770>\u001b[0m in \u001b[0;36m<cell line: 2>\u001b[0;34m()\u001b[0m\n\u001b[1;32m      1\u001b[0m \u001b[0mcountries\u001b[0m \u001b[0;34m=\u001b[0m \u001b[0;34m[\u001b[0m\u001b[0;34m'Denmark'\u001b[0m\u001b[0;34m,\u001b[0m \u001b[0;34m'Finland'\u001b[0m\u001b[0;34m,\u001b[0m \u001b[0;34m'Iceland'\u001b[0m\u001b[0;34m,\u001b[0m \u001b[0;34m'Norway'\u001b[0m\u001b[0;34m,\u001b[0m \u001b[0;34m'Sweden'\u001b[0m\u001b[0;34m]\u001b[0m\u001b[0;34m\u001b[0m\u001b[0;34m\u001b[0m\u001b[0m\n\u001b[0;32m----> 2\u001b[0;31m \u001b[0mcountries\u001b[0m\u001b[0;34m.\u001b[0m\u001b[0mindex\u001b[0m\u001b[0;34m(\u001b[0m\u001b[0;34m'Finlands'\u001b[0m\u001b[0;34m)\u001b[0m\u001b[0;34m\u001b[0m\u001b[0;34m\u001b[0m\u001b[0m\n\u001b[0m",
            "\u001b[0;31mValueError\u001b[0m: 'Finlands' is not in list"
          ]
        }
      ]
    },
    {
      "cell_type": "code",
      "source": [
        "def bot8(pbot, p8_bot, p8_human):\n",
        "    p8 = p8_bot * pbot + p8_human * (1 - pbot)\n",
        "    pbot_8 = p8_bot * pbot / p8\n",
        "    return(pbot_8)\n",
        "\n",
        "# you can change these values to test your program with different values\n",
        "pbot = 0.1\n",
        "p8_bot = 0.8\n",
        "p8_human = 0.05\n",
        "\n",
        "print(bot8(pbot, p8_bot, p8_human))"
      ],
      "metadata": {
        "colab": {
          "base_uri": "https://localhost:8080/"
        },
        "id": "LkzTMVAaFGEh",
        "outputId": "6a214903-8a9c-45ca-ea43-a6ecaf725031"
      },
      "execution_count": null,
      "outputs": [
        {
          "output_type": "stream",
          "name": "stdout",
          "text": [
            "0.64\n"
          ]
        }
      ]
    },
    {
      "cell_type": "code",
      "source": [
        "import numpy as np\n",
        "\n",
        "p1 = [1/6, 1/6, 1/6, 1/6, 1/6, 1/6]   # normal\n",
        "p2 = [0.1, 0.1, 0.1, 0.1, 0.1, 0.5]   # loaded\n",
        "\n",
        "def roll(loaded):\n",
        "    if loaded:\n",
        "        print(\"rolling a loaded die\")\n",
        "        p = p2\n",
        "    else:\n",
        "        print(\"rolling a normal die\")\n",
        "        p = p1\n",
        "\n",
        "    # roll the dice 10 times\n",
        "    # add 1 to get dice rolls from 1 to 6 instead of 0 to 5\n",
        "    sequence = np.random.choice(6, size=10, p=p) + 1\n",
        "    for roll in sequence:\n",
        "        print(\"rolled %d\" % roll)\n",
        "\n",
        "    return sequence\n",
        "\n",
        "def bayes(sequence):\n",
        "    odds = 1.0           # start with odds 1:1\n",
        "    for roll in sequence:\n",
        "        odds *= p2[roll-1]/p1[roll-1]\n",
        "    if odds > 1:\n",
        "        return True\n",
        "    else:\n",
        "        return False\n",
        "\n",
        "sequence = roll(False)\n",
        "if bayes(sequence):\n",
        "    print(\"I think loaded\")\n",
        "else:\n",
        "    print(\"I think normal\")"
      ],
      "metadata": {
        "id": "3BwvQEULKydy",
        "colab": {
          "base_uri": "https://localhost:8080/"
        },
        "outputId": "797567fe-62e6-41d5-e879-04dfcf991298"
      },
      "execution_count": 4,
      "outputs": [
        {
          "output_type": "stream",
          "name": "stdout",
          "text": [
            "rolling a normal die\n",
            "rolled 5\n",
            "rolled 1\n",
            "rolled 5\n",
            "rolled 6\n",
            "rolled 1\n",
            "rolled 1\n",
            "rolled 1\n",
            "rolled 2\n",
            "rolled 6\n",
            "rolled 4\n",
            "I think normal\n"
          ]
        }
      ]
    },
    {
      "cell_type": "code",
      "source": [],
      "metadata": {
        "id": "wh1TUxmjG0Ah"
      },
      "execution_count": null,
      "outputs": []
    }
  ]
}