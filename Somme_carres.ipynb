{
 "cells": [
  {
   "cell_type": "markdown",
   "metadata": {},
   "source": [
    "# Rappels \n",
    "Ce fichier est un *Jupyter notebook*, ou plus simplement un notebook. Il permet à la fois d'écrire du texte (pour donner des consignes ou écrire un résultat), et d'éxécuter du code Python. \n",
    "\n",
    "Dans ce notebook, le contenu est organisé dans des *cellules*. Il existe deux types de cellules : \n",
    "- les cellules de texte (comme celle que vous lisez en ce moment) ;\n",
    "- les cellules de code (qui contiennent le code Python qui sera exécuté) ;\n",
    "\n",
    "Le code d'une cellule doit être exécuté pour fonctionner. Pour éxécuter une cellule de code, deux possibilités : \n",
    "- cliquer sur le symbole \"lecture\" qui apparaît à gauche de la cellule quand on passe la souris dessus ;\n",
    "- presser shift+enter sur le clavier. \n",
    "\n",
    "Essayez par exemple d'exécuter le code suivant : "
   ]
  },
  {
   "cell_type": "code",
   "execution_count": null,
   "metadata": {},
   "outputs": [],
   "source": [
    "for i in range(1,11):\n",
    "    print(i)"
   ]
  },
  {
   "cell_type": "markdown",
   "metadata": {},
   "source": [
    "La commande `for in in range(,):` permet d'effectuer une *boucle bornée*.  "
   ]
  },
  {
   "cell_type": "markdown",
   "metadata": {},
   "source": [
    "Une *liste* en Python est une collection ordonnées d'objets. Elle se déclare entre *crochets*. Par exemple, pour générer la liste des 10 premiers entiers impairs, on peut éxécuter le code suivant : "
   ]
  },
  {
   "cell_type": "code",
   "execution_count": null,
   "metadata": {},
   "outputs": [],
   "source": [
    "L = [2*k+1 for k in range(10)]\n",
    "print(L)"
   ]
  },
  {
   "cell_type": "markdown",
   "metadata": {},
   "source": [
    "Il existe une fonction `sum` qui permet de calculer la somme des termes d'une liste (quand cette somme a un sens). Dans le cas précédent pas exemple : "
   ]
  },
  {
   "cell_type": "code",
   "execution_count": null,
   "metadata": {},
   "outputs": [],
   "source": [
    "sum(L)"
   ]
  },
  {
   "cell_type": "markdown",
   "metadata": {},
   "source": [
    "Pour définir une fonction en Python, on utiliser la commande `def`. Par exemple, pour définir la fonction définie sur $\\mathbb{R}$ par $f(x)=x^2+2x+1$, on écrira : "
   ]
  },
  {
   "cell_type": "code",
   "execution_count": null,
   "metadata": {},
   "outputs": [],
   "source": [
    "def f(x):\n",
    "    return x**2+2*x+1"
   ]
  },
  {
   "cell_type": "markdown",
   "metadata": {},
   "source": [
    "Pour calculer les valeurs de cette fonction, on écrira : "
   ]
  },
  {
   "cell_type": "code",
   "execution_count": null,
   "metadata": {},
   "outputs": [],
   "source": [
    "f(1),f(3),f(5),f(10)"
   ]
  },
  {
   "cell_type": "markdown",
   "metadata": {},
   "source": [
    "Pour construire un tableau de valeurs de la fonction $f$, on pourra par exemple faire : "
   ]
  },
  {
   "cell_type": "code",
   "execution_count": null,
   "metadata": {},
   "outputs": [],
   "source": [
    "[f(x) for x in range(11)]"
   ]
  },
  {
   "cell_type": "markdown",
   "metadata": {},
   "source": [
    "# I. Calculer la somme des carrés des $n$ premiers entiers\n",
    "\n",
    "Activité tirée du manuel **Barbazo, page 22**.\n",
    "\n",
    "On considère la suite $(u_n)$ définie pour tous les entiers $n$ non nuls par :\n",
    "$$u_n = \\dfrac{6}{n}\\left(1^2 + 2^2 + \\ldots + n^2 \\right) = \\dfrac{6}{n} \\sum_{k=1}^{n} k^2$$\n",
    "L'objectif de ce TP est d'afficher et de représenter les premiers termes de la suite $(u_n)$ à l'aide d'un programme Python, puis de trouver une formule simple donnant la somme des carrés des $n$ premiers entier naturels non nuls. "
   ]
  },
  {
   "cell_type": "markdown",
   "metadata": {},
   "source": [
    "1. Compléter le script ci-dessous afin que la fonction renvoie la liste des carrés des entiers de 1 à $n$ : "
   ]
  },
  {
   "cell_type": "code",
   "execution_count": null,
   "metadata": {},
   "outputs": [],
   "source": [
    "def liste_carres(n):\n",
    "    return [...]"
   ]
  },
  {
   "cell_type": "markdown",
   "metadata": {},
   "source": [
    "La ligne suivante vous permettra de tester sur quelques valeurs la fonction <code>liste_carres(n)</code> (vous pouvez l'éxécuter plusieurs fois en changeant la valeur du paramètre)."
   ]
  },
  {
   "cell_type": "code",
   "execution_count": null,
   "metadata": {},
   "outputs": [],
   "source": [
    "liste_carres(10)"
   ]
  },
  {
   "cell_type": "markdown",
   "metadata": {},
   "source": [
    "2. En utilisant la fonction `sum`, écrire une fonction `u` d'argument `n` qui renvoie le terme de rang $n$ de la suite $u$. "
   ]
  },
  {
   "cell_type": "code",
   "execution_count": null,
   "metadata": {},
   "outputs": [],
   "source": [
    "def u(n):\n",
    "    return ..."
   ]
  },
  {
   "cell_type": "markdown",
   "metadata": {},
   "source": [
    "La ligne suivante vous permettra de tester sur quelques valeurs la foction <code>u</code>."
   ]
  },
  {
   "cell_type": "code",
   "execution_count": null,
   "metadata": {},
   "outputs": [],
   "source": [
    "u(10)"
   ]
  },
  {
   "cell_type": "markdown",
   "metadata": {},
   "source": [
    "3. Compléter le script suivant pour créer une liste qui contient les 30 premiers termes de la suite $u$. "
   ]
  },
  {
   "cell_type": "code",
   "execution_count": null,
   "metadata": {},
   "outputs": [],
   "source": [
    "L=[u(k) for k in range(1,31)]\n",
    "print(L)"
   ]
  },
  {
   "cell_type": "markdown",
   "metadata": {},
   "source": [
    "4. Définir la fonction $f$, définie sur $\\mathbb{R}$ par $f(x)=(x+1)(2x+1)$"
   ]
  },
  {
   "cell_type": "code",
   "execution_count": null,
   "metadata": {},
   "outputs": [],
   "source": []
  },
  {
   "cell_type": "markdown",
   "metadata": {},
   "source": [
    "Compléter le script suivant pour crééer une liste qui contient les valeurs de $f(x)$ pour $x \\in \\{1,2,\\ldots, 30\\}$. Vérifier que les valeurs de la fonction $f$ coïncident avec celles de la suite $u$. "
   ]
  },
  {
   "cell_type": "code",
   "execution_count": 64,
   "metadata": {},
   "outputs": [
    {
     "name": "stdout",
     "output_type": "stream",
     "text": [
      "[Ellipsis]\n"
     ]
    }
   ],
   "source": [
    "M=[...]\n",
    "print(M)"
   ]
  },
  {
   "cell_type": "markdown",
   "metadata": {},
   "source": [
    "5. Le script ci-dessous permet d'afficher un nombre donné de points représentant les premiers termes de la suite $(u_n)$ (en rouge), et une courbe représentant la fonction $f$ (en bleu). En utilisant ce script, construire un graphique réprésentant les 100 premiers termes de la suite."
   ]
  },
  {
   "cell_type": "code",
   "execution_count": null,
   "metadata": {},
   "outputs": [],
   "source": [
    "from matplotlib.pyplot import *\n",
    "def trace(nombrepoints):\n",
    "    N=[n for n in range(1,nombrepoints+1)]\n",
    "    U=[u(n) for n in N]\n",
    "    F=[f(n) for n in N]\n",
    "    plot(N,U,'r+')\n",
    "    plot(N,F,'b-')\n",
    "    grid()\n",
    "    show()"
   ]
  },
  {
   "cell_type": "code",
   "execution_count": null,
   "metadata": {},
   "outputs": [],
   "source": [
    "trace(80)"
   ]
  },
  {
   "cell_type": "markdown",
   "metadata": {},
   "source": [
    "6. À l'aide d'un raisonnement par récurrence, démontrer que l'égalité $u_n=(n+1)(2n+1)$ est vraie pour tout entier naturel $n$ non nul. \n",
    "7. En déduire une formule simple donnant la somme des carrés des $n$ premiers entiers non nuls."
   ]
  },
  {
   "cell_type": "markdown",
   "metadata": {},
   "source": [
    "# II. Limites des fonctions : taux d'équipement en enceintes numériques\n",
    "Activité tirée du manuel **Barbazo, page 90**. \n",
    "\n",
    "La proportion d'individus qui possèdent une enceinte numérique est modélisée par la fonction $p$ définie sur $[0;+\\infty[$ par \n",
    "$$p(x)=\\frac{1}{1+\\mathrm{e}^{-0,2x}}$$\n",
    "Le réel $x$ représente le temps écoulé, en années, depuis le 1er janvier 2020. \n",
    "\n",
    "Le nombre $p(x)$ représente la proportion d'individus équipés après $x$ années. "
   ]
  },
  {
   "cell_type": "markdown",
   "metadata": {},
   "source": [
    "1. Compléter la fonction suivante afin qu'elle renvoie les valeurs de la fonction $p$ : "
   ]
  },
  {
   "cell_type": "code",
   "execution_count": null,
   "metadata": {},
   "outputs": [],
   "source": [
    "from math import exp\n",
    "def p(x):\n",
    "    return ..."
   ]
  },
  {
   "cell_type": "markdown",
   "metadata": {},
   "source": [
    "Utiliser cette fonction pour calculer le liste des $p(x)$ pour $x \\in \\{1,2,3,\\ldots,10\\}$. Comment interpréter ces résultats dans le contexte de ce TP ?"
   ]
  },
  {
   "cell_type": "code",
   "execution_count": null,
   "metadata": {},
   "outputs": [],
   "source": []
  },
  {
   "cell_type": "markdown",
   "metadata": {},
   "source": [
    "2. La fonction suivante permet de tracer une représentation graphique de la fonction $p$. Conjecturer la limite de $p$ en $+\\infty$. Démontrer par un calcul ce résultat. "
   ]
  },
  {
   "cell_type": "code",
   "execution_count": null,
   "metadata": {},
   "outputs": [],
   "source": [
    "from matplotlib.pyplot import *\n",
    "def trace(borne):\n",
    "    X=[x for x in range(borne)]\n",
    "    Y=[p(x) for x in X]\n",
    "    plot(X,Y,'b-')\n",
    "    grid()\n",
    "    show()"
   ]
  },
  {
   "cell_type": "code",
   "execution_count": null,
   "metadata": {},
   "outputs": [],
   "source": [
    "trace(50)"
   ]
  },
  {
   "cell_type": "markdown",
   "metadata": {},
   "source": [
    "3. On considère la fonction ci-dessous. Que renvoie cette fonction, et que représente chacune des variables `f`, `N` et `pas`?"
   ]
  },
  {
   "cell_type": "code",
   "execution_count": null,
   "metadata": {},
   "outputs": [],
   "source": [
    "def seuil(f,N,pas):\n",
    "    x=0\n",
    "    y=f(0)\n",
    "    while y<N:\n",
    "        x=x+pas\n",
    "        y=f(x)\n",
    "    return(x,y)"
   ]
  },
  {
   "cell_type": "markdown",
   "metadata": {},
   "source": [
    "4. Utiliser cette fonction pour déterminer à $0,1$ près la plus petite valeur de $x$ telle que $f(x)>0,7$."
   ]
  },
  {
   "cell_type": "code",
   "execution_count": null,
   "metadata": {},
   "outputs": [],
   "source": [
    "seuil(p,0.7,0.1)"
   ]
  },
  {
   "cell_type": "markdown",
   "metadata": {},
   "source": [
    "5. Que se passe-t-il si on exécute la commande `seuil(p,3,0.1)`? Pourquoi ?"
   ]
  },
  {
   "cell_type": "code",
   "execution_count": null,
   "metadata": {},
   "outputs": [],
   "source": []
  },
  {
   "cell_type": "markdown",
   "metadata": {},
   "source": [
    "6. On considère que le marché est saturé lorsque la proportion d'individus équipés dépasse 95 %. Expliquer pourquoi, d'après cette modélisation, cela se produira un jour, puis déterminer l'année au cours de laquelle cela arrivera. "
   ]
  },
  {
   "cell_type": "code",
   "execution_count": null,
   "metadata": {},
   "outputs": [],
   "source": []
  }
 ],
 "metadata": {
  "interpreter": {
   "hash": "9c968a6ecd4c3dbafedc6be50df13be77537bb66ef22dafa4c339ef983f656df"
  },
  "kernelspec": {
   "display_name": "Python 3.8.11 64-bit ('base': conda)",
   "name": "python3"
  },
  "language_info": {
   "codemirror_mode": {
    "name": "ipython",
    "version": 3
   },
   "file_extension": ".py",
   "mimetype": "text/x-python",
   "name": "python",
   "nbconvert_exporter": "python",
   "pygments_lexer": "ipython3",
   "version": "3.8.11"
  },
  "orig_nbformat": 4
 },
 "nbformat": 4,
 "nbformat_minor": 2
}
