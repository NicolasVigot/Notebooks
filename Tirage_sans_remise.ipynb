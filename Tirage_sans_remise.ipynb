{
  "nbformat": 4,
  "nbformat_minor": 0,
  "metadata": {
    "colab": {
      "provenance": [],
      "authorship_tag": "ABX9TyPSb3wzUqlOkiHlhyLCDhhb",
      "include_colab_link": true
    },
    "kernelspec": {
      "name": "python3",
      "display_name": "Python 3"
    },
    "language_info": {
      "name": "python"
    }
  },
  "cells": [
    {
      "cell_type": "markdown",
      "metadata": {
        "id": "view-in-github",
        "colab_type": "text"
      },
      "source": [
        "<a href=\"https://colab.research.google.com/github/NicolasVigot/Notebooks/blob/master/Tirage_sans_remise.ipynb\" target=\"_parent\"><img src=\"https://colab.research.google.com/assets/colab-badge.svg\" alt=\"Open In Colab\"/></a>"
      ]
    },
    {
      "cell_type": "markdown",
      "source": [
        "D'après https://culturemath.ens.fr/thematiques/lycee/perles-du-second-degre"
      ],
      "metadata": {
        "id": "Ny_7Vy3AH5PB"
      }
    },
    {
      "cell_type": "code",
      "execution_count": 1,
      "metadata": {
        "id": "ShAU_TMw6W_u"
      },
      "outputs": [],
      "source": [
        "import random"
      ]
    },
    {
      "cell_type": "code",
      "source": [
        "def tirage(n, x):\n",
        "    assert x>0\n",
        "    urne = [\"R\",\"B\"]\n",
        "    c = 0\n",
        "    for k in range(n):\n",
        "        t = random.sample(urne, counts=(6,x), k=2)\n",
        "        if t[0] == t[1]:\n",
        "            c += 1\n",
        "    return c/n"
      ],
      "metadata": {
        "id": "oIZAJpAjDkSQ"
      },
      "execution_count": 45,
      "outputs": []
    },
    {
      "cell_type": "code",
      "source": [
        "tirage(100000, 6)"
      ],
      "metadata": {
        "colab": {
          "base_uri": "https://localhost:8080/"
        },
        "id": "cXcf2NALD2Kt",
        "outputId": "3a9392a1-d935-490a-80e8-cddab9020a42"
      },
      "execution_count": 52,
      "outputs": [
        {
          "output_type": "execute_result",
          "data": {
            "text/plain": [
              "0.45445"
            ]
          },
          "metadata": {},
          "execution_count": 52
        }
      ]
    },
    {
      "cell_type": "code",
      "source": [],
      "metadata": {
        "id": "cA1D2piTHLVr"
      },
      "execution_count": null,
      "outputs": []
    }
  ]
}