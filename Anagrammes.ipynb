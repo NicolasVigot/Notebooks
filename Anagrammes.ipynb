{
  "cells": [
    {
      "cell_type": "markdown",
      "metadata": {
        "id": "view-in-github",
        "colab_type": "text"
      },
      "source": [
        "<a href=\"https://colab.research.google.com/github/NicolasVigot/Notebooks/blob/master/Anagrammes.ipynb\" target=\"_parent\"><img src=\"https://colab.research.google.com/assets/colab-badge.svg\" alt=\"Open In Colab\"/></a>"
      ]
    },
    {
      "cell_type": "markdown",
      "metadata": {
        "id": "P6sQHIr7-CMG"
      },
      "source": [
        "# Anagrammes\n",
        "\n",
        "Cette fonction retourne toutes les anagrammes d'un mot donné, en déterminant toutes les permutations de la liste de ses lettres."
      ]
    },
    {
      "cell_type": "code",
      "execution_count": 1,
      "metadata": {
        "id": "zqVdaYGe-CMI"
      },
      "outputs": [],
      "source": [
        "def permute(liste):\n",
        "    if len(liste) <= 1:\n",
        "        return [list(liste)]\n",
        "    else:\n",
        "        permutations = []\n",
        "        for lettre in liste:\n",
        "            sousliste = liste[:]\n",
        "            sousliste.remove(lettre)\n",
        "            permutations.extend([[lettre] + p for p in permute(sousliste)])\n",
        "        return permutations"
      ]
    },
    {
      "cell_type": "code",
      "execution_count": 2,
      "metadata": {
        "id": "Vw7YJ1Kq-CMJ"
      },
      "outputs": [],
      "source": [
        "def anagrammes(mot):\n",
        "    lettres = [lettre for lettre in mot]\n",
        "    permutations = permute(lettres)\n",
        "    return [''.join(mot) for mot in permutations]"
      ]
    },
    {
      "cell_type": "code",
      "execution_count": 3,
      "metadata": {
        "colab": {
          "base_uri": "https://localhost:8080/"
        },
        "id": "r7oRXvzG-CMK",
        "outputId": "14867310-6240-4904-b39d-05eb6727915e"
      },
      "outputs": [
        {
          "output_type": "stream",
          "name": "stdout",
          "text": [
            "['spam', 'spma', 'sapm', 'samp', 'smpa', 'smap', 'psam', 'psma', 'pasm', 'pams', 'pmsa', 'pmas', 'aspm', 'asmp', 'apsm', 'apms', 'amsp', 'amps', 'mspa', 'msap', 'mpsa', 'mpas', 'masp', 'maps']\n"
          ]
        }
      ],
      "source": [
        "print(anagrammes('spam'))"
      ]
    },
    {
      "cell_type": "code",
      "source": [],
      "metadata": {
        "id": "4JM4GzU1-zM4"
      },
      "execution_count": null,
      "outputs": []
    }
  ],
  "metadata": {
    "kernelspec": {
      "display_name": "Python 3",
      "language": "python",
      "name": "python3"
    },
    "language_info": {
      "codemirror_mode": {
        "name": "ipython",
        "version": 3
      },
      "file_extension": ".py",
      "mimetype": "text/x-python",
      "name": "python",
      "nbconvert_exporter": "python",
      "pygments_lexer": "ipython3",
      "version": "3.7.7"
    },
    "colab": {
      "provenance": [],
      "include_colab_link": true
    }
  },
  "nbformat": 4,
  "nbformat_minor": 0
}