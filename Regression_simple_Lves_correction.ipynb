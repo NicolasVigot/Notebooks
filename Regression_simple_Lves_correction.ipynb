{
 "cells": [
  {
   "cell_type": "markdown",
   "metadata": {},
   "source": [
    "# Calculs de regression\n",
    "Dans cette activité, nous allons programmer en Python quelques fonctions qui permettent, de manière simple, de calculer et d'utiliser l'équation de la droite de regression entre deux variables. \n",
    "Plusieurs libraires proposent des fonctions pour calculer une regression. Mais ces fonctions sont souvent peu intuitives d'utilisation. Et l'intérêt ici n'est pas seulement de mettre en œuvre les résultats, mais surtout de programmer nos propres fonctions. "
   ]
  },
  {
   "cell_type": "markdown",
   "metadata": {},
   "source": [
    "## 1. Fabriquons nos outils"
   ]
  },
  {
   "cell_type": "markdown",
   "metadata": {},
   "source": [
    "La cellule suivante permet d'importer la fonction `sqrt`, et de charger les biblothèques utiles."
   ]
  },
  {
   "cell_type": "code",
   "execution_count": 1,
   "metadata": {},
   "outputs": [],
   "source": [
    "from math import sqrt\n",
    "import matplotlib.pyplot as plt\n",
    "from IPython.display import IFrame"
   ]
  },
  {
   "cell_type": "markdown",
   "metadata": {},
   "source": [
    "### Exercice 1\n",
    "Les consignes seront disponibles après avoir éxécuté la cellule ci-dessous. "
   ]
  },
  {
   "cell_type": "code",
   "execution_count": 2,
   "metadata": {},
   "outputs": [
    {
     "data": {
      "text/html": [
       "\n",
       "        <iframe\n",
       "            width=\"100%\"\n",
       "            height=\"600\"\n",
       "            src=\"https://www.codepuzzle.io/IPK7M6S\"\n",
       "            frameborder=\"0\"\n",
       "            allowfullscreen\n",
       "            \n",
       "        ></iframe>\n",
       "        "
      ],
      "text/plain": [
       "<IPython.lib.display.IFrame at 0x7fde91536df0>"
      ]
     },
     "execution_count": 2,
     "metadata": {},
     "output_type": "execute_result"
    }
   ],
   "source": [
    "IFrame('https://www.codepuzzle.io/IPK7M6S', width='100%', height=600)"
   ]
  },
  {
   "cell_type": "markdown",
   "metadata": {},
   "source": [
    "Recopiez ensuite le code de la fonction 'moyenne' obtenu dans la cellule ci-dessous pour pouvoir l'utiliser par la suite."
   ]
  },
  {
   "cell_type": "code",
   "execution_count": 2,
   "metadata": {},
   "outputs": [],
   "source": [
    "def moyenne(X):\n",
    "    M = 0\n",
    "    for k in X:\n",
    "        M = M+k\n",
    "    return M/len(X)"
   ]
  },
  {
   "cell_type": "markdown",
   "metadata": {},
   "source": [
    "### Exercice 2\n",
    "Les consignes seront disponibles après avoir éxécuté la cellule ci-dessous. "
   ]
  },
  {
   "cell_type": "code",
   "execution_count": 4,
   "metadata": {},
   "outputs": [
    {
     "data": {
      "text/html": [
       "\n",
       "        <iframe\n",
       "            width=\"100%\"\n",
       "            height=\"600\"\n",
       "            src=\"https://www.codepuzzle.io/IPLNV45\"\n",
       "            frameborder=\"0\"\n",
       "            allowfullscreen\n",
       "            \n",
       "        ></iframe>\n",
       "        "
      ],
      "text/plain": [
       "<IPython.lib.display.IFrame at 0x7fde91564820>"
      ]
     },
     "execution_count": 4,
     "metadata": {},
     "output_type": "execute_result"
    }
   ],
   "source": [
    "IFrame('https://www.codepuzzle.io/IPLNV45', width='100%', height=600)"
   ]
  },
  {
   "cell_type": "markdown",
   "metadata": {},
   "source": [
    "Recopiez ensuite le code de la fonction 'cov' obtenu dans la cellule ci-dessous pour pouvoir l'utiliser par la suite."
   ]
  },
  {
   "cell_type": "code",
   "execution_count": 3,
   "metadata": {},
   "outputs": [],
   "source": [
    "def cov(X,Y):\n",
    "    assert len(X)==len(Y)\n",
    "    SommeProd = 0\n",
    "    for i in range(len(X)):\n",
    "        SommeProd += X[i]*Y[i]\n",
    "    return SommeProd/len(X) - moyenne(X)*moyenne(Y)"
   ]
  },
  {
   "cell_type": "markdown",
   "metadata": {},
   "source": [
    "### Les autres fonctions"
   ]
  },
  {
   "cell_type": "code",
   "execution_count": 4,
   "metadata": {},
   "outputs": [],
   "source": [
    "# Equation de la droite de regression entre deux listes X et Y. \n",
    "def droitereg(X,Y):\n",
    "    m = cov(X,Y)/cov(X,X)\n",
    "    p = moyenne(Y)-m*moyenne(X)\n",
    "    return (m, p)"
   ]
  },
  {
   "cell_type": "code",
   "execution_count": 5,
   "metadata": {},
   "outputs": [],
   "source": [
    "# Coefficient de corrélation linéaire entre deux variables X et Y\n",
    "def coef_r(X,Y):\n",
    "    return cov(X,Y)/sqrt(cov(X,X)*cov(Y,Y))"
   ]
  },
  {
   "cell_type": "code",
   "execution_count": 6,
   "metadata": {},
   "outputs": [],
   "source": [
    "# Pour faire joli...\n",
    "def affichage(X,Y):\n",
    "    m, p = droitereg(X,Y)\n",
    "    r = coef_r(X,Y)\n",
    "    print(f'y = {m}*x + {p} \\n r={r}')"
   ]
  },
  {
   "cell_type": "code",
   "execution_count": 7,
   "metadata": {},
   "outputs": [],
   "source": [
    "# Afficher le nuage de points\n",
    "def graphe(X,Y):\n",
    "    plt.clf()\n",
    "    plt.scatter(X,Y, color='blue', marker='+')\n",
    "    plt.grid()\n",
    "    plt.show()\n",
    "    return None"
   ]
  },
  {
   "cell_type": "markdown",
   "metadata": {},
   "source": [
    "## 2. Un exemple d'utilisation\n",
    "*Barbazo, page 266*\n",
    "\n",
    "Le service marketing d'un centre commercial veut évaluer l'impact des frais qu'il a engagé en publicité, par mois, sur la fréquentation du centre. \n",
    "Le service a recueilli les données ci-dessous, où $x_i$ est la variable qui prend pour valeur les frais publicitaires (en milliers d'euros), et $y_i$ est la variable qui prend pour valeurs le nombre de clients qui ont fréquenté le centre commercial (en milliers).\n",
    "\n",
    "**Vous utiliserez les fonctions définies dans la première partie pour répondre aux questions ci-dessous**\n",
    "\n",
    "1. Représenter le nuage de points $(x_i~;~y_i)$.\n",
    "3. Déterminer la valeur du coefficient de corrélation linéaire entre les variables $X$ et $Y$. Un ajustement affine est-il adapté ?\n",
    "2. Déterminer l'équation de la droite de regression des moindres carrés de $Y$ en $X$.\n",
    "3. Selon ce modèle, estimer le nombre de clients qui fréquenteront le centre si le service commercial engage 3.000 euros de frais publicitaires. \n",
    "4. Estimer les frais publicitaires à engager pour que le centre reçoive 300.000 clients."
   ]
  },
  {
   "cell_type": "code",
   "execution_count": 8,
   "metadata": {},
   "outputs": [],
   "source": [
    "X = [1.9, 2.4, 1.5, 0.9, 2.3, 1.7, 2.5, 1.9]\n",
    "Y = [190, 250, 170, 150, 210, 180, 275, 185]"
   ]
  },
  {
   "cell_type": "code",
   "execution_count": 15,
   "metadata": {},
   "outputs": [
    {
     "data": {
      "image/png": "[encoded data removed]",
      "text/plain": [
       "<Figure size 640x480 with 1 Axes>"
      ]
     },
     "metadata": {},
     "output_type": "display_data"
    }
   ],
   "source": [
    "# 1. Tracer le nuage de points\n",
    "graphe(X,Y)"
   ]
  },
  {
   "cell_type": "markdown",
   "metadata": {},
   "source": [
    "**Vérifiez les résultats obtenus à l'aide d'une calculatrice.**"
   ]
  },
  {
   "cell_type": "code",
   "execution_count": 10,
   "metadata": {},
   "outputs": [
    {
     "data": {
      "text/plain": [
       "0.8990974319195882"
      ]
     },
     "execution_count": 10,
     "metadata": {},
     "output_type": "execute_result"
    }
   ],
   "source": [
    "# 2. Coefficient de corrélation\n",
    "coef_r(X,Y)"
   ]
  },
  {
   "cell_type": "markdown",
   "metadata": {},
   "source": [
    "La valeur de $r$, proche de 1, justifie d'utiliser un modèle de régression linéaire entre les variables X et Y. "
   ]
  },
  {
   "cell_type": "code",
   "execution_count": 11,
   "metadata": {},
   "outputs": [
    {
     "name": "stdout",
     "output_type": "stream",
     "text": [
      "y = 71.17460317460318*x + 66.90793650793651 \n",
      " r=0.8990974319195882\n"
     ]
    }
   ],
   "source": [
    "# 3. Équation de la droite de régression\n",
    "affichage(X,Y)"
   ]
  },
  {
   "cell_type": "code",
   "execution_count": 12,
   "metadata": {},
   "outputs": [
    {
     "data": {
      "text/plain": [
       "280.431746031746"
      ]
     },
     "execution_count": 12,
     "metadata": {},
     "output_type": "execute_result"
    }
   ],
   "source": [
    "# 4. Extrapolation pour 3.000 euros de dépenses publitaires\n",
    "m,p = droitereg(X,Y)\n",
    "3*m+p"
   ]
  },
  {
   "cell_type": "markdown",
   "metadata": {},
   "source": [
    "Pour 3.000 euros de dépenses publicitaires, le centre peut espérer recevoir 280.400 clients."
   ]
  },
  {
   "cell_type": "code",
   "execution_count": 13,
   "metadata": {},
   "outputs": [
    {
     "data": {
      "text/plain": [
       "3.4200037957866765"
      ]
     },
     "execution_count": 13,
     "metadata": {},
     "output_type": "execute_result"
    }
   ],
   "source": [
    "# 5. Pour avoir 300.000 clients\n",
    "(300-m)/p"
   ]
  },
  {
   "cell_type": "markdown",
   "metadata": {},
   "source": [
    "Pour 3.420 euros de dépenses publicitaires, le centre peut anticiper de recevoir 300.000 clients, si la tendance observée se poursuit."
   ]
  },
  {
   "cell_type": "markdown",
   "metadata": {},
   "source": [
    "## 3. En Bonus...\n",
    "\n",
    "Le code ci-dessous permet d'afficher sur un même graphique la droite de regression et le nuage de points."
   ]
  },
  {
   "cell_type": "code",
   "execution_count": 16,
   "metadata": {},
   "outputs": [
    {
     "data": {
      "image/png": "[encoded data removed]",
      "text/plain": [
       "<Figure size 640x480 with 1 Axes>"
      ]
     },
     "metadata": {},
     "output_type": "display_data"
    }
   ],
   "source": [
    "m, p = droitereg(X, Y)\n",
    "Z = [m*x+p for x in X]\n",
    "plt.clf()\n",
    "plt.plot(X, Y, 'b+', label = '$y_i$')\n",
    "plt.plot(X, Z, 'r-', label = 'estimation')\n",
    "plt.grid()\n",
    "plt.legend()\n",
    "plt.show()"
   ]
  },
  {
   "cell_type": "code",
   "execution_count": null,
   "metadata": {},
   "outputs": [],
   "source": []
  }
 ],
 "metadata": {
  "kernelspec": {
   "display_name": "Python 3 (ipykernel)",
   "language": "python",
   "name": "python3"
  },
  "language_info": {
   "codemirror_mode": {
    "name": "ipython",
    "version": 3
   },
   "file_extension": ".py",
   "mimetype": "text/x-python",
   "name": "python",
   "nbconvert_exporter": "python",
   "pygments_lexer": "ipython3",
   "version": "3.9.13"
  },
  "vscode": {
   "interpreter": {
    "hash": "68281a6a3fe35b4f519b7ef0e645fa1942e56c0ab8243f76f7d225bfc0e0201f"
   }
  }
 },
 "nbformat": 4,
 "nbformat_minor": 4
}
