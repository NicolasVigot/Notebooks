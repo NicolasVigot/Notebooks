{
 "cells": [
  {
   "cell_type": "markdown",
   "metadata": {},
   "source": [
    "# Les algorithmes proposés dans le programme de seconde"
   ]
  },
  {
   "cell_type": "markdown",
   "metadata": {
    "id": "3kViZVq5Zlt3"
   },
   "source": [
    "## Sommaire <a id='sommaire'></a>\n",
    "1. [Déterminer par balaye un encadrement de $\\sqrt{2}$ d'amplitude $10^{-n}$](#exemple1)\n",
    "1. [Déterminer si un entier nautrel $a$ est multiple d'un entier natruel $b$](#exemple2)\n",
    "1. [Pour des entiers $a$ et $b$ donnés, déterminer le plus grand multiple de $b$ inférieur ou égal à $a$](#exemple3)\n",
    "1. [Déterminer si un entier naturel est premier](#exemple4)\n",
    "1. [Déterminer la première puissance d'un nombre positif donné supérieure ou inférieure à une valeur donnée](#exemple5)\n",
    "1. [Étudier l'alignement de trois points dans le plan](#exemple6)\n",
    "1. [Déterminer une équation de droite passant par deux points donnés](#exemple7)\n",
    "1. [Pour une fonction dont le tableau de variations est donné, exemples d'algorithme d'approximation numérique d'un extrêmum](#exemple8)\n",
    "1. [Algorithme de calcul approché de longueur d'une portion de courbe réprésentative de fonction](#exemple9)\n",
    "1. [Pour des données réelles ou issues d'une simulation, lire et comprendre une fonction écrite en Python renvoyant la moyenne $m$, l'écart-type $s$ et la proportion d'éléments appartenant à l'intervalle $[m-2s;m+2s]$](#exemple10)\n",
    "1. [Lire et comprendre une fonction Python renvoyant le nombre ou la fréquence de succès dans un échantillon de taille `n` pour une expérience aléatoire à deux issues](#exemple11)\n",
    "1. [Obeserver la loi des grands nombres à l'aide d'une simulation Python](#exemple12)\n",
    "1. [Simuler N échantillons de taille n d’une expérience aléatoire à deux issues. Si $p$ est la probabilité d’une issue et $f$ sa fréquence observée dans un échantillon, calculer la proportion des cas où l’écart entre $p$ et $f$ est inférieur ou égal à $\\dfrac{1}{\\sqrt{n}}$](#exemple13)"
   ]
  },
  {
   "cell_type": "markdown",
   "metadata": {
    "id": "j_6j9aG-Z6aN"
   },
   "source": [
    "# Nombres et calculs"
   ]
  },
  {
   "cell_type": "markdown",
   "metadata": {
    "id": "uuEhzlUeZ9Vh"
   },
   "source": [
    "## Déterminer un encadrement de $\\sqrt{2}$ d'amplitude $10^{-n}$<a id='exemple1'></a>"
   ]
  },
  {
   "cell_type": "code",
   "execution_count": null,
   "metadata": {
    "id": "J_Y9LzerZe86"
   },
   "outputs": [],
   "source": [
    " def BalayageRacine2(pas):\n",
    "    x=1\n",
    "    while x*x <=2:\n",
    "        x = x + pas\n",
    "    return (x-pas,x)"
   ]
  },
  {
   "cell_type": "code",
   "execution_count": null,
   "metadata": {
    "colab": {
     "base_uri": "https://localhost:8080/"
    },
    "executionInfo": {
     "elapsed": 781,
     "status": "ok",
     "timestamp": 1608673572196,
     "user": {
      "displayName": "Nicolas VIGOT",
      "photoUrl": "https://lh3.googleusercontent.com/a-/AOh14GhuA3CkvPtjrvZqCjZhxk1-VaaIQOXvq6OoqAIm=s64",
      "userId": "09218871399700511056"
     },
     "user_tz": -60
    },
    "id": "TN-RrWxHaoEK",
    "outputId": "57142a9f-1f32-4e45-abac-6a2b34d368ab"
   },
   "outputs": [],
   "source": [
    "BalayageRacine2(0.000001)"
   ]
  },
  {
   "cell_type": "markdown",
   "metadata": {},
   "source": [
    "[Retour au sommaire](#sommaire)"
   ]
  },
  {
   "cell_type": "markdown",
   "metadata": {
    "id": "l53FGLfJbClB"
   },
   "source": [
    "## Déterminer si un entier nautrel $a$ est multiple d'un entier naturel $b$<a id='exemple2'></a>"
   ]
  },
  {
   "cell_type": "code",
   "execution_count": null,
   "metadata": {
    "id": "vmPO22YzarIY"
   },
   "outputs": [],
   "source": [
    " def AestmultipledeB(a,b):\n",
    "    if a%b == 0:\n",
    "        return True\n",
    "    else:\n",
    "        return False"
   ]
  },
  {
   "cell_type": "code",
   "execution_count": null,
   "metadata": {
    "colab": {
     "base_uri": "https://localhost:8080/"
    },
    "executionInfo": {
     "elapsed": 863,
     "status": "ok",
     "timestamp": 1608673745458,
     "user": {
      "displayName": "Nicolas VIGOT",
      "photoUrl": "https://lh3.googleusercontent.com/a-/AOh14GhuA3CkvPtjrvZqCjZhxk1-VaaIQOXvq6OoqAIm=s64",
      "userId": "09218871399700511056"
     },
     "user_tz": -60
    },
    "id": "JHFBkf8QbQf3",
    "outputId": "d1399e26-fd29-465d-f552-a53437485e36"
   },
   "outputs": [],
   "source": [
    "AestmultipledeB(4054,4)"
   ]
  },
  {
   "cell_type": "code",
   "execution_count": null,
   "metadata": {
    "id": "sQHiH5qPbVaT"
   },
   "outputs": [],
   "source": [
    "def AestmultipledeB_2(a,b):\n",
    "    n = 0\n",
    "    while n*b < a:\n",
    "        n = n+1\n",
    "    if n*b == a:\n",
    "        return True\n",
    "    else:\n",
    "        return False"
   ]
  },
  {
   "cell_type": "code",
   "execution_count": null,
   "metadata": {
    "colab": {
     "base_uri": "https://localhost:8080/"
    },
    "executionInfo": {
     "elapsed": 1015,
     "status": "ok",
     "timestamp": 1608673854719,
     "user": {
      "displayName": "Nicolas VIGOT",
      "photoUrl": "https://lh3.googleusercontent.com/a-/AOh14GhuA3CkvPtjrvZqCjZhxk1-VaaIQOXvq6OoqAIm=s64",
      "userId": "09218871399700511056"
     },
     "user_tz": -60
    },
    "id": "xQ3XW0xMbsxK",
    "outputId": "d118f322-6d96-4ae1-fc95-8f53cabccc2e"
   },
   "outputs": [],
   "source": [
    "AestmultipledeB_2(4056,4)"
   ]
  },
  {
   "cell_type": "markdown",
   "metadata": {},
   "source": [
    "[Retour au sommaire](#sommaire)"
   ]
  },
  {
   "cell_type": "markdown",
   "metadata": {
    "id": "q-eGscg3bzGe"
   },
   "source": [
    "## Pour des entiers $a$ et $b$ donnés, déterminer le plus grand multiple de $b$ inférieur ou égal à $a$<a id='exemple3'></a>"
   ]
  },
  {
   "cell_type": "code",
   "execution_count": null,
   "metadata": {
    "id": "0guQGJPKbwDT"
   },
   "outputs": [],
   "source": [
    "def PlusGrandMultiple(a,b):\n",
    "    n = 1\n",
    "    while n*b <= a:\n",
    "        n += 1\n",
    "    return n*b - b"
   ]
  },
  {
   "cell_type": "code",
   "execution_count": null,
   "metadata": {
    "colab": {
     "base_uri": "https://localhost:8080/"
    },
    "executionInfo": {
     "elapsed": 1114,
     "status": "ok",
     "timestamp": 1608674211718,
     "user": {
      "displayName": "Nicolas VIGOT",
      "photoUrl": "https://lh3.googleusercontent.com/a-/AOh14GhuA3CkvPtjrvZqCjZhxk1-VaaIQOXvq6OoqAIm=s64",
      "userId": "09218871399700511056"
     },
     "user_tz": -60
    },
    "id": "Dnnbn3qJcqWe",
    "outputId": "388a48b8-115b-4ffd-d0f6-f30da9c8e183"
   },
   "outputs": [],
   "source": [
    "PlusGrandMultiple(172, 17)"
   ]
  },
  {
   "cell_type": "markdown",
   "metadata": {},
   "source": [
    "[Retour au sommaire](#sommaire)"
   ]
  },
  {
   "cell_type": "markdown",
   "metadata": {
    "id": "bPNdBqBKdLWh"
   },
   "source": [
    "## Déterminer si un entier naturel est premier<a id='exemple4'></a>"
   ]
  },
  {
   "cell_type": "code",
   "execution_count": null,
   "metadata": {
    "id": "FcCzf8umdDck"
   },
   "outputs": [],
   "source": [
    "def EstPremier(n):\n",
    "    for i in range(2, n):\n",
    "        if n%i == 0:\n",
    "            return False\n",
    "    return True"
   ]
  },
  {
   "cell_type": "code",
   "execution_count": null,
   "metadata": {
    "colab": {
     "base_uri": "https://localhost:8080/"
    },
    "executionInfo": {
     "elapsed": 721,
     "status": "ok",
     "timestamp": 1608674355252,
     "user": {
      "displayName": "Nicolas VIGOT",
      "photoUrl": "https://lh3.googleusercontent.com/a-/AOh14GhuA3CkvPtjrvZqCjZhxk1-VaaIQOXvq6OoqAIm=s64",
      "userId": "09218871399700511056"
     },
     "user_tz": -60
    },
    "id": "eZK8pyoRdmgJ",
    "outputId": "523a0e99-d96b-4b90-94ef-08030ebcdfc7"
   },
   "outputs": [],
   "source": [
    "EstPremier(97)"
   ]
  },
  {
   "cell_type": "code",
   "execution_count": null,
   "metadata": {
    "colab": {
     "base_uri": "https://localhost:8080/"
    },
    "executionInfo": {
     "elapsed": 726,
     "status": "ok",
     "timestamp": 1608674364052,
     "user": {
      "displayName": "Nicolas VIGOT",
      "photoUrl": "https://lh3.googleusercontent.com/a-/AOh14GhuA3CkvPtjrvZqCjZhxk1-VaaIQOXvq6OoqAIm=s64",
      "userId": "09218871399700511056"
     },
     "user_tz": -60
    },
    "id": "hh6DLo0rdowP",
    "outputId": "5aea96f5-67e1-42af-ab41-c4fd75c462a7"
   },
   "outputs": [],
   "source": [
    "EstPremier(98)"
   ]
  },
  {
   "cell_type": "code",
   "execution_count": null,
   "metadata": {
    "id": "mS4jPgipdseM"
   },
   "outputs": [],
   "source": [
    "def EstPremier_2(n):\n",
    "    L = []\n",
    "    for i in range(1,n+1):\n",
    "        if n%i == 0:\n",
    "            L.append(i)\n",
    "    if len(L) == 2:\n",
    "        return True, L\n",
    "    else:\n",
    "        return False, L"
   ]
  },
  {
   "cell_type": "code",
   "execution_count": null,
   "metadata": {
    "colab": {
     "base_uri": "https://localhost:8080/"
    },
    "executionInfo": {
     "elapsed": 920,
     "status": "ok",
     "timestamp": 1608674697768,
     "user": {
      "displayName": "Nicolas VIGOT",
      "photoUrl": "https://lh3.googleusercontent.com/a-/AOh14GhuA3CkvPtjrvZqCjZhxk1-VaaIQOXvq6OoqAIm=s64",
      "userId": "09218871399700511056"
     },
     "user_tz": -60
    },
    "id": "uhL_DyhDe7LV",
    "outputId": "4024c510-7951-4c0c-9556-51229cbb90b2"
   },
   "outputs": [],
   "source": [
    "EstPremier_2(97)"
   ]
  },
  {
   "cell_type": "code",
   "execution_count": null,
   "metadata": {
    "colab": {
     "base_uri": "https://localhost:8080/"
    },
    "executionInfo": {
     "elapsed": 812,
     "status": "ok",
     "timestamp": 1608674710186,
     "user": {
      "displayName": "Nicolas VIGOT",
      "photoUrl": "https://lh3.googleusercontent.com/a-/AOh14GhuA3CkvPtjrvZqCjZhxk1-VaaIQOXvq6OoqAIm=s64",
      "userId": "09218871399700511056"
     },
     "user_tz": -60
    },
    "id": "3GGVx9QHe95f",
    "outputId": "749b5071-4902-42ef-c9d4-1057edb4e0d1"
   },
   "outputs": [],
   "source": [
    "EstPremier_2(98)"
   ]
  },
  {
   "cell_type": "markdown",
   "metadata": {},
   "source": [
    "[Retour au sommaire](#sommaire)"
   ]
  },
  {
   "cell_type": "markdown",
   "metadata": {
    "id": "ATgizRfSfI4L"
   },
   "source": [
    "## Déterminer la première puissance d'un nombre positif donné supérieure ou inférieure à une valeur donnée<a id='exemple5'></a>"
   ]
  },
  {
   "cell_type": "code",
   "execution_count": null,
   "metadata": {
    "id": "0EE-JX2JfdG1"
   },
   "outputs": [],
   "source": [
    "def PremièrePuissance(a,b):\n",
    "    p = 1\n",
    "    while p < a:\n",
    "        p *= b\n",
    "    return p/b"
   ]
  },
  {
   "cell_type": "code",
   "execution_count": null,
   "metadata": {
    "colab": {
     "base_uri": "https://localhost:8080/"
    },
    "executionInfo": {
     "elapsed": 727,
     "status": "ok",
     "timestamp": 1608675136411,
     "user": {
      "displayName": "Nicolas VIGOT",
      "photoUrl": "https://lh3.googleusercontent.com/a-/AOh14GhuA3CkvPtjrvZqCjZhxk1-VaaIQOXvq6OoqAIm=s64",
      "userId": "09218871399700511056"
     },
     "user_tz": -60
    },
    "id": "URk3DBr3gjyn",
    "outputId": "e015bcce-3829-47a1-e910-8e89e9216d74"
   },
   "outputs": [],
   "source": [
    "PremièrePuissance(37698, 14)"
   ]
  },
  {
   "cell_type": "markdown",
   "metadata": {},
   "source": [
    "[Retour au sommaire](#sommaire)"
   ]
  },
  {
   "cell_type": "markdown",
   "metadata": {
    "id": "CP6zcyfGg9hR"
   },
   "source": [
    "# Géométrie"
   ]
  },
  {
   "cell_type": "markdown",
   "metadata": {
    "id": "kWeAdv1khKj8"
   },
   "source": [
    "## Étudier l'alignement de trois points du plan<a id='exemple6'></a>"
   ]
  },
  {
   "cell_type": "markdown",
   "metadata": {
    "id": "52HdUiCuhg4z"
   },
   "source": [
    "### En calculant les équations des droites"
   ]
  },
  {
   "cell_type": "code",
   "execution_count": null,
   "metadata": {
    "id": "kTf8U7UAg-7J"
   },
   "outputs": [],
   "source": [
    "def EquationDroite(A,B):\n",
    "    a = (B[1]-A[1])/(B[0]-A[0])\n",
    "    b = A[1] - a*A[0]\n",
    "    return a,b"
   ]
  },
  {
   "cell_type": "code",
   "execution_count": null,
   "metadata": {
    "id": "rH2pP8uli-6z"
   },
   "outputs": [],
   "source": [
    "def Alignés(A,B,C):\n",
    "    if (abs(B[0]-A[0])<10**(-12) and abs(B[1]-A[1])<10**(-12)):\n",
    "        return True\n",
    "    else:\n",
    "        a,b = EquationDroite(A,B)\n",
    "        if abs(C[1]-a*C[0]-b)<10**(-12):\n",
    "            return True\n",
    "        else:\n",
    "            return False"
   ]
  },
  {
   "cell_type": "code",
   "execution_count": null,
   "metadata": {
    "id": "llQV-FaLQbhZ"
   },
   "outputs": [],
   "source": [
    "import matplotlib.pyplot as plt"
   ]
  },
  {
   "cell_type": "code",
   "execution_count": null,
   "metadata": {
    "colab": {
     "base_uri": "https://localhost:8080/"
    },
    "executionInfo": {
     "elapsed": 676,
     "status": "ok",
     "timestamp": 1608799832394,
     "user": {
      "displayName": "Nicolas VIGOT",
      "photoUrl": "https://lh3.googleusercontent.com/a-/AOh14GhuA3CkvPtjrvZqCjZhxk1-VaaIQOXvq6OoqAIm=s64",
      "userId": "09218871399700511056"
     },
     "user_tz": -60
    },
    "id": "v_QMbgVSPvMs",
    "outputId": "9f408eab-97ba-40af-8788-6ef2fc4afd20"
   },
   "outputs": [],
   "source": [
    "A,B,C = (1,1),(2,2),(3,3)\n",
    "Alignés(A,B,C)"
   ]
  },
  {
   "cell_type": "code",
   "execution_count": null,
   "metadata": {
    "colab": {
     "base_uri": "https://localhost:8080/",
     "height": 282
    },
    "executionInfo": {
     "elapsed": 832,
     "status": "ok",
     "timestamp": 1608799868667,
     "user": {
      "displayName": "Nicolas VIGOT",
      "photoUrl": "https://lh3.googleusercontent.com/a-/AOh14GhuA3CkvPtjrvZqCjZhxk1-VaaIQOXvq6OoqAIm=s64",
      "userId": "09218871399700511056"
     },
     "user_tz": -60
    },
    "id": "RROyp-1kQZa6",
    "outputId": "350b1864-2307-4803-ddb6-fe582d7cf1e7"
   },
   "outputs": [],
   "source": [
    "plt.plot([A[0],B[0],C[0]],[A[1],B[1],C[1]],'r+')"
   ]
  },
  {
   "cell_type": "code",
   "execution_count": null,
   "metadata": {
    "colab": {
     "base_uri": "https://localhost:8080/"
    },
    "executionInfo": {
     "elapsed": 682,
     "status": "ok",
     "timestamp": 1608799890889,
     "user": {
      "displayName": "Nicolas VIGOT",
      "photoUrl": "https://lh3.googleusercontent.com/a-/AOh14GhuA3CkvPtjrvZqCjZhxk1-VaaIQOXvq6OoqAIm=s64",
      "userId": "09218871399700511056"
     },
     "user_tz": -60
    },
    "id": "9gIFBxE-P38T",
    "outputId": "0e66c35f-e431-454c-e0c7-abd937fd0f47"
   },
   "outputs": [],
   "source": [
    "A,B,C = (1,1),(1,1),(3,3)\n",
    "Alignés(A,B,C)"
   ]
  },
  {
   "cell_type": "code",
   "execution_count": null,
   "metadata": {
    "colab": {
     "base_uri": "https://localhost:8080/"
    },
    "executionInfo": {
     "elapsed": 705,
     "status": "ok",
     "timestamp": 1608799921098,
     "user": {
      "displayName": "Nicolas VIGOT",
      "photoUrl": "https://lh3.googleusercontent.com/a-/AOh14GhuA3CkvPtjrvZqCjZhxk1-VaaIQOXvq6OoqAIm=s64",
      "userId": "09218871399700511056"
     },
     "user_tz": -60
    },
    "id": "L73I2kGPP8yJ",
    "outputId": "4048d054-1f35-4237-b3cf-9a402427cc32"
   },
   "outputs": [],
   "source": [
    "A,B,C = (1,3),(2,1),(3,2)\n",
    "Alignés(A,B,C)"
   ]
  },
  {
   "cell_type": "code",
   "execution_count": null,
   "metadata": {
    "colab": {
     "base_uri": "https://localhost:8080/",
     "height": 282
    },
    "executionInfo": {
     "elapsed": 617,
     "status": "ok",
     "timestamp": 1608799934716,
     "user": {
      "displayName": "Nicolas VIGOT",
      "photoUrl": "https://lh3.googleusercontent.com/a-/AOh14GhuA3CkvPtjrvZqCjZhxk1-VaaIQOXvq6OoqAIm=s64",
      "userId": "09218871399700511056"
     },
     "user_tz": -60
    },
    "id": "qBKQQ1QzP-6U",
    "outputId": "81c398e7-baf1-47c4-a728-3019cb88f928"
   },
   "outputs": [],
   "source": [
    "plt.plot([A[0],B[0],C[0]],[A[1],B[1],C[1]],'r+')"
   ]
  },
  {
   "cell_type": "markdown",
   "metadata": {
    "id": "7CbRLePaRLCs"
   },
   "source": [
    "### En calculant le déterminant des vecteurs"
   ]
  },
  {
   "cell_type": "code",
   "execution_count": null,
   "metadata": {
    "id": "IHrpdWiURTEy"
   },
   "outputs": [],
   "source": [
    "def déterminant(v1,v2):\n",
    "    return v1[0]*v2[1]-v1[1]*v2[0]"
   ]
  },
  {
   "cell_type": "code",
   "execution_count": null,
   "metadata": {
    "id": "LTzJ2NfaRfA5"
   },
   "outputs": [],
   "source": [
    "def Alignés_2(A,B,C):\n",
    "    v1,v2 = (B[0]-A[0],B[1]-A[1]),(C[0]-A[0],C[1]-A[1])\n",
    "    return True if abs(déterminant(v1,v2)) < 10**(-12) else False\n"
   ]
  },
  {
   "cell_type": "code",
   "execution_count": null,
   "metadata": {
    "colab": {
     "base_uri": "https://localhost:8080/"
    },
    "executionInfo": {
     "elapsed": 600,
     "status": "ok",
     "timestamp": 1608721756988,
     "user": {
      "displayName": "Nicolas VIGOT",
      "photoUrl": "https://lh3.googleusercontent.com/a-/AOh14GhuA3CkvPtjrvZqCjZhxk1-VaaIQOXvq6OoqAIm=s64",
      "userId": "09218871399700511056"
     },
     "user_tz": -60
    },
    "id": "dJK22dlISEhQ",
    "outputId": "f1eb6518-6787-4edc-8a23-2f450c89ff94"
   },
   "outputs": [],
   "source": [
    "A,B,C = (1,1),(2,2),(3,3)\n",
    "Alignés_2(A,B,C)"
   ]
  },
  {
   "cell_type": "code",
   "execution_count": null,
   "metadata": {
    "colab": {
     "base_uri": "https://localhost:8080/"
    },
    "executionInfo": {
     "elapsed": 588,
     "status": "ok",
     "timestamp": 1608721768831,
     "user": {
      "displayName": "Nicolas VIGOT",
      "photoUrl": "https://lh3.googleusercontent.com/a-/AOh14GhuA3CkvPtjrvZqCjZhxk1-VaaIQOXvq6OoqAIm=s64",
      "userId": "09218871399700511056"
     },
     "user_tz": -60
    },
    "id": "lvGff9bESRTE",
    "outputId": "e8b1fc3f-7741-469b-d6e3-ac433b6d146e"
   },
   "outputs": [],
   "source": [
    "A,B,C = (1,2),(2,3),(1,3)\n",
    "Alignés_2(A,B,C)"
   ]
  },
  {
   "cell_type": "markdown",
   "metadata": {},
   "source": [
    "[Retour au sommaire](#sommaire)"
   ]
  },
  {
   "cell_type": "markdown",
   "metadata": {
    "id": "6dXWNlzC8x-M"
   },
   "source": [
    "## Déterminer une équation de droite passant par deux points donnés<a id='exemple7'></a>"
   ]
  },
  {
   "cell_type": "code",
   "execution_count": null,
   "metadata": {
    "id": "fL_GXju28w-W"
   },
   "outputs": [],
   "source": [
    "def EquationDroite(A,B):\n",
    "    a = (B[1]-A[1])/(B[0]-A[0])\n",
    "    b = A[1] - a*A[0]\n",
    "    return a,b"
   ]
  },
  {
   "cell_type": "code",
   "execution_count": null,
   "metadata": {
    "id": "irjiAFu39Z3Y"
   },
   "outputs": [],
   "source": [
    "def AfficherEquation(A,B):\n",
    "    a,b = EquationDroite(A,B)\n",
    "    return 'y='+str(a)+'*x + '+str(b)"
   ]
  },
  {
   "cell_type": "code",
   "execution_count": null,
   "metadata": {
    "colab": {
     "base_uri": "https://localhost:8080/",
     "height": 37
    },
    "executionInfo": {
     "elapsed": 777,
     "status": "ok",
     "timestamp": 1608800216934,
     "user": {
      "displayName": "Nicolas VIGOT",
      "photoUrl": "https://lh3.googleusercontent.com/a-/AOh14GhuA3CkvPtjrvZqCjZhxk1-VaaIQOXvq6OoqAIm=s64",
      "userId": "09218871399700511056"
     },
     "user_tz": -60
    },
    "id": "n0VlUBCV9riS",
    "outputId": "67c7b424-ba8e-4eee-a232-4df799fd3c2d"
   },
   "outputs": [],
   "source": [
    "A,B = (1,2),(3,-2)\n",
    "AfficherEquation(A,B)"
   ]
  },
  {
   "cell_type": "markdown",
   "metadata": {},
   "source": [
    "[Retour au sommaire](#sommaire)"
   ]
  },
  {
   "cell_type": "markdown",
   "metadata": {
    "id": "LBeykyiq-ARN"
   },
   "source": [
    "# Fonctions"
   ]
  },
  {
   "cell_type": "markdown",
   "metadata": {
    "id": "Ea2JFLNs-G-x"
   },
   "source": [
    "## Pour une fonction dont le tableau de variations est donné, algorithmes d'approximation numérique d'un extrêmum(balayage, dichotomie)<a id='exemple8'></a>"
   ]
  },
  {
   "cell_type": "code",
   "execution_count": null,
   "metadata": {
    "id": "w_MAJ--s-fGH"
   },
   "outputs": [],
   "source": [
    "def f(x):\n",
    "    return x**3 + 3*x**2-2*x+1"
   ]
  },
  {
   "cell_type": "code",
   "execution_count": null,
   "metadata": {
    "id": "p1c5dqst9yP8"
   },
   "outputs": [],
   "source": [
    "def BalayerExtreme(f,a,b,pas):\n",
    "    x = a\n",
    "    max = f(x)\n",
    "    while x <= b:\n",
    "        x += pas\n",
    "        if f(x)>max:\n",
    "            max = f(x)\n",
    "            X = x\n",
    "    if X > b:\n",
    "        return b,f(b)\n",
    "    else:\n",
    "        return X,max"
   ]
  },
  {
   "cell_type": "code",
   "execution_count": null,
   "metadata": {
    "colab": {
     "base_uri": "https://localhost:8080/"
    },
    "executionInfo": {
     "elapsed": 663,
     "status": "ok",
     "timestamp": 1608801315390,
     "user": {
      "displayName": "Nicolas VIGOT",
      "photoUrl": "https://lh3.googleusercontent.com/a-/AOh14GhuA3CkvPtjrvZqCjZhxk1-VaaIQOXvq6OoqAIm=s64",
      "userId": "09218871399700511056"
     },
     "user_tz": -60
    },
    "id": "xKKzvHyeBv6x",
    "outputId": "85775e6e-07af-4ff2-eb12-b713c87b6fb4"
   },
   "outputs": [],
   "source": [
    "BalayerExtreme(f,-4,0,0.001)"
   ]
  },
  {
   "cell_type": "markdown",
   "metadata": {},
   "source": [
    "[Retour au sommaire](#sommaire)"
   ]
  },
  {
   "cell_type": "markdown",
   "metadata": {
    "id": "cVGFZZQQCA16"
   },
   "source": [
    "## Calcul approché de la longueur d'une portion de courbe représentative<a id='exemple9'></a>"
   ]
  },
  {
   "cell_type": "code",
   "execution_count": null,
   "metadata": {
    "id": "-LOh2vQ9C6s5"
   },
   "outputs": [],
   "source": [
    "from math import sqrt"
   ]
  },
  {
   "cell_type": "code",
   "execution_count": null,
   "metadata": {
    "id": "I_pnm3nYDGNQ"
   },
   "outputs": [],
   "source": [
    "def distance(A,B):\n",
    "    return sqrt((B[1]-A[1])**2+(B[0]-A[0])**2)"
   ]
  },
  {
   "cell_type": "code",
   "execution_count": null,
   "metadata": {
    "id": "zY_n_fkWSxrZ"
   },
   "outputs": [],
   "source": [
    "def f(x):\n",
    "    return x**3 + 3*x**2 -2*x +1"
   ]
  },
  {
   "cell_type": "code",
   "execution_count": null,
   "metadata": {
    "id": "UAQXb_6GS3Rf"
   },
   "outputs": [],
   "source": [
    "def LongueurCourbe(f,a,b,pas):\n",
    "    x = a\n",
    "    L = 0\n",
    "    while x < b:\n",
    "        A = (x,f(x))\n",
    "        B = (x+pas,f(x+pas))\n",
    "        L = L + distance(A,B)\n",
    "        x += pas\n",
    "    return L"
   ]
  },
  {
   "cell_type": "code",
   "execution_count": null,
   "metadata": {
    "colab": {
     "base_uri": "https://localhost:8080/"
    },
    "executionInfo": {
     "elapsed": 505,
     "status": "ok",
     "timestamp": 1608805952360,
     "user": {
      "displayName": "Nicolas VIGOT",
      "photoUrl": "https://lh3.googleusercontent.com/a-/AOh14GhuA3CkvPtjrvZqCjZhxk1-VaaIQOXvq6OoqAIm=s64",
      "userId": "09218871399700511056"
     },
     "user_tz": -60
    },
    "id": "aJXd4Rd4Tkdk",
    "outputId": "295aee81-f015-4a3f-a0ee-90c0f06ace9a"
   },
   "outputs": [],
   "source": [
    "LongueurCourbe(f,-2,2,0.001)"
   ]
  },
  {
   "cell_type": "markdown",
   "metadata": {},
   "source": [
    "[Retour au sommaire](#sommaire)"
   ]
  },
  {
   "cell_type": "markdown",
   "metadata": {
    "id": "uaegSLqpTxnU"
   },
   "source": [
    "# Statistiques et probabilités"
   ]
  },
  {
   "cell_type": "markdown",
   "metadata": {
    "id": "JWScTg9PUAOg"
   },
   "source": [
    "## Pour des données réelles ou issues d'une simulation, lire et comprendre une fonction écrite en Python renvoyant la moyenne $m$, l'écart-type $s$ et la proportion d'éléments appartenant à l'intervalle $[m-2s;m+2s]$<a id='exemple10'></a>"
   ]
  },
  {
   "cell_type": "code",
   "execution_count": null,
   "metadata": {
    "id": "WUYsGd1udO-a"
   },
   "outputs": [],
   "source": [
    "import numpy as np"
   ]
  },
  {
   "cell_type": "code",
   "execution_count": null,
   "metadata": {
    "id": "Tuugb61Gp-0X"
   },
   "outputs": [],
   "source": [
    "def Paramètres(Liste):\n",
    "    m = np.mean(Liste)\n",
    "    s = np.std(Liste)\n",
    "    n = len(Liste)\n",
    "    effectif = 0\n",
    "    for k in Liste:\n",
    "        if (k > m-2*s) and (k < m+2*s):\n",
    "            effectif += 1\n",
    "    return m,s,effectif/n"
   ]
  },
  {
   "cell_type": "markdown",
   "metadata": {
    "id": "wXiWxGFjpszt"
   },
   "source": [
    "La fonction suivante génère une liste de `n` observations d'une variable aléatoire suivant une loi normale de moyenne `mu` et d'écart-type `sigma`. "
   ]
  },
  {
   "cell_type": "code",
   "execution_count": null,
   "metadata": {
    "id": "NAlyU_9lpdM5"
   },
   "outputs": [],
   "source": [
    "def Simulation(n,mu,sigma):\n",
    "    return sigma*np.random.randn(n)+mu"
   ]
  },
  {
   "cell_type": "code",
   "execution_count": null,
   "metadata": {
    "colab": {
     "base_uri": "https://localhost:8080/"
    },
    "executionInfo": {
     "elapsed": 644,
     "status": "ok",
     "timestamp": 1608979929572,
     "user": {
      "displayName": "Nicolas VIGOT",
      "photoUrl": "https://lh3.googleusercontent.com/a-/AOh14GhuA3CkvPtjrvZqCjZhxk1-VaaIQOXvq6OoqAIm=s64",
      "userId": "09218871399700511056"
     },
     "user_tz": -60
    },
    "id": "aT_FZfZ2prSx",
    "outputId": "455eb2f3-67b3-4df2-95ce-574fcc07bb75"
   },
   "outputs": [],
   "source": [
    "L = Simulation(1000, 10, 1)\n",
    "print(L)"
   ]
  },
  {
   "cell_type": "code",
   "execution_count": null,
   "metadata": {
    "colab": {
     "base_uri": "https://localhost:8080/"
    },
    "executionInfo": {
     "elapsed": 536,
     "status": "ok",
     "timestamp": 1608979932328,
     "user": {
      "displayName": "Nicolas VIGOT",
      "photoUrl": "https://lh3.googleusercontent.com/a-/AOh14GhuA3CkvPtjrvZqCjZhxk1-VaaIQOXvq6OoqAIm=s64",
      "userId": "09218871399700511056"
     },
     "user_tz": -60
    },
    "id": "SolVPADsqySB",
    "outputId": "a7a68c4d-a4e6-4864-bac7-1d8118950fdf"
   },
   "outputs": [],
   "source": [
    "Paramètres(L)"
   ]
  },
  {
   "cell_type": "markdown",
   "metadata": {
    "id": "sh0qPml0rsRO"
   },
   "source": [
    "La fonction suivante permet de générer une représentation graphique de la série. "
   ]
  },
  {
   "cell_type": "code",
   "execution_count": null,
   "metadata": {
    "id": "cfL0FPQTr1Ce"
   },
   "outputs": [],
   "source": [
    "import matplotlib.pyplot as plt"
   ]
  },
  {
   "cell_type": "code",
   "execution_count": null,
   "metadata": {
    "id": "XY22Q4tcq9r_"
   },
   "outputs": [],
   "source": [
    "def Graphique(Liste):\n",
    "    n = len(Liste)\n",
    "    X = range(1,n+1)\n",
    "    m,s,f=Paramètres(Liste)\n",
    "    plt.figure(figsize=(20,10))\n",
    "    plt.plot(X,Liste,'b+')\n",
    "    plt.grid()\n",
    "    plt.axhline(y=m, lw=2, color='g')\n",
    "    plt.axhline(y=m+2*s, lw=2, color='r')\n",
    "    plt.axhline(y=m-2*s, lw=2, color='r')\n",
    "    return None"
   ]
  },
  {
   "cell_type": "code",
   "execution_count": null,
   "metadata": {
    "colab": {
     "base_uri": "https://localhost:8080/",
     "height": 525
    },
    "executionInfo": {
     "elapsed": 1069,
     "status": "ok",
     "timestamp": 1608980676329,
     "user": {
      "displayName": "Nicolas VIGOT",
      "photoUrl": "https://lh3.googleusercontent.com/a-/AOh14GhuA3CkvPtjrvZqCjZhxk1-VaaIQOXvq6OoqAIm=s64",
      "userId": "09218871399700511056"
     },
     "user_tz": -60
    },
    "id": "A1wQ7lvbsU8j",
    "outputId": "016e4945-1f74-4859-87cc-6f7c3a882ae6"
   },
   "outputs": [],
   "source": [
    "Graphique(L)"
   ]
  },
  {
   "cell_type": "markdown",
   "metadata": {},
   "source": [
    "[Retour au sommaire](#sommaire)"
   ]
  },
  {
   "cell_type": "markdown",
   "metadata": {
    "id": "TzgP8Y5CuhE8"
   },
   "source": [
    "## Lire et comprendre une fonction Python renvoyant le nombre ou la fréquence de succès dans un échantillon de taille `n` pour une expérience aléatoire à deux issues<a id='exemple11'></a>"
   ]
  },
  {
   "cell_type": "code",
   "execution_count": null,
   "metadata": {
    "id": "WvkSUPbKHDKJ"
   },
   "outputs": [],
   "source": [
    "import random"
   ]
  },
  {
   "cell_type": "markdown",
   "metadata": {
    "id": "OFyT5jaPQGmG"
   },
   "source": [
    "### Avec une fonction intégrée"
   ]
  },
  {
   "cell_type": "code",
   "execution_count": null,
   "metadata": {
    "id": "ehjM2njnvCxe"
   },
   "outputs": [],
   "source": [
    "def Succès(n,p):\n",
    "    tirage = random.choices([1,0],weights=[p,1-p],k=n)\n",
    "    s = tirage.count(1)\n",
    "    return s, s/n"
   ]
  },
  {
   "cell_type": "code",
   "execution_count": null,
   "metadata": {
    "colab": {
     "base_uri": "https://localhost:8080/"
    },
    "executionInfo": {
     "elapsed": 633,
     "status": "ok",
     "timestamp": 1608989460770,
     "user": {
      "displayName": "Nicolas VIGOT",
      "photoUrl": "https://lh3.googleusercontent.com/a-/AOh14GhuA3CkvPtjrvZqCjZhxk1-VaaIQOXvq6OoqAIm=s64",
      "userId": "09218871399700511056"
     },
     "user_tz": -60
    },
    "id": "WlL4UdXxIagj",
    "outputId": "d0f3a781-71b7-47ee-b0dc-268dde842cae"
   },
   "outputs": [],
   "source": [
    "Succès(1000,0.4)"
   ]
  },
  {
   "cell_type": "markdown",
   "metadata": {
    "id": "YSzy7FfpQK8O"
   },
   "source": [
    "### Sans fonction intégrée"
   ]
  },
  {
   "cell_type": "code",
   "execution_count": null,
   "metadata": {
    "id": "KzYe9MfuQKIt"
   },
   "outputs": [],
   "source": [
    "def Succès_2(n,p):\n",
    "    s = 0\n",
    "    for k in range(n):\n",
    "        if random.random() < p:\n",
    "            s += 1\n",
    "    return s, s/n"
   ]
  },
  {
   "cell_type": "code",
   "execution_count": null,
   "metadata": {
    "colab": {
     "base_uri": "https://localhost:8080/"
    },
    "executionInfo": {
     "elapsed": 625,
     "status": "ok",
     "timestamp": 1608989711965,
     "user": {
      "displayName": "Nicolas VIGOT",
      "photoUrl": "https://lh3.googleusercontent.com/a-/AOh14GhuA3CkvPtjrvZqCjZhxk1-VaaIQOXvq6OoqAIm=s64",
      "userId": "09218871399700511056"
     },
     "user_tz": -60
    },
    "id": "gmPSy2g3QmVG",
    "outputId": "86014aaa-9186-462e-a201-83fad88d9805"
   },
   "outputs": [],
   "source": [
    "Succès_2(1000,0.4)"
   ]
  },
  {
   "cell_type": "markdown",
   "metadata": {},
   "source": [
    "[Retour au sommaire](#sommaire)"
   ]
  },
  {
   "cell_type": "markdown",
   "metadata": {
    "id": "5v4dhRxmuxu1"
   },
   "source": [
    "## Observer la loi des grands nombres à l'aide d'une simulation sur Python<a id='exemple12'></a>"
   ]
  },
  {
   "cell_type": "code",
   "execution_count": null,
   "metadata": {
    "id": "6YcsJqNlRE3v"
   },
   "outputs": [],
   "source": [
    "import random\n",
    "import matplotlib.pyplot as plt"
   ]
  },
  {
   "cell_type": "code",
   "execution_count": null,
   "metadata": {
    "id": "NNji6LozRI4O"
   },
   "outputs": [],
   "source": [
    "def Dé():\n",
    "    D = [1,1,2,3,4,5]\n",
    "    return random.choice(D)"
   ]
  },
  {
   "cell_type": "code",
   "execution_count": null,
   "metadata": {
    "id": "usyiijUJRRBg"
   },
   "outputs": [],
   "source": [
    "def Graphique(n):\n",
    "    X = []\n",
    "    Y = []\n",
    "    s = 0\n",
    "    for k in range(1,n+1):\n",
    "        X.append(k)\n",
    "        if Dé() == 1:\n",
    "            s += 1\n",
    "        Y.append(s/k)\n",
    "    plt.figure(figsize=(20,10))\n",
    "    plt.plot(X,Y,'b+')\n",
    "    plt.grid()"
   ]
  },
  {
   "cell_type": "code",
   "execution_count": null,
   "metadata": {
    "colab": {
     "base_uri": "https://localhost:8080/",
     "height": 524
    },
    "executionInfo": {
     "elapsed": 830,
     "status": "ok",
     "timestamp": 1608990372755,
     "user": {
      "displayName": "Nicolas VIGOT",
      "photoUrl": "https://lh3.googleusercontent.com/a-/AOh14GhuA3CkvPtjrvZqCjZhxk1-VaaIQOXvq6OoqAIm=s64",
      "userId": "09218871399700511056"
     },
     "user_tz": -60
    },
    "id": "XNDQFWQrSOTK",
    "outputId": "38f1f5f5-d7c9-42e5-f095-da40c0e122c3"
   },
   "outputs": [],
   "source": [
    "Graphique(1000)"
   ]
  },
  {
   "cell_type": "code",
   "execution_count": null,
   "metadata": {
    "colab": {
     "base_uri": "https://localhost:8080/",
     "height": 688
    },
    "executionInfo": {
     "elapsed": 17088,
     "status": "ok",
     "timestamp": 1609004897274,
     "user": {
      "displayName": "Nicolas VIGOT",
      "photoUrl": "https://lh3.googleusercontent.com/a-/AOh14GhuA3CkvPtjrvZqCjZhxk1-VaaIQOXvq6OoqAIm=s64",
      "userId": "09218871399700511056"
     },
     "user_tz": -60
    },
    "id": "EW7yQNoWSPrm",
    "outputId": "c985fc00-c2ad-47a4-cf6a-57c9d357874b"
   },
   "outputs": [],
   "source": [
    "import matplotlib.pyplot as plt\n",
    "from matplotlib.animation import FuncAnimation\n",
    "from random import *\n",
    "from IPython.display import HTML\n",
    "\n",
    "###########\n",
    "N = 300 # Nombre d'expériences aléatoires à réaliser \n",
    "###########\n",
    "\n",
    "def de_truque():\n",
    "    DE = [1,1,2,3,4,5]\n",
    "    return choice(DE)\n",
    "\n",
    "def frequences(n):\n",
    "    Liste_Y=[0]\n",
    "    nb_succes = 0\n",
    "    for compteur in range(1,n+1):\n",
    "        if de_truque()==1:\n",
    "            nb_succes = nb_succes + 1\n",
    "        Liste_Y = Liste_Y + [nb_succes / compteur]\n",
    "    return Liste_Y\n",
    "\n",
    "fig, ax = plt.subplots(figsize=(10,5))\n",
    "xdata, ydata = [], []\n",
    "points, = plt.plot([], [], 'b+')\n",
    "Liste_a_representer = frequences(N)\n",
    "\n",
    "def init():\n",
    "    ax.set_xlim(0, N)\n",
    "    ax.set_ylim(0, 1)\n",
    "    return points,\n",
    "\n",
    "def update(i):\n",
    "    xdata.append(i)\n",
    "    ydata.append(Liste_a_representer[i])\n",
    "    points.set_data(xdata, ydata)\n",
    "    return points,\n",
    "\n",
    "ani = FuncAnimation(fig, update, frames=N, init_func=init, blit=True)\n",
    "HTML(ani.to_jshtml())\n",
    "#HTML(ani.to_html5_video())"
   ]
  },
  {
   "cell_type": "markdown",
   "metadata": {},
   "source": [
    "[Retour au sommaire](#sommaire)"
   ]
  },
  {
   "cell_type": "markdown",
   "metadata": {
    "id": "apbDBFBDYVBo"
   },
   "source": [
    "## Simuler N échantillons de taille n d’une expérience aléatoire à deux issues. Si $p$ est la probabilité d’une issue et $f$ sa fréquence observée dans un échantillon, calculer la proportion des cas où l’écart entre $p$ et $f$ est inférieur ou égal à $\\dfrac{1}{\\sqrt{n}}$<a id='exemple13'></a>"
   ]
  },
  {
   "cell_type": "code",
   "execution_count": null,
   "metadata": {
    "id": "OOnsvI3h-pHW"
   },
   "outputs": [],
   "source": [
    "import random\n",
    "from math import sqrt\n",
    "import matplotlib.pyplot as plt\n",
    "import numpy as np"
   ]
  },
  {
   "cell_type": "code",
   "execution_count": null,
   "metadata": {
    "id": "vfltm9G_T2iW"
   },
   "outputs": [],
   "source": [
    "def Echantillon(n,p):\n",
    "    tirage = random.choices([1,0], weights=[p,1-p], k=n)\n",
    "    e = tirage.count(1)\n",
    "    f = e/n\n",
    "    return tirage, e, f"
   ]
  },
  {
   "cell_type": "code",
   "execution_count": null,
   "metadata": {
    "id": "5A2XhF1UAMlW"
   },
   "outputs": [],
   "source": [
    "def Proportion(N,n,p):\n",
    "    frequences = np.array([Echantillon(n,p)[2] for k in range(N)])\n",
    "    F = np.sum(abs(frequences-p)<=1/sqrt(n))\n",
    "    F /= N\n",
    "    X = range(1,N+1)\n",
    "    plt.figure(figsize=(20,10))\n",
    "    plt.plot(X,frequences,'rx')\n",
    "    plt.grid()\n",
    "    plt.axhline(y=p,color='b', lw=3)\n",
    "    plt.axhline(y=p-1/sqrt(n), color='g')\n",
    "    plt.axhline(y=p+1/sqrt(n), color = 'g')\n",
    "    plt.title(f\"Proportion des fréquences dans l'intervalle : {F}\")\n",
    "    return F"
   ]
  },
  {
   "cell_type": "code",
   "execution_count": null,
   "metadata": {
    "colab": {
     "base_uri": "https://localhost:8080/",
     "height": 551
    },
    "executionInfo": {
     "elapsed": 834,
     "status": "ok",
     "timestamp": 1609003689824,
     "user": {
      "displayName": "Nicolas VIGOT",
      "photoUrl": "https://lh3.googleusercontent.com/a-/AOh14GhuA3CkvPtjrvZqCjZhxk1-VaaIQOXvq6OoqAIm=s64",
      "userId": "09218871399700511056"
     },
     "user_tz": -60
    },
    "id": "k6MNK-5QARrP",
    "outputId": "f045e82d-2d08-4a8a-c3a0-9821a2f8e146"
   },
   "outputs": [],
   "source": [
    "Proportion(1000,100,0.7)"
   ]
  },
  {
   "cell_type": "markdown",
   "metadata": {},
   "source": [
    "[Retour au sommaire](#sommaire)"
   ]
  }
 ],
 "metadata": {
  "colab": {
   "authorship_tag": "ABX9TyOSHuD0ZiXjJYGjcCFtqMTp",
   "collapsed_sections": [],
   "name": "Les algorithmes du programme de seconde.ipynb",
   "provenance": [],
   "toc_visible": true
  },
  "kernelspec": {
   "display_name": "Python 3 (ipykernel)",
   "language": "python",
   "name": "python3"
  },
  "language_info": {
   "codemirror_mode": {
    "name": "ipython",
    "version": 3
   },
   "file_extension": ".py",
   "mimetype": "text/x-python",
   "name": "python",
   "nbconvert_exporter": "python",
   "pygments_lexer": "ipython3",
   "version": "3.9.13"
  }
 },
 "nbformat": 4,
 "nbformat_minor": 1
}
