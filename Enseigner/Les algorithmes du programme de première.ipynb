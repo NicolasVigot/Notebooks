{
 "cells": [
  {
   "cell_type": "markdown",
   "metadata": {},
   "source": [
    "# Algorithmes de Première Générale\n",
    "\n",
    "Ce document contient la liste exhaustive des exemples d’algorithmes figurant dans le programme d’enseignement de spécialité de mathématiques de première générale.\n",
    "L’écriture de ces algorithmes se veut simple, sans utilisation exagérée de fonctions “toutes faites” inclues dans les bibliothèques de Python et en utilisant à chaque fois une écriture fonctionnelle des algorithmes afin de pouvoir être réutilisés à l’avenir.\n",
    "Certaines fonctions Python sont complétées par des versions “professeur” afin d’enrichir les illustrations proposées aux élèves. En particulier, merci à M.S.Modeliar (Université d’Artois) pour la création de figures dynamiques à l’aide de matplotlib."
   ]
  },
  {
   "cell_type": "markdown",
   "metadata": {},
   "source": [
    "**Sommaire** <a id=\"sommaire\"></a>\n",
    "1. [Calcul des termes d'une suite définie de manière explicite](#exemple1)\n",
    "2. [Calcul des termes d'une suite définie par récurrence](#exemple2)\n",
    "3. [Calcul de la somme des termes d'une suite](#exemple3)\n",
    "4. [Calcul de seuil](#exemple4)\n",
    "5. [Calcul de la factorielle](#exemple5)\n",
    "6. [Suite de Syracuse](#exemple6)\n",
    "7. [Suite de Fibonacci](#exemple7)\n",
    "8. [Écrire la liste des coefficients directeurs des sécantes pour un pas donné](#exemple8)\n",
    "9. [Méthode de Newton en se limitant à des cas favorables](#exemple9)\n",
    "10. [Construction de l'exponentielle par la méthode d'Euler](#exemple10)\n",
    "11. [Détermination d'une valeur approchée de $e$](#exemple11)\n",
    "12. [Détermination de $\\pi$ par la méthode d'Archimède](#exemple12)\n",
    "13. [Estimation de l'aire sous la parabolle](#exemple13)\n",
    "14. [Estimation du nombre $\\pi$ par la méthode de Monte-Carlo](#exemple14)\n",
    "15. [Algorithme renvoyant l'espérance, la variance et l'écart-type d'une variable aléatoire](#exemple15)\n",
    "16. [Fréquence d'apparition des lettres d'un texte donné, en français et en anglais](#exemple16)"
   ]
  },
  {
   "cell_type": "markdown",
   "metadata": {},
   "source": [
    "# 1. Partie \"Algèbre\"\n",
    "\n",
    "## 1.1 Calcul des termes d'une suite, de sommes de termes, de seuil.\n",
    "\n",
    "### 1.1.1 Suite définie de manière explicite <a id=\"exemple1\"></a>\n",
    "\n",
    "On peut générer la liste des termes d'une suite définie par ajouts successifs, ou directement \"en compréhension\". "
   ]
  },
  {
   "cell_type": "code",
   "execution_count": null,
   "metadata": {},
   "outputs": [],
   "source": [
    "# formule explicite\n",
    "def u(n):\n",
    "    return 4*n + 5\n",
    "\n",
    "# ajouts successifs\n",
    "def SuiteExplicite(u, debut, fin):\n",
    "    suite = []\n",
    "    for k in range(debut, fin+1):\n",
    "        suite.append(u(k))\n",
    "    return suite"
   ]
  },
  {
   "cell_type": "code",
   "execution_count": null,
   "metadata": {},
   "outputs": [],
   "source": [
    "SuiteExplicite(u,0,10)"
   ]
  },
  {
   "cell_type": "code",
   "execution_count": null,
   "metadata": {},
   "outputs": [],
   "source": [
    "# en compréhension\n",
    "SuiteComprehension = [u(n) for n in range(11)]"
   ]
  },
  {
   "cell_type": "code",
   "execution_count": null,
   "metadata": {},
   "outputs": [],
   "source": [
    "SuiteComprehension"
   ]
  },
  {
   "cell_type": "markdown",
   "metadata": {},
   "source": [
    "[Retour au sommaire](#sommaire)"
   ]
  },
  {
   "cell_type": "markdown",
   "metadata": {},
   "source": [
    "### 1.1.2 Suite définie par récurrence <a id=\"exemple2\"></a>\n",
    "\n",
    "On génère la liste des termes d’une suite définie par récurrence par ajouts successifs. L’utilisation de fonction définie de manière récursive n’est pas au programme."
   ]
  },
  {
   "cell_type": "code",
   "execution_count": null,
   "metadata": {},
   "outputs": [],
   "source": [
    "def f(x):\n",
    "    return x+4\n",
    "\n",
    "def SuiteRecurrente(f,u_0,fin):\n",
    "    suite = [u_0]\n",
    "    for compteur in range(1,fin+1):\n",
    "        suite.append(f(suite[-1]))\n",
    "    return suite"
   ]
  },
  {
   "cell_type": "code",
   "execution_count": null,
   "metadata": {},
   "outputs": [],
   "source": [
    "SuiteRecurrente(f,5,10)"
   ]
  },
  {
   "cell_type": "markdown",
   "metadata": {},
   "source": [
    "[Retour au sommaire](#sommaire)"
   ]
  },
  {
   "cell_type": "markdown",
   "metadata": {},
   "source": [
    "### 1.1.3 Calculs de sommes de termes <a id=\"exemple3\"></a>\n",
    "\n",
    "On peut calculer la somme des termes d'une suite en même temps que le calcul effectif des termes de la suite, on peut utiliser une fonction qui, une fois la liste des termes obtenue, opère sur les éléments de cette liste ou utiliser la fonction sum qui prend comme argument la liste dont on veut calculer la somme des éléments."
   ]
  },
  {
   "cell_type": "code",
   "execution_count": null,
   "metadata": {},
   "outputs": [],
   "source": [
    "# Calcul de la somme en même temps que le calcul des termes de la suite\n",
    "\n",
    "def u(n):\n",
    "    return 4*n+5\n",
    "\n",
    "def SommeDesTermes (u,debut, fin):\n",
    "    somme = 0\n",
    "    for k in range(debut,fin+1): \n",
    "        somme = somme + u(k) \n",
    "    return somme"
   ]
  },
  {
   "cell_type": "code",
   "execution_count": null,
   "metadata": {},
   "outputs": [],
   "source": [
    "SommeDesTermes(u,0,10)"
   ]
  },
  {
   "cell_type": "code",
   "execution_count": null,
   "metadata": {},
   "outputs": [],
   "source": [
    "# Calcul de la somme en parcourant la liste des termes\n",
    "\n",
    "def SommeDesTermes2(liste):\n",
    "    somme = 0\n",
    "    for k in liste:\n",
    "        somme += k\n",
    "    return somme"
   ]
  },
  {
   "cell_type": "code",
   "execution_count": null,
   "metadata": {},
   "outputs": [],
   "source": [
    "SommeDesTermes2(SuiteRecurrente(f,0,10))"
   ]
  },
  {
   "cell_type": "code",
   "execution_count": null,
   "metadata": {},
   "outputs": [],
   "source": [
    "# Utilisation de la fonction 'sum'\n",
    "\n",
    "sum(SuiteRecurrente(f,0,10))"
   ]
  },
  {
   "cell_type": "markdown",
   "metadata": {},
   "source": [
    "[Retour au sommaire](#sommaire)"
   ]
  },
  {
   "cell_type": "markdown",
   "metadata": {},
   "source": [
    "### 1.1.4 Calcul de seuil <a id=\"exemple4\"></a>\n",
    "\n",
    "On répond au problème « déterminer la plus petite valeur de $n$ telle que $u_n \\geqslant \\mathrm{seuil}$ ». "
   ]
  },
  {
   "cell_type": "code",
   "execution_count": null,
   "metadata": {},
   "outputs": [],
   "source": [
    "def u(n):\n",
    "    return 4*n+5\n",
    "\n",
    "def Seuil(u, seuil):\n",
    "    n = 0\n",
    "    while u(n) <  seuil:\n",
    "        n += 1\n",
    "    return n"
   ]
  },
  {
   "cell_type": "code",
   "execution_count": null,
   "metadata": {},
   "outputs": [],
   "source": [
    "Seuil(u,10000)"
   ]
  },
  {
   "cell_type": "markdown",
   "metadata": {},
   "source": [
    "**On peut proposer une illustration graphique de la notion de seuil.**"
   ]
  },
  {
   "cell_type": "code",
   "execution_count": null,
   "metadata": {},
   "outputs": [],
   "source": [
    "import matplotlib.pyplot as plt\n",
    "\n",
    "def SeuilGraphique(u,seuil):\n",
    "    n=0\n",
    "    Liste_X=[]\n",
    "    Liste_Y=[]\n",
    "    while u(n)<seuil:\n",
    "        Liste_X.append(n)\n",
    "        Liste_Y.append(u(n))\n",
    "        n = n+1\n",
    "    plt.plot(Liste_X,Liste_Y,\"b.\")\n",
    "    plt.plot(n,u(n),\"r.\")\n",
    "    plt.plot([0,n],[seuil,seuil],\"g--\")\n",
    "    plt.show()\n",
    "    return None"
   ]
  },
  {
   "cell_type": "code",
   "execution_count": null,
   "metadata": {},
   "outputs": [],
   "source": [
    "SeuilGraphique(u, 100)"
   ]
  },
  {
   "cell_type": "markdown",
   "metadata": {},
   "source": [
    "**On peut également proposer une illustration dynamique de la situation.**"
   ]
  },
  {
   "cell_type": "code",
   "execution_count": null,
   "metadata": {},
   "outputs": [],
   "source": [
    "import matplotlib.pyplot as plt\n",
    "from matplotlib.animation import FuncAnimation\n",
    "from random import *\n",
    "from IPython.display import HTML\n",
    "\n",
    "###########\n",
    "seuil = 100 \n",
    "###########\n",
    "\n",
    "def u(n):\n",
    "    return 4*n+5\n",
    "\n",
    "def Seuil(u,seuil): \n",
    "    n=0\n",
    "    while u(n)<seuil:\n",
    "        n = n+1\n",
    "    return n+1\n",
    "\n",
    "def Seuil2(u,seuil):\n",
    "    n=0\n",
    "    ListeY=[]\n",
    "    while u(n) < seuil:\n",
    "        ListeY.append(u(n))\n",
    "        n += 1\n",
    "    ListeY.append(u(n))\n",
    "    return ListeY\n",
    "\n",
    "fig, axe = plt.subplots()\n",
    "axe.plot([0,Seuil(u,seuil)],[seuil,seuil],\"g--\")\n",
    "xdata, ydata = [], []\n",
    "points, = plt.plot([], [], \"b.\")\n",
    "\n",
    "ListeARepresenter = Seuil2(u, seuil)\n",
    "\n",
    "def init():\n",
    "    axe.set_xlim(0,Seuil(u,seuil))\n",
    "    axe.set_ylim(0, seuil + 10)\n",
    "    return points,\n",
    "\n",
    "def update(i):\n",
    "    xdata.append(i)\n",
    "    ydata.append(ListeARepresenter[i])\n",
    "    points.set_data(xdata,ydata)\n",
    "    return points,\n",
    "\n",
    "animation = FuncAnimation(fig, update, frames=Seuil(u, seuil), init_func=init, blit=True)\n",
    "HTML(animation.to_jshtml())\n",
    "#HTML.animation.to_html5_video())"
   ]
  },
  {
   "cell_type": "markdown",
   "metadata": {},
   "source": [
    "[Retour au sommaire](#sommaire)"
   ]
  },
  {
   "cell_type": "markdown",
   "metadata": {},
   "source": [
    "## 1.2 Calcul de factorielle <a id=\"exemple5\"></a>\n",
    "\n",
    "Le calcul peut s'envisager de manière itérative avec des boucles bornées (*pour*) et non bornées (*while*)."
   ]
  },
  {
   "cell_type": "code",
   "execution_count": null,
   "metadata": {},
   "outputs": [],
   "source": [
    "def factorielle(n):\n",
    "    fact = 1\n",
    "    i = 1\n",
    "    while i <= n:\n",
    "        fact *= i\n",
    "        i += 1\n",
    "    return fact"
   ]
  },
  {
   "cell_type": "code",
   "execution_count": null,
   "metadata": {},
   "outputs": [],
   "source": [
    "factorielle(10)"
   ]
  },
  {
   "cell_type": "code",
   "execution_count": null,
   "metadata": {},
   "outputs": [],
   "source": [
    "def factorielle2(n):\n",
    "    fact = 1\n",
    "    for k in range(2,n+1):\n",
    "        fact *= k\n",
    "    return fact"
   ]
  },
  {
   "cell_type": "code",
   "execution_count": null,
   "metadata": {},
   "outputs": [],
   "source": [
    "factorielle2(10)"
   ]
  },
  {
   "cell_type": "markdown",
   "metadata": {},
   "source": [
    "Pour information, et même si la récursivité n'est pas au programme, elle reste le moyen le plus direct pour calculer une factorielle. "
   ]
  },
  {
   "cell_type": "code",
   "execution_count": null,
   "metadata": {},
   "outputs": [],
   "source": [
    "def factorielle3(n):\n",
    "    if n == 0 : \n",
    "        return 1\n",
    "    else:\n",
    "        return n*factorielle3(n-1)"
   ]
  },
  {
   "cell_type": "code",
   "execution_count": null,
   "metadata": {},
   "outputs": [],
   "source": [
    "factorielle3(10)"
   ]
  },
  {
   "cell_type": "markdown",
   "metadata": {},
   "source": [
    "[Retour au sommaire](#sommaire)"
   ]
  },
  {
   "cell_type": "markdown",
   "metadata": {},
   "source": [
    "## 1.3 Liste des premiers termes d'une suite : suite de Syracuse, suite de Fibonacci. \n",
    "\n",
    "### 1.3.1 Suite de Syracuse <a id=\"exemple6\"></a>\n",
    "\n",
    "La suite de Syracuse une suite d'entiers naturels définie de la manière suivante: on part d'un nombre entier plus grand que zéro ; s'il est pair, on le divise par 2 ; s'il est impair, on le multiplie par 3 et on ajoute 1.\n",
    "Après que le nombre 1 a été atteint, la suite des valeurs (1,4,2,1,4,2...) se répète indéfiniment en un cycle de longueur 3, appelé cycle trivial.\n",
    "La conjecture de Syracuse est: *« la suite de Syracuse de n'importe quel entier strictement positif atteint 1 »*.\n",
    "\n",
    "En dépit de la simplicité de son énoncé, cette conjecture défie depuis de nombreuses années les mathématiciens. Paul Erdós a dit à propos de la conjecture de Syracuse : « les mathématiques ne sont pas encore prêtes pour de tels problèmes »."
   ]
  },
  {
   "cell_type": "code",
   "execution_count": null,
   "metadata": {},
   "outputs": [],
   "source": [
    "def Syracuse (u0):\n",
    "    suite=[u0] \n",
    "    u = u0 \n",
    "    while (u>1): \n",
    "        if u % 2 != 0: \n",
    "            u = 3*u+1 \n",
    "        else: \n",
    "            u = u//2 \n",
    "        suite.append(u) \n",
    "    return suite"
   ]
  },
  {
   "cell_type": "code",
   "execution_count": null,
   "metadata": {},
   "outputs": [],
   "source": [
    "Syracuse(24)"
   ]
  },
  {
   "cell_type": "code",
   "execution_count": null,
   "metadata": {},
   "outputs": [],
   "source": [
    "import matplotlib.pyplot as plt\n",
    "\n",
    "def RepresentationGraphiqueSuite(suite):\n",
    "    plt.plot(range(0,len(suite)),suite,\"b+\")\n",
    "    plt.show()"
   ]
  },
  {
   "cell_type": "code",
   "execution_count": null,
   "metadata": {},
   "outputs": [],
   "source": [
    "RepresentationGraphiqueSuite(Syracuse(2019))"
   ]
  },
  {
   "cell_type": "markdown",
   "metadata": {},
   "source": [
    "**Remarque** : on peut déterminer certains paramètres de la [suite de Syracuse](https://fr.wikipedia.org/wiki/Conjecture_de_Syracuse). C'est l'occasion de travailler sur les listes. \n",
    "\n",
    "- **Le temps de vol** est le plus petit indice $n$ tel que $u_n = 1$. \n",
    "- **Le temps de vol en altitude** est le plus petit indice $n$ tel que $u_n < u_0$.\n",
    "- **L'altitude maximale** est la valeur maximale de la suite. "
   ]
  },
  {
   "cell_type": "code",
   "execution_count": null,
   "metadata": {},
   "outputs": [],
   "source": [
    "def ParametresSyracuse(suite):\n",
    "    temps_de_vol = len(suite) - 1\n",
    "    altitude_max = max(suite)\n",
    "    n = 0\n",
    "    while suite[n] >= suite[0]:\n",
    "        n += 1\n",
    "    temps_de_vol_altitude = n-1\n",
    "    return (temps_de_vol, altitude_max, temps_de_vol_altitude)"
   ]
  },
  {
   "cell_type": "code",
   "execution_count": null,
   "metadata": {},
   "outputs": [],
   "source": [
    "ParametresSyracuse(Syracuse(2019))"
   ]
  },
  {
   "cell_type": "markdown",
   "metadata": {},
   "source": [
    "**Remarque** : on peut rassembler toutes ces propriétés dans une seule classe. "
   ]
  },
  {
   "cell_type": "code",
   "execution_count": null,
   "metadata": {},
   "outputs": [],
   "source": [
    "class Syracuse:\n",
    "    def __init__(self,u0) -> None:\n",
    "        self.suite=[u0]\n",
    "        u = u0\n",
    "        while (u>1): \n",
    "            if u % 2 != 0: \n",
    "                u = 3*u+1 \n",
    "            else: \n",
    "                u = u//2 \n",
    "            self.suite.append(u)\n",
    "        self.TempsDeVol = len(self.suite) - 1\n",
    "        self.AltitudeMax = max(self.suite)\n",
    "        n = 0\n",
    "        while self.suite[n] >= self.suite[0]:\n",
    "            n += 1\n",
    "        self.TempsDeVolAltitude = n-1\n",
    "\n",
    "    def RepresentationGraphiqueSuite(self):\n",
    "        plt.plot(range(0,self.TempsDeVol + 1),self.suite,\"r+\")\n",
    "        plt.show()\n"
   ]
  },
  {
   "cell_type": "code",
   "execution_count": null,
   "metadata": {},
   "outputs": [],
   "source": [
    "vol = Syracuse(2019)\n",
    "print(vol.AltitudeMax, vol.TempsDeVol,vol.TempsDeVolAltitude)\n",
    "vol.RepresentationGraphiqueSuite()"
   ]
  },
  {
   "cell_type": "markdown",
   "metadata": {},
   "source": [
    "[Retour au sommaire](#sommaire)"
   ]
  },
  {
   "cell_type": "markdown",
   "metadata": {},
   "source": [
    "### 1.3.2 Suite de Fibonacci <a id=\"exemple7\"></a>\n",
    "\n",
    "La suite de Fibonacci est définie par $u_0 = 0$, $u_1 = 1$ et pour tout entier $n \\geqslant 0$, $u_{n+2} = u_{n+1} + u_{n}$. "
   ]
  },
  {
   "cell_type": "code",
   "execution_count": null,
   "metadata": {},
   "outputs": [],
   "source": [
    "def fibonacci(n):\n",
    "    if n == 0:\n",
    "        fibo = [0]\n",
    "    else:\n",
    "        fibo = [0, 1]\n",
    "        for k in range(1,n):\n",
    "            fibo.append(fibo[-2] + fibo[-1])\n",
    "    return fibo\n"
   ]
  },
  {
   "cell_type": "code",
   "execution_count": null,
   "metadata": {},
   "outputs": [],
   "source": [
    "fibonacci(3)"
   ]
  },
  {
   "cell_type": "markdown",
   "metadata": {},
   "source": [
    "**Remarque** : on peut étudier le comportement de la suite de terme général le quotient de deux termes consécutifs de la suite. "
   ]
  },
  {
   "cell_type": "code",
   "execution_count": null,
   "metadata": {},
   "outputs": [],
   "source": [
    "import matplotlib.pyplot as plt\n",
    "\n",
    "n = 20\n",
    "\n",
    "X = [k for k in range(2,n+1)]\n",
    "Y = [fibonacci(n)[k]/fibonacci(n)[k-1] for k in range(2,n+1)]\n",
    "plt.plot(X, Y, \"b+\")\n",
    "plt.show()"
   ]
  },
  {
   "cell_type": "markdown",
   "metadata": {},
   "source": [
    "[Retour au sommaire](#sommaire)"
   ]
  },
  {
   "cell_type": "markdown",
   "metadata": {},
   "source": [
    "# Partie \"analyse\"\n",
    "\n",
    "## 2.1 Écrire la liste des coefficients directeurs des sécantes pour un pas donné <a id=\"exemple8\"></a>\n",
    "\n",
    "On considère une fonction $f$ définie sur un intervalle $[a;b]$ et un pas $h$. On découpe l'intervalle $[a;b]$ en $\\frac{b-a}{h}$ parties égales."
   ]
  },
  {
   "cell_type": "code",
   "execution_count": null,
   "metadata": {},
   "outputs": [],
   "source": [
    "def f(x):\n",
    "    return x**2\n",
    "\n",
    "def CoeffDirecteursSecantes(f,a,b,h):\n",
    "    liste = []\n",
    "    n = int((b-a)/h)\n",
    "    for i in range(n):\n",
    "        liste.append((f(a+(n-i)*h)-f(a))/((n-i)*h))\n",
    "    return liste"
   ]
  },
  {
   "cell_type": "code",
   "execution_count": null,
   "metadata": {},
   "outputs": [],
   "source": [
    "CoeffDirecteursSecantes(f,1,2,0.01)"
   ]
  },
  {
   "cell_type": "markdown",
   "metadata": {},
   "source": [
    "[Retour au sommaire](#sommaire)"
   ]
  },
  {
   "cell_type": "markdown",
   "metadata": {},
   "source": [
    "## 2.2 Méthode de Newton (en se limitant à des cas favorables) <a id=\"exemple9\"></a>\n",
    "\n",
    "$f$ est une fonction dérivable sur un intervalle $I$ telle que l'équation $f(x) = 0$ admet une unique solution $\\alpha \\in I$.\n",
    "\n",
    "Pour approximer $\\alpha$, en un point $A$ d'abscisse $x_0 \\in I$ proche de $\\alpha$, on approxime localement la courbe de $f$ par la tangente au point $A$ : $f(\\alpha) \\approx f(x_0) + (\\alpha-x_0)f'(x_0)$ et donc si $f'(x_0) \\neq 0$, $\\alpha \\approx x_0 - \\frac{f(x_0)}{f'(x_0)} = x_1$. \n",
    "\n",
    "On construit donc la suite $(x_n)$ définie par la donnée de $x_0$ et, pour tout entier naturel $n$, $x_{n+1} = x_n - \\frac{f(x_n)}{f'(x_n)}$.\n",
    "\n",
    "On propose donc des situations \"dans les cas favorables\", c'est-à-dire en évitant les cas particuliers où la dérivée pourrait s'annuler.\n",
    "\n",
    "On fait le choix de créer deux fonctions, $f$ et $f'$. Il est possible également de travailler seulement avec $f$ et d'évaluer le nombre dérivé. On s'arrête quand la distance entre deux termes successifs de la suite $(x_n)$ est inférieure à une précision donnée."
   ]
  },
  {
   "cell_type": "code",
   "execution_count": null,
   "metadata": {},
   "outputs": [],
   "source": [
    "def f(x):\n",
    "    return x**2 - 2\n",
    "\n",
    "def fprime(x):\n",
    "    return 2*x\n",
    "\n",
    "def Newton(x0, precision):\n",
    "    X = [x0]\n",
    "    x = x0\n",
    "    while abs(f(x)/fprime(x)) >= precision:\n",
    "        x = x - f(x)/fprime(x)\n",
    "        X.append(x)\n",
    "    return X"
   ]
  },
  {
   "cell_type": "code",
   "execution_count": null,
   "metadata": {},
   "outputs": [],
   "source": [
    "Newton(1,0.0001)"
   ]
  },
  {
   "cell_type": "markdown",
   "metadata": {},
   "source": [
    "[Retour au sommaire](#sommaire)"
   ]
  },
  {
   "cell_type": "markdown",
   "metadata": {},
   "source": [
    "## 2.3 Construction de l'exponentielle par la méthode d'Euler <a id=\"exemple10\"></a>\n",
    "\n",
    "On sait que $\\exp$ est la solution de l'équation différentielle $y' = y$ qui vérifie $\\exp(0) = 1$. \n",
    "\n",
    "On cherche ici à utiliser la méthode d'Euler pour approcher la fonction exponentielle sur l'intervalle $[0;1]$. \n",
    "\n",
    "On utiliser pour cela le schéma suivant : \n",
    "* on commence par choisir un entier naturel $n$ (plus grand il sera, meilleure sera la précision). \n",
    "* on pose $(x_0;y_0) = (0;1)$ et on va construire de proche en proche $(x_1;y_1), (x_2;y_2), \\ldots, (x_n;y_n)$ avec $x_k = \\frac{k}{n}$ et pour $k \\geqslant 1$, $y_k = y_{k-1} + \\frac{1}{n} y_{k-1}$."
   ]
  },
  {
   "cell_type": "code",
   "execution_count": null,
   "metadata": {},
   "outputs": [],
   "source": [
    "from math import *\n",
    "import matplotlib.pyplot as plt\n",
    "\n",
    "def Euler(n):\n",
    "    Y = [1]\n",
    "    y = 1\n",
    "    for k in range(n):\n",
    "        y += y*(1/n)\n",
    "        Y.append(y)\n",
    "    return Y\n",
    "\n",
    "def EulerGraphique(n):\n",
    "    X = [k/n for k in range(n+1)]\n",
    "    plt.plot(X, Euler(n), \"b-\", label = \"Courbe approchée\")\n",
    "    plt.plot(X, [exp(t) for t in X], \"r-\", label = \"Courbe exacte\")\n",
    "    plt.legend()\n",
    "    plt.show()"
   ]
  },
  {
   "cell_type": "code",
   "execution_count": null,
   "metadata": {},
   "outputs": [],
   "source": [
    "EulerGraphique(10)"
   ]
  },
  {
   "cell_type": "markdown",
   "metadata": {},
   "source": [
    "[Retour au sommaire](#sommaire)"
   ]
  },
  {
   "cell_type": "markdown",
   "metadata": {},
   "source": [
    "## 2.4 Détermination d'une valeur approchée de $e$ à l'aide de la suite $\\left( 1 + \\dfrac{1}{n} \\right)^{n}$ <a id=\"exemple11\"></a>\n",
    "\n",
    "La limite de la suite $\\left( \\left( 1 + \\dfrac{1}{n} \\right)^{n} \\right)_{n \\geqslant 1}$ est le nombre $e$. Cette convergence n'est pas très rapide, on cherche donc à déterminer le rang à partir duquel on obtient une valeur approchée à $10^{-p}$. "
   ]
  },
  {
   "cell_type": "code",
   "execution_count": null,
   "metadata": {},
   "outputs": [],
   "source": [
    "from math import *\n",
    "import matplotlib.pyplot as plt\n",
    "\n",
    "def u(n):\n",
    "    return (1+1/n)**n\n",
    "\n",
    "def Approximation(p):\n",
    "    n = 1\n",
    "    while abs(u(n) - exp(1)) >= 10**(-p):\n",
    "        n += 1\n",
    "    return n,u(n)\n",
    "\n",
    "def ApproximationGraphique(p): \n",
    "    n=1\n",
    "    X=[]\n",
    "    Y=[]\n",
    "    while abs(u(n)-exp(1)) >= 10**(-p):\n",
    "        X.append(n)\n",
    "        Y.append(u(n))\n",
    "        n = n+1\n",
    "    plt.plot(X, Y, \"b.\")\n",
    "    plt.plot(n, u(n), \"r.\")\n",
    "    plt.plot([0, n], [exp(1),exp(1)], \"g\")\n",
    "    plt.plot([0, n], [exp(1)-1/10**p, exp(1)-1/10**p], \"g--\")\n",
    "    plt.show()\n",
    "    return None"
   ]
  },
  {
   "cell_type": "code",
   "execution_count": null,
   "metadata": {},
   "outputs": [],
   "source": [
    "ApproximationGraphique(1)"
   ]
  },
  {
   "cell_type": "markdown",
   "metadata": {},
   "source": [
    "[Retour au sommaire](#sommaire)"
   ]
  },
  {
   "cell_type": "markdown",
   "metadata": {},
   "source": [
    "## 2.5 Détermination de $\\pi$ par la méthode d'Archimède <a id=\"exemple12\"></a>\n",
    "\n",
    "Voir aussi [l'activité 10.](https://eduscol.education.fr/document/24652/download) pour une visualisation plus détaillée. \n",
    "\n",
    "La méthode d'Archimède consiste à \"encadrer\" le cercle de rayon 1 par deux polygones réguliers. En doublant le nombre de côtés à chaque étape, on réalise alors un encadrement de $2\\pi$ à l'aide de leur périmètre.\n",
    "\n",
    "En notant $u$ le demi-périmètre du polygone à $n$ côtés inscrit dans le cercle et $v$ le demi-périmètre du polygone à $n$ côtés cirsconcrit au cercle, le demi-périmètre du polygone à $2n$ côtés circonscrit au cercle est $y = \\frac{2uv}{u+v}$ et celui du polygone inscrit dans le cercle est $x = \\sqrt{u \\times v}. On obtient alors un encadrement de $n$ à l'aide des suites ainsi créées. On part du premier encadrement à partir de l'hexagone ($n = 0$) et on double le nombre de côtés à chaque étape (donc pour $n$, on a $6 \\times 2^{n}$ côtés). \n",
    "\n",
    "[Source](www.mathkang.org/pdf/MC2004-Pi-Archimede.pdf)."
   ]
  },
  {
   "cell_type": "code",
   "execution_count": null,
   "metadata": {},
   "outputs": [],
   "source": [
    "from math import sqrt\n",
    "\n",
    "def Archimede(n): \n",
    "    u=3\n",
    "    v = 2*sqrt(3)\n",
    "    for i in range(n):\n",
    "        v = 2*u*v/(u+v)\n",
    "        u = sqrt(u*v)\n",
    "    return 6*2**n,u,v"
   ]
  },
  {
   "cell_type": "code",
   "execution_count": null,
   "metadata": {},
   "outputs": [],
   "source": [
    "Archimede(4)"
   ]
  },
  {
   "cell_type": "markdown",
   "metadata": {},
   "source": [
    "[Retour au sommaire](#sommaire)"
   ]
  },
  {
   "cell_type": "markdown",
   "metadata": {},
   "source": [
    "# Partie \"statistiques et probabilités\"\n",
    "\n",
    "## 3.1 Méthode de Monte-Carlo : estimation de l'aire sous la parabole, estimation du nombre $\\pi$.\n",
    "\n",
    "### 3.1.1 Estimation de l'aire sous la parabolle <a id=\"exemple13\"></a>\n",
    "\n",
    "Pour cela, on génère aléatoirement et uniformément $n$ points dans un carré de côté 1, et compter ceux qui sont situés sous la parabolle $y = x^2$. Cela permettra de donner une estimation de son aire."
   ]
  },
  {
   "cell_type": "code",
   "execution_count": 1,
   "metadata": {},
   "outputs": [],
   "source": [
    "from random import random\n",
    "\n",
    "def AireSousParabole(n):\n",
    "    Nb = 0\n",
    "    for k in range(n):\n",
    "        x, y = random(), random()\n",
    "        if y <= x**2:\n",
    "            Nb += 1\n",
    "    return Nb / n"
   ]
  },
  {
   "cell_type": "code",
   "execution_count": 2,
   "metadata": {},
   "outputs": [
    {
     "data": {
      "text/plain": [
       "0.342"
      ]
     },
     "execution_count": 2,
     "metadata": {},
     "output_type": "execute_result"
    }
   ],
   "source": [
    "AireSousParabole(1000)"
   ]
  },
  {
   "cell_type": "markdown",
   "metadata": {},
   "source": [
    "**Remarque** : on peut aussi proposer une illustration graphique de la méthode"
   ]
  },
  {
   "cell_type": "code",
   "execution_count": 3,
   "metadata": {},
   "outputs": [],
   "source": [
    "import matplotlib.pyplot as plt \n",
    "from math import *\n",
    "\n",
    "def AireSousParabolleGraphique(n):\n",
    "    fig, (ax1, ax2) = plt.subplots(1, 2,figsize=(15, 6))\n",
    "    Nb = 0\n",
    "    X1=range(1,n+1)\n",
    "    Y1=[]\n",
    "    X2_in=[]\n",
    "    Y2_in=[]\n",
    "    X2_out=[]\n",
    "    Y2_out=[]\n",
    "    for k in range(1,n+1):\n",
    "        x, y = random(), random()\n",
    "        if y<x**2:\n",
    "            Nb += 1\n",
    "            X2_in.append(x)\n",
    "            Y2_in.append(y)\n",
    "        else:\n",
    "            X2_out.append(x)\n",
    "            Y2_out.append(y)\n",
    "        Y1.append(Nb / k)\n",
    "    ax1.plot(X1,Y1,\"b.\")\n",
    "    ax1.plot([0,n],[1/3,1/3],color='m')\n",
    "    ax1.text(n+2,1/3,\"$1/3$\",color='m',fontsize=14)\n",
    "    ax2.set_xlim((0, 1))\n",
    "    ax2.set_ylim((0, 1))\n",
    "    ax2.set_aspect('equal')\n",
    "    abscisses = [k/100 for k in range(101)]\n",
    "    ax2.plot(abscisses, [t**2 for t in abscisses])\n",
    "    ax2.plot(X2_in, Y2_in, \"g.\")\n",
    "    ax2.plot(X2_out, Y2_out,\"r.\")\n",
    "    plt.show()\n",
    "    return None"
   ]
  },
  {
   "cell_type": "code",
   "execution_count": 4,
   "metadata": {},
   "outputs": [
    {
     "data": {
      "image/png": "[encoded data removed]",
      "text/plain": [
       "<Figure size 1500x600 with 2 Axes>"
      ]
     },
     "metadata": {},
     "output_type": "display_data"
    }
   ],
   "source": [
    "AireSousParabolleGraphique(1000)"
   ]
  },
  {
   "cell_type": "markdown",
   "metadata": {},
   "source": [
    "**Version animée**"
   ]
  },
  {
   "cell_type": "code",
   "execution_count": null,
   "metadata": {},
   "outputs": [],
   "source": [
    "import matplotlib.pyplot as plt\n",
    "import matplotlib.animation\n",
    "from random import *\n",
    "from IPython.display import HTML\n",
    "\n",
    "#cte\n",
    "N = 100\n",
    "\n",
    "#paramètres figure\n",
    "fig, (ax1, ax2) = plt.subplots(1, 2,figsize=(10, 6))\n",
    "ax1.set_xlim(( 0, 1))\n",
    "ax1.set_ylim((0, 1))\n",
    "ax2.set_xlim(( 0, N))\n",
    "ax2.set_ylim((0,1))\n",
    "ax1.set_aspect('equal')\n",
    "\n",
    "Xin,Yin,Xout,Yout = [],[],[],[]\n",
    "somme = 0\n",
    "pis = []\n",
    "pointsIn, = ax1.plot([],[],'go')\n",
    "pointsOut, = ax1.plot([],[],'ro')\n",
    "courbe, = ax2.plot([],[])\n",
    "\n",
    "def init():\n",
    "    pointsIn.set_data([], [])\n",
    "    pointsOut.set_data([], [])\n",
    "    courbe.set_data([], [])\n",
    "    abscisses = [k/100 for k in range(101)]\n",
    "    ax1.plot(abscisses,[t**2 for t in abscisses])\n",
    "    ax2.plot([0,N],[0.333,0.333],'m-')\n",
    "    ax2.text(N+0.5,1/3,'$1/3$',color=\"m\",fontsize=14)\n",
    "    ax2.set_title('Fréquence de points sous la parabole')\n",
    "    return (pointsIn,)\n",
    "\n",
    "def animate(i):\n",
    "    global somme\n",
    "    x,y = random(),random()\n",
    "    if y<x**2:\n",
    "        somme +=1\n",
    "        Xin.append(x)\n",
    "        Yin.append(y)\n",
    "        pointsIn.set_data([Xin,Yin])\n",
    "    else:\n",
    "        Xout.append(x)\n",
    "        Yout.append(y)\n",
    "        pointsOut.set_data([Xout,Yout])\n",
    "    pis.append(somme/(i+1))\n",
    "    courbe.set_data(range(i+1),pis)\n",
    "    return (pointsIn,)\n",
    "\n",
    "ani = matplotlib.animation.FuncAnimation(fig, animate, frames=N, init_func=init, blit=True)\n",
    "# l'un ou l'autre\n",
    "HTML(ani.to_jshtml()) \n",
    "#HTML(ani.to_html5_video())"
   ]
  },
  {
   "cell_type": "markdown",
   "metadata": {},
   "source": [
    "[Retour au sommaire](#sommaire)"
   ]
  },
  {
   "cell_type": "markdown",
   "metadata": {},
   "source": [
    "### 3.1.2 Estimation du nombre $\\pi$ <a id=\"exemple14\"></a>\n",
    "\n",
    "On reprend l'idée de la méthode précédente, mais on compte le nombre de points situés sous le quart de cercle de rayon 1. Cela nous donne une estimation de son aire, donc du nombre $\\frac{\\pi}{4}$. "
   ]
  },
  {
   "cell_type": "code",
   "execution_count": null,
   "metadata": {},
   "outputs": [],
   "source": [
    "from random import random\n",
    "\n",
    "def MonteCarlo(n):\n",
    "    Nb = 0\n",
    "    for k in range(n):\n",
    "        x, y = random(), random()\n",
    "        if x**2+y**2 <= 1:\n",
    "            Nb += 1\n",
    "    return 4 * Nb / n"
   ]
  },
  {
   "cell_type": "code",
   "execution_count": null,
   "metadata": {},
   "outputs": [],
   "source": [
    "MonteCarlo(1000)"
   ]
  },
  {
   "cell_type": "markdown",
   "metadata": {},
   "source": [
    "**Là encore, il est intéressant de proposer une visualisation graphique de la méthode.**"
   ]
  },
  {
   "cell_type": "code",
   "execution_count": null,
   "metadata": {},
   "outputs": [],
   "source": [
    "import matplotlib.pyplot as plt \n",
    "from math import *\n",
    "\n",
    "def MonteCarloGraphique(n):\n",
    "    fig, (ax1, ax2) = plt.subplots(1, 2,figsize=(15, 6))\n",
    "    Nb = 0\n",
    "    X1=range(1,n+1)\n",
    "    Y1=[]\n",
    "    X2_in=[]\n",
    "    Y2_in=[]\n",
    "    X2_out=[]\n",
    "    Y2_out=[]\n",
    "    for k in range(1,n+1):\n",
    "        x, y = random(), random()\n",
    "        if x**2+y**2 < 1:\n",
    "            Nb += 1\n",
    "            X2_in.append(x)\n",
    "            Y2_in.append(y)\n",
    "        else:\n",
    "            X2_out.append(x)\n",
    "            Y2_out.append(y)\n",
    "        Y1.append(Nb / k)\n",
    "    ax1.plot(X1,Y1,\"b.\")\n",
    "    ax1.plot([0,n],[pi,pi],color='m')\n",
    "    ax1.text(n+2,pi,\"$\\pi$\",color='m',fontsize=14)\n",
    "    ax2.set_xlim((0, 1))\n",
    "    ax2.set_ylim((0, 1))\n",
    "    ax2.set_aspect('equal')\n",
    "    abscisses = [k/100 for k in range(101)]\n",
    "    ax2.plot(abscisses, [sqrt(1-t**2) for t in abscisses])\n",
    "    cercle = plt.Circle((0,0), 1, color = \"gray\", alpha = 0.1)\n",
    "    ax2.add_artist(cercle)\n",
    "    ax2.plot(X2_in, Y2_in, \"g.\")\n",
    "    ax2.plot(X2_out, Y2_out,\"r.\")\n",
    "    plt.show()\n",
    "    return None"
   ]
  },
  {
   "cell_type": "code",
   "execution_count": null,
   "metadata": {},
   "outputs": [],
   "source": [
    "MonteCarloGraphique(1000)"
   ]
  },
  {
   "cell_type": "markdown",
   "metadata": {},
   "source": [
    "**Et on peut encore en proposer une version animée.** *Nb : il faut environ 30 secondes pour générer cette animation.*"
   ]
  },
  {
   "cell_type": "code",
   "execution_count": null,
   "metadata": {},
   "outputs": [],
   "source": [
    "import matplotlib.pyplot as plt\n",
    "import matplotlib.animation\n",
    "from random import *\n",
    "from IPython.display import HTML\n",
    "\n",
    "#cte\n",
    "N = 100\n",
    "\n",
    "#paramètres figure\n",
    "fig, (ax1, ax2) = plt.subplots(1, 2,figsize=(10, 6))\n",
    "ax1.set_xlim((0, 1))\n",
    "ax1.set_ylim((0, 1))\n",
    "ax1.set_aspect('equal')\n",
    "ax2.set_xlim((0, N))\n",
    "ax2.set_ylim((1.9, 4.1))\n",
    "ax2.set_aspect(N // 4)\n",
    "\n",
    "Xin,Yin,Xout,Yout = [],[],[],[]\n",
    "somme = 0\n",
    "pis = []\n",
    "pointsIn, = ax1.plot([],[],'go')\n",
    "pointsOut, = ax1.plot([],[],'ro')\n",
    "courbe, = ax2.plot([],[])\n",
    "estimation = ax2.text(N//2 - N//4, 1.2, \"Estimation\", color = \"m\", fontsize = 14)\n",
    "\n",
    "def init():\n",
    "    #pointsIn.set_data([], [])\n",
    "    #pointsOut.set_data([], [])\n",
    "    #courbe.set_data([], [])\n",
    "    cercle = plt.Circle((0,0), 1, color = \"gray\", alpha = 0.1)\n",
    "    ax1.add_artist(cercle)\n",
    "    ax2.plot([0,N],[3.14, 3.14], 'm-')\n",
    "    ax2.text(N+0.5,3.1, '$\\pi$', color=\"m\", fontsize=14)\n",
    "    ax2.set_title('Proportion de points dans le quart de cercle')\n",
    "    return (pointsIn,)\n",
    "\n",
    "def animate(i):\n",
    "    global somme\n",
    "    x,y = random(),random()\n",
    "    if x**2 + y**2 < 1:\n",
    "        somme +=1\n",
    "        Xin.append(x)\n",
    "        Yin.append(y)\n",
    "        pointsIn.set_data([Xin,Yin])\n",
    "    else:\n",
    "        Xout.append(x)\n",
    "        Yout.append(y)\n",
    "        pointsOut.set_data([Xout,Yout])\n",
    "    pis.append(4*somme/(i+1))\n",
    "    estimation.set_text(\"$\\pi \\simeq ${} avec {} points\".format(int(1000*pis[i])/1000, i+1))\n",
    "    courbe.set_data(range(i+1),pis)\n",
    "    return (pointsIn,)\n",
    "\n",
    "ani = matplotlib.animation.FuncAnimation(fig, animate, frames=N, init_func=init, blit=True)\n",
    "# l'un ou l'autre\n",
    "HTML(ani.to_jshtml()) \n",
    "#HTML(ani.to_html5_video())"
   ]
  },
  {
   "cell_type": "markdown",
   "metadata": {},
   "source": [
    "[Retour au sommaire](#sommaire)"
   ]
  },
  {
   "cell_type": "markdown",
   "metadata": {},
   "source": [
    "## 3.2 Algorithme renvoyant l'espérance, la variance et l'écart-type d'une variable aléatoire <a id=\"exemple15\"></a>\n",
    "\n",
    "À partir d'une liste $X$ des valeurs prises par une variable aléatoire et de la liste $P$ des probabilités correspondantes.  "
   ]
  },
  {
   "cell_type": "code",
   "execution_count": null,
   "metadata": {},
   "outputs": [],
   "source": [
    "from math import sqrt\n",
    "\n",
    "def E(X, P):\n",
    "    esperance = 0\n",
    "    for (x, p) in zip(X, P):\n",
    "        esperance += x*p\n",
    "    return esperance\n",
    "\n",
    "# La version suivante est peut-être plus simple à comprendre pour les élèves\n",
    "def E2(X, P):\n",
    "    esperance = 0\n",
    "    for i in range(len(X)):\n",
    "        esperance += X[i]*P[i]\n",
    "    return esperance\n",
    "\n",
    "def V(X, P):\n",
    "    v = 0\n",
    "    for (x, p) in zip(X, P):\n",
    "        v += p*x**2\n",
    "    return v - E(X, P)**2\n",
    "\n",
    "def V2(X, P):\n",
    "    v = 0\n",
    "    e = E(X, P)\n",
    "    for (x, p) in zip(X, P):\n",
    "        v += p*(x - e)**2\n",
    "    return v\n",
    "\n",
    "def sigma(X, P):\n",
    "    return sqrt(V(X, P))"
   ]
  },
  {
   "cell_type": "code",
   "execution_count": null,
   "metadata": {},
   "outputs": [],
   "source": [
    "X = [0, 20, 40, 100]\n",
    "P = [7/15, 4/15, 3/15, 1/15]\n",
    "E(X, P), E2(X, P), V(X, P), V2(X, P), sigma(X, P)"
   ]
  },
  {
   "cell_type": "markdown",
   "metadata": {},
   "source": [
    "[Retour au sommaire](#sommaire)"
   ]
  },
  {
   "cell_type": "markdown",
   "metadata": {},
   "source": [
    "## 3.3 Fréquence d'apparition des lettres d'un texte donné, en français et en anglais. <a id=\"exemple16\"></a>\n",
    "\n",
    "On propose deux fonctions : la première renvoie la fréquence d’apparition d’une lettre donnée dans un texte donné; la seconde renvoie la fréquence d’apparation de chaque lettre de l’alphabet en utilisant la fonction précédente, et trace un diagramme en barres des fréquences obtenues. \n",
    "\n",
    "**Remarque** : Les caractères manjuscules, minuscules, accentués, . . . et les symboles de ponctuation sont considérés comme des caractères différents. Il est donc prudent, dans un premier temps, de proposer des textes concaténés en minuscules sans caractères spéciaux."
   ]
  },
  {
   "cell_type": "code",
   "execution_count": null,
   "metadata": {},
   "outputs": [],
   "source": [
    "import matplotlib.pyplot as plt\n",
    "\n",
    "def AnalyseFrequentielleLettre(texte, lettre):\n",
    "    nb = 0\n",
    "    for caractere in texte:\n",
    "        if caractere == lettre:\n",
    "            nb += 1\n",
    "    return nb/len(texte)\n",
    "\n",
    "def AnalyseFrequentielleTexte(texte):\n",
    "    alphabet = \"abcdefghijklmnopqrstuvwxyz\"\n",
    "    frequences = {}\n",
    "    for lettre in alphabet:\n",
    "        frequences[lettre] = AnalyseFrequentielleLettre(texte, lettre)\n",
    "    X = [lettre for lettre in alphabet]\n",
    "    Y = [frequences[lettre] for lettre in alphabet]\n",
    "    plt.bar(X,Y)\n",
    "    plt.show()\n",
    "    return frequences"
   ]
  },
  {
   "cell_type": "markdown",
   "metadata": {},
   "source": [
    "**Avec un texte en français (\"Germinal\")**"
   ]
  },
  {
   "cell_type": "code",
   "execution_count": null,
   "metadata": {},
   "outputs": [],
   "source": [
    "texte = \"\"\n",
    "with open(\"germinal.txt\", \"r\", encoding=\"utf8\") as source:\n",
    "    for ligne in source:\n",
    "        texte += ligne\n",
    "\n",
    "AnalyseFrequentielleTexte(texte)"
   ]
  },
  {
   "cell_type": "markdown",
   "metadata": {},
   "source": [
    "**Avec un texte en anglais (\"Le chien des Baskerville\")**"
   ]
  },
  {
   "cell_type": "code",
   "execution_count": null,
   "metadata": {},
   "outputs": [],
   "source": [
    "texte = \"\"\n",
    "with open(\"chien_des_baskerville.txt\", \"r\", encoding=\"utf8\") as source:\n",
    "    for ligne in source:\n",
    "        texte += ligne\n",
    "AnalyseFrequentielleTexte(texte)"
   ]
  },
  {
   "cell_type": "markdown",
   "metadata": {},
   "source": [
    "**Avec des textes déposés en ligne (GitHub)**"
   ]
  },
  {
   "cell_type": "code",
   "execution_count": null,
   "metadata": {},
   "outputs": [],
   "source": [
    "#Germinal\n",
    "import requests\n",
    "\n",
    "url = \"https://raw.githubusercontent.com/NicolasVigot/AFE_Vientiane/main/germinal.txt\"\n",
    "source = requests.get(url)\n",
    "AnalyseFrequentielleTexte(source.text)"
   ]
  },
  {
   "cell_type": "code",
   "execution_count": null,
   "metadata": {},
   "outputs": [],
   "source": [
    "#Le chien des Baskerville\n",
    "import requests\n",
    "\n",
    "url = \"https://raw.githubusercontent.com/NicolasVigot/AFE_Vientiane/main/chien_des_baskerville.txt\"\n",
    "source = requests.get(url)\n",
    "AnalyseFrequentielleTexte(source.text)"
   ]
  },
  {
   "cell_type": "markdown",
   "metadata": {},
   "source": [
    "[Retour au sommaire](#sommaire)"
   ]
  }
 ],
 "metadata": {
  "kernelspec": {
   "display_name": "Python 3 (ipykernel)",
   "language": "python",
   "name": "python3"
  },
  "language_info": {
   "codemirror_mode": {
    "name": "ipython",
    "version": 3
   },
   "file_extension": ".py",
   "mimetype": "text/x-python",
   "name": "python",
   "nbconvert_exporter": "python",
   "pygments_lexer": "ipython3",
   "version": "3.9.13"
  }
 },
 "nbformat": 4,
 "nbformat_minor": 2
}
