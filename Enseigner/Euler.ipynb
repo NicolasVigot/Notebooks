{
 "cells": [
  {
   "attachments": {},
   "cell_type": "markdown",
   "metadata": {},
   "source": [
    "# La méthode d'Euler"
   ]
  },
  {
   "attachments": {},
   "cell_type": "markdown",
   "metadata": {},
   "source": [
    "Soit $y$ une fonction définie et dérivable sur un intervalle $I$, et soit $a$ un réel appartenant à $I$. \n",
    "\n",
    "La méthode d'Euler, du nom du mathématicien suisse [Léonard Euler](https://fr.wikipedia.org/wiki/Leonhard_Euler) (1707-1783), repose sur le fait que pour un réel $a$, la courbe représentative de $y$ et sa tangente au point d'abscisse $a$ sont presques confondues. \n",
    "\n",
    "Si $h$ est un réel strictement positif proche de zéro, on a $y(a+h) \\approx y(a) + h \\times y'(a)$.\n",
    "\n",
    "Cette méthode permet de construire point par point des solutions approchées d'équations différentielles. "
   ]
  },
  {
   "attachments": {},
   "cell_type": "markdown",
   "metadata": {},
   "source": [
    "<img src=\"https://github.com/NicolasVigot/Notebooks/blob/master/Enseigner/Euler.png?raw=true\" alt=\"méthode Euler\" style=\"width: 500px;\"/>"
   ]
  },
  {
   "attachments": {},
   "cell_type": "markdown",
   "metadata": {},
   "source": [
    "## La méthode d'Euler appliquée à la détermination des primitives "
   ]
  },
  {
   "attachments": {},
   "cell_type": "markdown",
   "metadata": {},
   "source": [
    "Soit $f$ une fonction définie et continue sur un intervalle $I=[a;b]$. On souhaite résoudre l'équation $y'=f$, avec la condition initiale $y(a)=F_a$.\n",
    "\n",
    "On construira $y$ en remarquant que : \n",
    "\n",
    "$$y(a+h) \\approx y(a) + h \\times f(a)$$\n",
    "\n",
    "La fonction `euler` qui suit prend pour argument une fonction `f`, un entier `n`, trois réels `a`, `b` et `F_a`, et renvoie deux listes permettant de construire point par point une fonction affine par morceaux qui sera une solution approchée de l'équation ci-dessus. "
   ]
  },
  {
   "attachments": {},
   "cell_type": "markdown",
   "metadata": {},
   "source": [
    "**1. Vous remettez en ordre ce script :**"
   ]
  },
  {
   "cell_type": "code",
   "execution_count": null,
   "metadata": {},
   "outputs": [],
   "source": [
    "from IPython.display import IFrame\n",
    "IFrame('https://www.codepuzzle.io/IPRH8D', width='100%', height=600)"
   ]
  },
  {
   "cell_type": "markdown",
   "metadata": {},
   "source": [
    " **2. Puis vous complétez les lignes 7, 8 et 9 du script ci-dessous.**"
   ]
  },
  {
   "cell_type": "code",
   "execution_count": null,
   "metadata": {},
   "outputs": [],
   "source": [
    "def euler(f,n,a,b,F_a):\n",
    "    h = (b-a)/n\n",
    "    X = [a]\n",
    "    Y = [F_a]\n",
    "    x = a\n",
    "    y = F_a\n",
    "    for i in range(...):\n",
    "        y = ...\n",
    "        x = ...\n",
    "        X.append(x)\n",
    "        Y.append(y)\n",
    "    return X,Y"
   ]
  },
  {
   "attachments": {},
   "cell_type": "markdown",
   "metadata": {},
   "source": [
    "### Jeu de test"
   ]
  },
  {
   "attachments": {},
   "cell_type": "markdown",
   "metadata": {},
   "source": [
    "#### Représentation graphique d'une primitive de la fonction $f:t\\mapsto \\frac{1}{t}$ sur $[1;10]$, avec $F(1)=0$, par la méthode d'Euler."
   ]
  },
  {
   "attachments": {},
   "cell_type": "markdown",
   "metadata": {},
   "source": [
    "**3. Évaluez les cellules suivantes jusqu'à obtenir une représentation graphique de la primitive voulue.**"
   ]
  },
  {
   "cell_type": "code",
   "execution_count": null,
   "metadata": {},
   "outputs": [],
   "source": [
    "import matplotlib.pyplot as plt"
   ]
  },
  {
   "cell_type": "code",
   "execution_count": null,
   "metadata": {},
   "outputs": [],
   "source": [
    "def f(t):\n",
    "    return 1/t"
   ]
  },
  {
   "cell_type": "code",
   "execution_count": null,
   "metadata": {},
   "outputs": [],
   "source": [
    "n=100\n",
    "X,Y=euler(f,n,1,10,0)\n",
    "plt.clf()\n",
    "plt.plot(X,Y,'-b')\n",
    "plt.grid()\n",
    "plt.show()"
   ]
  },
  {
   "attachments": {},
   "cell_type": "markdown",
   "metadata": {},
   "source": [
    "**4. Modifiez la valeur de n pour obverver les différentes courbes.**"
   ]
  },
  {
   "attachments": {},
   "cell_type": "markdown",
   "metadata": {},
   "source": [
    "#### Représentation graphique d'une primitive de la fonction $g:t\\mapsto \\frac{1}{1+t^2}$ sur $[-10;10]$, avec $G(0)=0$ par la méthode d'Euler."
   ]
  },
  {
   "cell_type": "markdown",
   "metadata": {},
   "source": [
    "**5. Évaluez les cellules suivantes jusqu'à obtenir une représentation graphique de la primitive voulue.**"
   ]
  },
  {
   "cell_type": "code",
   "execution_count": null,
   "metadata": {},
   "outputs": [],
   "source": [
    "def g(t):\n",
    "    return 1/(1+t**2)"
   ]
  },
  {
   "cell_type": "code",
   "execution_count": null,
   "metadata": {},
   "outputs": [],
   "source": [
    "n=10\n",
    "X,Y=euler(g,n,0,10,0)\n",
    "plt.clf()\n",
    "plt.plot(X,Y,'-b')\n",
    "X,Y=euler(g,n,0,-10,0)\n",
    "plt.plot(X,Y,'-r')\n",
    "plt.grid()\n",
    "plt.show()"
   ]
  },
  {
   "cell_type": "markdown",
   "metadata": {},
   "source": [
    "**6. Modifiez la valeur de n pour obverver les différentes courbes.**"
   ]
  },
  {
   "attachments": {},
   "cell_type": "markdown",
   "metadata": {},
   "source": [
    "## La méthode d'Euler appliquée à la résolution des équations différentielles "
   ]
  },
  {
   "attachments": {},
   "cell_type": "markdown",
   "metadata": {},
   "source": [
    "On souhaite construire une solution approchée de l'équation $y'=y$ vérifiant $y(0)=1$. On construira $y$ en remarquant cette fois que \n",
    "$$y(a+h) \\approx y(a) + h \\times y(a)=(1+h) \\times y(a)$$"
   ]
  },
  {
   "cell_type": "markdown",
   "metadata": {},
   "source": [
    "**1. Vous commencez par effectuer l'activité suivante :**"
   ]
  },
  {
   "cell_type": "code",
   "execution_count": null,
   "metadata": {},
   "outputs": [],
   "source": [
    "from IPython.display import IFrame\n",
    "IFrame('https://www.codepuzzle.io/IP3NLE', width='100%', height=600)"
   ]
  },
  {
   "cell_type": "markdown",
   "metadata": {},
   "source": [
    "**2. Puis vous complétez les lignes 7, 8 et 9 du script ci-dessous.**"
   ]
  },
  {
   "cell_type": "code",
   "execution_count": null,
   "metadata": {},
   "outputs": [],
   "source": [
    "def euler_2(n,a,b,F_a):\n",
    "    h = (b-a)/n\n",
    "    X = [a]\n",
    "    Y = [F_a]\n",
    "    x = a\n",
    "    y = F_a\n",
    "    for i in range(...):\n",
    "        y = ...\n",
    "        x = ...\n",
    "        X.append(x)\n",
    "        Y.append(y)\n",
    "    return X,Y"
   ]
  },
  {
   "cell_type": "code",
   "execution_count": null,
   "metadata": {},
   "outputs": [],
   "source": [
    "def euler_2(n,a,b,F_a):\n",
    "    h = (b-a)/n\n",
    "    X = [a]\n",
    "    Y = [F_a]\n",
    "    x = a\n",
    "    y = F_a\n",
    "    for i in range(n):\n",
    "        y = (1+h)*y\n",
    "        x = x+h\n",
    "        X.append(x)\n",
    "        Y.append(y)\n",
    "    return X,Y"
   ]
  },
  {
   "attachments": {},
   "cell_type": "markdown",
   "metadata": {},
   "source": [
    "### Jeu de test"
   ]
  },
  {
   "attachments": {},
   "cell_type": "markdown",
   "metadata": {},
   "source": [
    "**3. Évaluer les cellules suivantes jusqu'à obtenir une représentation graphique de la solution voulue.**"
   ]
  },
  {
   "cell_type": "code",
   "execution_count": null,
   "metadata": {},
   "outputs": [],
   "source": [
    "n=10\n",
    "X,Y=euler_2(n,0,1,1)\n",
    "plt.clf()\n",
    "plt.plot(X,Y,'-b')\n",
    "plt.grid()\n",
    "plt.show()"
   ]
  },
  {
   "attachments": {},
   "cell_type": "markdown",
   "metadata": {},
   "source": [
    "**4. Modifiez la valeur de n pour obverver les différentes courbes.**\n",
    "\n",
    "**5. Quelle est la fonction représentée ? Que représente alors le réel Y[-1] ?**"
   ]
  },
  {
   "cell_type": "code",
   "execution_count": null,
   "metadata": {},
   "outputs": [],
   "source": [
    "Y[-1]"
   ]
  },
  {
   "cell_type": "markdown",
   "metadata": {},
   "source": [
    "*Réponse :*"
   ]
  },
  {
   "cell_type": "markdown",
   "metadata": {},
   "source": [
    "**6. Recopiez et adaptez le script de la fonction `euler_2` pour obtenir la représentation graphique des solutions de l'équation $y'-2y=4$ qui vérifie `y(0) = 0`. Vous n'oublierez pas de tester votre code.**"
   ]
  },
  {
   "cell_type": "code",
   "execution_count": null,
   "metadata": {},
   "outputs": [],
   "source": []
  }
 ],
 "metadata": {
  "kernelspec": {
   "display_name": "base",
   "language": "python",
   "name": "python3"
  },
  "language_info": {
   "codemirror_mode": {
    "name": "ipython",
    "version": 3
   },
   "file_extension": ".py",
   "mimetype": "text/x-python",
   "name": "python",
   "nbconvert_exporter": "python",
   "pygments_lexer": "ipython3",
   "version": "3.9.13"
  },
  "orig_nbformat": 4,
  "vscode": {
   "interpreter": {
    "hash": "68281a6a3fe35b4f519b7ef0e645fa1942e56c0ab8243f76f7d225bfc0e0201f"
   }
  }
 },
 "nbformat": 4,
 "nbformat_minor": 2
}
