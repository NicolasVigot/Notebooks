{
 "cells": [
  {
   "attachments": {},
   "cell_type": "markdown",
   "metadata": {},
   "source": [
    "# La méthode d'Euler"
   ]
  },
  {
   "attachments": {},
   "cell_type": "markdown",
   "metadata": {},
   "source": [
    "Soit $y$ une fonction définie et dérivable sur un intervalle $I$, et soit $a$ un réel appartenant à $I$. \n",
    "\n",
    "La méthode d'Euler, du nom du mathématicien suisse [Léonard Euler](https://fr.wikipedia.org/wiki/Leonhard_Euler) (1707-1783), repose sur le fait que pour un réel $a$, la courbe représentative de $y$ et sa tangente au point d'abscisse $a$ sont presques confondues. \n",
    "\n",
    "Si $h$ est un réel strictement positif proche de zéro, on a $y(a+h) \\approx y(a) + h \\times y'(a)$.\n",
    "\n",
    "Cette méthode permet de construire point par point des solutions approchées d'équations différentielles. "
   ]
  },
  {
   "attachments": {},
   "cell_type": "markdown",
   "metadata": {},
   "source": [
    "<img src=\"https://raw.githubusercontent.com/NicolasVigot/Notebooks/master/Euler.png\" alt=\"La méthode d'Euler\" width=\"500px\">"
   ]
  },
  {
   "attachments": {},
   "cell_type": "markdown",
   "metadata": {},
   "source": [
    "## La méthode d'Euler pour la détermination des primitives "
   ]
  },
  {
   "attachments": {},
   "cell_type": "markdown",
   "metadata": {},
   "source": [
    "Soit $f$ une fonction définie et continue sur un intervalle $I=[a;b]$. On souhaite résoudre l'équation $y'=f$, avec la condition initiale $y(a)=F_a$.\n",
    "\n",
    "On construira $y$ en remarquant donc que $y(a+h) \\approx y(a) + h \\times f(a)$.\n",
    "\n",
    "La fonction `euler` qui suit prend pour argument une fonction `f`, un entier `n`, trois réels `a`, `b` et `F_a`, et renvoie deux listes permettant de construire point par point une fonction affine par morceaux qui sera une solution approchée de l'équation ci-dessus. "
   ]
  },
  {
   "attachments": {},
   "cell_type": "markdown",
   "metadata": {},
   "source": [
    "**Après avoir effectué l'activité suivante, vous complétez les lignes 7, 8 et 9 du script ci-dessous.**"
   ]
  },
  {
   "cell_type": "code",
   "execution_count": null,
   "metadata": {},
   "outputs": [],
   "source": [
    "from IPython.display import IFrame\n",
    "IFrame('https://www.codepuzzle.io/IPRH8D', width='100%', height=600)"
   ]
  },
  {
   "cell_type": "code",
   "execution_count": null,
   "metadata": {},
   "outputs": [],
   "source": [
    "def euler(f,n,a,b,F_a):\n",
    "    h = (b-a)/n\n",
    "    X = [a]\n",
    "    Y = [F_a]\n",
    "    x = a\n",
    "    y = F_a\n",
    "    for i in range(...):\n",
    "        x = ...\n",
    "        y = ...\n",
    "        X.append(x)\n",
    "        Y.append(y)\n",
    "    return X,Y"
   ]
  },
  {
   "attachments": {},
   "cell_type": "markdown",
   "metadata": {},
   "source": [
    "### Jeu de test"
   ]
  },
  {
   "attachments": {},
   "cell_type": "markdown",
   "metadata": {},
   "source": [
    "#### Représentation graphique d'une primitive de la fonction $f:t\\mapsto \\frac{1}{t}$ sur $[1;10]$, avec $F(1)=0$, par la méthode d'Euler."
   ]
  },
  {
   "attachments": {},
   "cell_type": "markdown",
   "metadata": {},
   "source": [
    "**Évaluer les cellules suivantes jusqu'à obtenir une représentation graphique de la primitive voulue.**"
   ]
  },
  {
   "cell_type": "code",
   "execution_count": null,
   "metadata": {},
   "outputs": [],
   "source": [
    "def f(t):\n",
    "    return 1/t"
   ]
  },
  {
   "cell_type": "code",
   "execution_count": null,
   "metadata": {},
   "outputs": [],
   "source": [
    "from matplotlib.pyplot import plot,show"
   ]
  },
  {
   "cell_type": "code",
   "execution_count": null,
   "metadata": {},
   "outputs": [],
   "source": [
    "n=10\n",
    "X,Y=euler(f,n,1,10,0)\n",
    "plot(X,Y,'-b')\n",
    "show()"
   ]
  },
  {
   "attachments": {},
   "cell_type": "markdown",
   "metadata": {},
   "source": [
    "**Modifier la valeur de n pour obverver les différentes courbes.**"
   ]
  },
  {
   "attachments": {},
   "cell_type": "markdown",
   "metadata": {},
   "source": [
    "#### Représentation graphique d'une primitive de la fonction $g:t\\mapsto \\frac{1}{1+t^2}$ sur $[-10;10]$, avec $G(0)=0$ par la méthode d'Euler."
   ]
  },
  {
   "cell_type": "markdown",
   "metadata": {},
   "source": [
    "**Évaluer les cellules suivantes jusqu'à obtenir une représentation graphique de la primitive voulue.**"
   ]
  },
  {
   "cell_type": "code",
   "execution_count": null,
   "metadata": {},
   "outputs": [],
   "source": [
    "def g(t):\n",
    "    return 1/(1+t**2)"
   ]
  },
  {
   "cell_type": "code",
   "execution_count": null,
   "metadata": {},
   "outputs": [],
   "source": [
    "n=10\n",
    "X,Y=euler(g,n,0,10,0)\n",
    "plot(X,Y,'-b')\n",
    "X,Y=euler(g,n,0,-10,0)\n",
    "plot(X,Y,'-r')\n",
    "show()"
   ]
  },
  {
   "cell_type": "markdown",
   "metadata": {},
   "source": [
    "**Modifier la valeur de n pour obverver les différentes courbes.**"
   ]
  },
  {
   "attachments": {},
   "cell_type": "markdown",
   "metadata": {},
   "source": [
    "## La méthode d'Euler pour la résolution des équations différentielles "
   ]
  },
  {
   "attachments": {},
   "cell_type": "markdown",
   "metadata": {},
   "source": [
    "On souhaite construire une solution approchée de l'équation $y'=y$ vérifiant $y(0)=1$. On construira $y$ en remarquant cette fois que $y(a+h) \\approx y(a) + h \\times y(a)=(1+h) \\times y(a)$. "
   ]
  },
  {
   "cell_type": "markdown",
   "metadata": {},
   "source": [
    "**Après avoir effectué l'activité suivante, vous complétez les lignes 7, 8 et 9 du script ci-dessous.**"
   ]
  },
  {
   "cell_type": "code",
   "execution_count": null,
   "metadata": {},
   "outputs": [],
   "source": [
    "from IPython.display import IFrame\n",
    "IFrame('https://www.codepuzzle.io/IP3NLE', width='100%', height=600)"
   ]
  },
  {
   "cell_type": "code",
   "execution_count": null,
   "metadata": {},
   "outputs": [],
   "source": [
    "def euler_2(n,a,b,F_a):\n",
    "    h = (b-a)/n\n",
    "    X = [a]\n",
    "    Y = [F_a]\n",
    "    x = a\n",
    "    y = F_a\n",
    "    for i in range(...):\n",
    "        x = ...\n",
    "        y = ...\n",
    "        X.append(x)\n",
    "        Y.append(y)\n",
    "    return X,Y"
   ]
  },
  {
   "attachments": {},
   "cell_type": "markdown",
   "metadata": {},
   "source": [
    "### Jeu de test"
   ]
  },
  {
   "attachments": {},
   "cell_type": "markdown",
   "metadata": {},
   "source": [
    "**Évaluer les cellules suivantes jusqu'à obtenir une représentation graphique de la solution voulue.**"
   ]
  },
  {
   "cell_type": "code",
   "execution_count": null,
   "metadata": {},
   "outputs": [],
   "source": [
    "n=10\n",
    "X,Y=euler_2(n,0,1,1)\n",
    "plot(X,Y,'-b')\n",
    "show()"
   ]
  },
  {
   "attachments": {},
   "cell_type": "markdown",
   "metadata": {},
   "source": [
    "1. **Modifier la valeur de n pour obverver les différentes courbes.**\n",
    "2. **Quelle est la fonction représentée ? Que représente alors le réel Y[-1] ?**"
   ]
  },
  {
   "cell_type": "code",
   "execution_count": null,
   "metadata": {},
   "outputs": [],
   "source": [
    "Y[-1]"
   ]
  },
  {
   "cell_type": "markdown",
   "metadata": {},
   "source": [
    "**Réponse :**"
   ]
  }
 ],
 "metadata": {
  "kernelspec": {
   "display_name": "base",
   "language": "python",
   "name": "python3"
  },
  "language_info": {
   "codemirror_mode": {
    "name": "ipython",
    "version": 3
   },
   "file_extension": ".py",
   "mimetype": "text/x-python",
   "name": "python",
   "nbconvert_exporter": "python",
   "pygments_lexer": "ipython3",
   "version": "3.9.13"
  },
  "orig_nbformat": 4,
  "vscode": {
   "interpreter": {
    "hash": "68281a6a3fe35b4f519b7ef0e645fa1942e56c0ab8243f76f7d225bfc0e0201f"
   }
  }
 },
 "nbformat": 4,
 "nbformat_minor": 2
}
