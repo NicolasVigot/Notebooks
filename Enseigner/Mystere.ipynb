{
 "cells": [
  {
   "cell_type": "markdown",
   "id": "9b3031e1",
   "metadata": {},
   "source": [
    "# Que fait la fonction suivante ?\n",
    "\n",
    "Expliquer ce que calcule la fonction ci-dessous. "
   ]
  },
  {
   "cell_type": "code",
   "execution_count": 1,
   "id": "95f1c977",
   "metadata": {},
   "outputs": [],
   "source": [
    "from random import random\n",
    "\n",
    "def mystere(n):\n",
    "    Nb = 0\n",
    "    for k in range(n):\n",
    "        x, y = random(), random()\n",
    "        if y <= x**2:\n",
    "            Nb += 1\n",
    "    return Nb / n"
   ]
  },
  {
   "cell_type": "code",
   "execution_count": 2,
   "id": "8855e83c",
   "metadata": {},
   "outputs": [
    {
     "data": {
      "text/plain": [
       "0.358"
      ]
     },
     "execution_count": 2,
     "metadata": {},
     "output_type": "execute_result"
    }
   ],
   "source": [
    "mystere(1000)"
   ]
  },
  {
   "cell_type": "code",
   "execution_count": null,
   "id": "e7157c3d",
   "metadata": {},
   "outputs": [],
   "source": []
  }
 ],
 "metadata": {
  "kernelspec": {
   "display_name": "Python 3 (ipykernel)",
   "language": "python",
   "name": "python3"
  },
  "language_info": {
   "codemirror_mode": {
    "name": "ipython",
    "version": 3
   },
   "file_extension": ".py",
   "mimetype": "text/x-python",
   "name": "python",
   "nbconvert_exporter": "python",
   "pygments_lexer": "ipython3",
   "version": "3.9.13"
  }
 },
 "nbformat": 4,
 "nbformat_minor": 5
}
