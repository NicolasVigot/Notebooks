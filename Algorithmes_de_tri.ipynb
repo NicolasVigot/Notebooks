{
  "nbformat": 4,
  "nbformat_minor": 0,
  "metadata": {
    "celltoolbar": "Diaporama",
    "kernelspec": {
      "display_name": "Python 3",
      "language": "python",
      "name": "python3"
    },
    "language_info": {
      "codemirror_mode": {
        "name": "ipython",
        "version": 3
      },
      "file_extension": ".py",
      "mimetype": "text/x-python",
      "name": "python",
      "nbconvert_exporter": "python",
      "pygments_lexer": "ipython3",
      "version": "3.7.4"
    },
    "colab": {
      "name": "Algorithmes de tri.ipynb",
      "provenance": [],
      "include_colab_link": true
    }
  },
  "cells": [
    {
      "cell_type": "markdown",
      "metadata": {
        "id": "view-in-github",
        "colab_type": "text"
      },
      "source": [
        "<a href=\"https://colab.research.google.com/github/NicolasVigot/Notebooks-/blob/master/Algorithmes_de_tri.ipynb\" target=\"_parent\"><img src=\"https://colab.research.google.com/assets/colab-badge.svg\" alt=\"Open In Colab\"/></a>"
      ]
    },
    {
      "cell_type": "markdown",
      "metadata": {
        "id": "ENUGw1jefXlp",
        "colab_type": "text"
      },
      "source": [
        "# Des algorithmes de tri\n",
        "\n",
        "Les algorithmes de tri sont de grands classiques de la pensée algorithmique. Ils sont souvent simples à mettre en oeuvre, opèrent sur des listes, et ils permettent d'utiliser les principales structures algorithmiques à connaître (variables, boucles, conditions). Ils peuvent toutefois faire appel à des notions un peu plus sophistiquées, comme la récursivité."
      ]
    },
    {
      "cell_type": "markdown",
      "metadata": {
        "id": "8cEUim8RfXlu",
        "colab_type": "text"
      },
      "source": [
        "Nous allons vous proposer de coder ici quelques algorithmes de tri parmi les plus simples et les plus classiques :\n",
        "\n",
        "<ol>\n",
        "    <li>tri à bulles ;</li>\n",
        "    <li>tri par sélection ;</li>\n",
        "    <li>tri par insertion ;</li>\n",
        "    <li>tri fusion ;</li>\n",
        "    <li>tri rapide ;</li>\n",
        "</ol>\n",
        "\n",
        "<a href=\"https://fr.wikipedia.org/wiki/Liste_d%27algorithmes#Tri\">Source : wikipedia</a>"
      ]
    },
    {
      "cell_type": "markdown",
      "metadata": {
        "id": "ciKWHmoKfXly",
        "colab_type": "text"
      },
      "source": [
        "# Importations et création des premiers éléments"
      ]
    },
    {
      "cell_type": "code",
      "metadata": {
        "id": "3wMOoJI-fXl1",
        "colab_type": "code",
        "colab": {}
      },
      "source": [
        "import random"
      ],
      "execution_count": 0,
      "outputs": []
    },
    {
      "cell_type": "code",
      "metadata": {
        "id": "ggHR8L0nfXl_",
        "colab_type": "code",
        "colab": {}
      },
      "source": [
        "L = list(range(1,100))\n",
        "random.shuffle(L)"
      ],
      "execution_count": 0,
      "outputs": []
    },
    {
      "cell_type": "markdown",
      "metadata": {
        "id": "zMSHV_lMfXmF",
        "colab_type": "text"
      },
      "source": [
        "Vous disposez maintenant d'une liste `L` qui contient les entiers de 1 à 100 mélangés.\n",
        "\n",
        "La consigne sera, pour chacun des algorithmes proposés, d'écrire une ou plusieurs fonctions qui mettent cet algorithme en oeuvre, pour remettre en ordre la liste `L`."
      ]
    },
    {
      "cell_type": "markdown",
      "metadata": {
        "id": "geQ4jCg0fXmI",
        "colab_type": "text"
      },
      "source": [
        "# 1. Tri à bulles\n",
        "\n",
        "## 1.1 Principe\n",
        "\n",
        "L'algorithme parcourt la liste et compare les éléments consécutifs. Lorsque deux éléments consécutifs ne sont pas dans l'ordre, ils sont échangés.\n",
        "\n",
        "Après un premier parcours complet du tableau, le plus grand élément est forcément en fin de tableau, à sa position définitive. En effet, aussitôt que le plus grand élément est rencontré durant le parcours, il est mal trié par rapport à tous les éléments suivants, donc échangé à chaque fois jusqu'à la fin du parcours."
      ]
    },
    {
      "cell_type": "markdown",
      "metadata": {
        "id": "MzfjOr0BfXmK",
        "colab_type": "text"
      },
      "source": [
        "Après le premier parcours, le plus grand élément étant à sa position définitive, il n'a plus à être traité. Le reste du tableau est en revanche encore en désordre. Il faut donc le parcourir à nouveau, en s'arrêtant à l'avant-dernier élément. Après ce deuxième parcours, les deux plus grands éléments sont à leur position définitive. Il faut donc répéter les parcours du tableau, jusqu'à ce que les deux plus petits éléments soient placés à leur position définitive."
      ]
    },
    {
      "cell_type": "markdown",
      "metadata": {
        "id": "JAx7-UPofXmM",
        "colab_type": "text"
      },
      "source": [
        "## 1.2 Pseudo-code"
      ]
    },
    {
      "cell_type": "markdown",
      "metadata": {
        "id": "ck31mF9Pf_eB",
        "colab_type": "text"
      },
      "source": [
        "```\n",
        "tri_à_bulles(Tableau T)\n",
        "   pour i allant de (taille de T)-1 à 1\n",
        "       pour j allant de 0 à i-1\n",
        "           si T[j+1] < T[j]\n",
        "               échanger(T[j+1], T[j])\n",
        "```\n",
        "\n"
      ]
    },
    {
      "cell_type": "markdown",
      "metadata": {
        "id": "8TEMCAlDfXmR",
        "colab_type": "text"
      },
      "source": [
        "## 1.3 Code"
      ]
    },
    {
      "cell_type": "code",
      "metadata": {
        "id": "cInKdY7KfXmT",
        "colab_type": "code",
        "colab": {}
      },
      "source": [
        "# Tapez votre code ici"
      ],
      "execution_count": 0,
      "outputs": []
    },
    {
      "cell_type": "markdown",
      "metadata": {
        "id": "gNb_XQXsfXmZ",
        "colab_type": "text"
      },
      "source": [
        "<details>\n",
        "    <summary><h3>Cliquez ici pour dévoiler une solution</h3></summary> \n",
        "    \n",
        "    def bulles(liste):\n",
        "    L = liste[:]\n",
        "    N = len(L)\n",
        "    for i in range(N-1, 0, -1):\n",
        "        for j in range(i):\n",
        "            if L[j+1] < L[j]:\n",
        "                L[j], L[j+1] = L[j+1], L[j]\n",
        "    return L\n",
        "    \n",
        "</details>"
      ]
    },
    {
      "cell_type": "markdown",
      "metadata": {
        "id": "Iu7JH31OfXma",
        "colab_type": "text"
      },
      "source": [
        "# 2. Tri par sélection\n",
        "\n",
        "## 2.1 Principe\n",
        "\n",
        "Sur une liste de n éléments, le principe du tri par sélection est le suivant :\n",
        "\n",
        "<ul>\n",
        "    <li>rechercher le plus petit élément du tableau, et l'échanger avec l'élément d'indice 0 ;</li>\n",
        "    <li>rechercher le second plus petit élément du tableau, et l'échanger avec l'élément d'indice 1 ;</li>\n",
        "    <li>continuer de cette façon jusqu'à ce que le tableau soit entièrement trié.</li>\n",
        "</ul>"
      ]
    },
    {
      "cell_type": "markdown",
      "metadata": {
        "id": "JIkquMaMfXmb",
        "colab_type": "text"
      },
      "source": [
        "## 2.2 Pseudo-code"
      ]
    },
    {
      "cell_type": "markdown",
      "metadata": {
        "id": "C1zNhQv73XF9",
        "colab_type": "text"
      },
      "source": [
        "```\n",
        "procédure tri_selection(tableau t, entier n)\n",
        "      pour i de 0 à n - 2\n",
        "          min ← i       \n",
        "          pour j de i + 1 à n - 1\n",
        "              si t[j] < t[min], alors min ← j\n",
        "          fin pour\n",
        "          si min ≠ i, alors échanger t[i] et t[min]\n",
        "      fin pour\n",
        "    fin\n",
        "```"
      ]
    },
    {
      "cell_type": "markdown",
      "metadata": {
        "id": "cUgMYNdufXme",
        "colab_type": "text"
      },
      "source": [
        "## 2.3 Code"
      ]
    },
    {
      "cell_type": "code",
      "metadata": {
        "id": "profa1jPfXmh",
        "colab_type": "code",
        "colab": {}
      },
      "source": [
        "# Tapez votre code ici"
      ],
      "execution_count": 0,
      "outputs": []
    },
    {
      "cell_type": "markdown",
      "metadata": {
        "id": "ec9EhPG4fXmm",
        "colab_type": "text"
      },
      "source": [
        "<details>\n",
        "    <summary><h3>Cliquez ici pour dévoiler une solution</h3></summary> \n",
        "    \n",
        "    def selection(liste):\n",
        "    n = len(liste)\n",
        "    for i in range(n-1):\n",
        "        min = i\n",
        "        for j in range(i+1,n):\n",
        "            if liste[j] < liste[min]:\n",
        "                min = j\n",
        "        liste[min], liste[i] = liste[i], liste[min]\n",
        "    return liste\n",
        "    \n",
        "</details>"
      ]
    },
    {
      "cell_type": "markdown",
      "metadata": {
        "id": "IXG4Plc7fXmn",
        "colab_type": "text"
      },
      "source": [
        "# 3. Tri par insertion\n",
        "\n",
        "## 3.1 Principe\n",
        "\n",
        "Dans l'algorithme, on parcourt le tableau à trier du début à la fin. Au moment où on considère le i-ème élément, les éléments qui le précèdent sont déjà triés. Pour faire l'analogie avec l'exemple du jeu de cartes, lorsqu'on est à la i-ème étape du parcours, le i-ème élément est la carte saisie, les éléments précédents sont la main triée et les éléments suivants correspondent aux cartes encore en désordre sur la table."
      ]
    },
    {
      "cell_type": "markdown",
      "metadata": {
        "id": "qqUZWv-tfXmp",
        "colab_type": "text"
      },
      "source": [
        "L'objectif d'une étape est d'insérer le i-ème élément à sa place parmi ceux qui précèdent. Il faut pour cela trouver où l'élément doit être inséré en le comparant aux autres, puis décaler les éléments afin de pouvoir effectuer l'insertion. En pratique, ces deux actions sont fréquemment effectuées en une passe, qui consiste à faire « remonter » l'élément au fur et à mesure jusqu'à rencontrer un élément plus petit."
      ]
    },
    {
      "cell_type": "markdown",
      "metadata": {
        "id": "mQo1PenMfXmr",
        "colab_type": "text"
      },
      "source": [
        "## 3.2 Pseudo-code"
      ]
    },
    {
      "cell_type": "markdown",
      "metadata": {
        "id": "ysv3QVN93hhx",
        "colab_type": "text"
      },
      "source": [
        "```\n",
        "procédure tri_insertion(tableau T, entier n)\n",
        "    pour i de 1 à n - 1\n",
        "        x ← T[i]                            \n",
        "        j ← i                               \n",
        "        tant que j > 0 et T[j - 1] > x\n",
        "            T[j] ← T[j - 1]\n",
        "            j ← j - 1\n",
        "        T[j] ← x\n",
        "```"
      ]
    },
    {
      "cell_type": "markdown",
      "metadata": {
        "id": "eRnHKBGxfXmt",
        "colab_type": "text"
      },
      "source": [
        "## 3.3 Code"
      ]
    },
    {
      "cell_type": "code",
      "metadata": {
        "id": "oBNOmHS7fXmv",
        "colab_type": "code",
        "colab": {}
      },
      "source": [
        "# Tapez votre code ici"
      ],
      "execution_count": 0,
      "outputs": []
    },
    {
      "cell_type": "markdown",
      "metadata": {
        "id": "bkpN_wZLfXm0",
        "colab_type": "text"
      },
      "source": [
        "<details>\n",
        "    <summary><h3>Cliquez ici pour dévoiler une solution</h3></summary> \n",
        "    \n",
        "    def insertion(liste):\n",
        "        n = len(liste)\n",
        "        for i in range(1,n):\n",
        "            a_classer = liste[i]\n",
        "            j = i\n",
        "            while j > 0 and liste[j - 1] > a_classer:\n",
        "                liste[j] = liste[j - 1]\n",
        "                j -= 1\n",
        "            liste[j] = a_classer\n",
        "        return liste\n",
        "    \n",
        "</details>"
      ]
    },
    {
      "cell_type": "markdown",
      "metadata": {
        "id": "dOZl-pe2fXm2",
        "colab_type": "text"
      },
      "source": [
        "# 4. Tri par fusion\n",
        "\n",
        "## 4.1 Principe\n",
        "\n",
        "À partir de deux listes triées, on peut facilement construire une liste triée comportant les éléments issus de ces deux listes (leur *fusion*). Le principe de l'algorithme de tri fusion repose sur cette observation : le plus petit élément de la liste à construire est soit le plus petit élément de la première liste, soit le plus petit élément de la deuxième liste. Ainsi, on peut construire la liste élément par élément en retirant tantôt le premier élément de la première liste, tantôt le premier élément de la deuxième liste (en fait, le plus petit des deux, à supposer qu'aucune des deux listes ne soit vide, sinon la réponse est immédiate)."
      ]
    },
    {
      "cell_type": "markdown",
      "metadata": {
        "id": "yFGQVTOdfXm3",
        "colab_type": "text"
      },
      "source": [
        "Ce procédé est appelé fusion et est au cœur de l'algorithme de tri développé ci-après.\n",
        "\n",
        "L'algorithme est naturellement décrit de façon récursive :\n",
        "\n",
        "<ol>\n",
        "    <li>Si le tableau n'a qu'un élément, il est déjà trié.</li>\n",
        "    <li>Sinon, séparer le tableau en deux parties à peu près égales.</li>\n",
        "    <li>Trier récursivement les deux parties avec l'algorithme du tri fusion.</li>\n",
        "    <li>Fusionner les deux tableaux triés en un seul tableau trié.</li>\n",
        "</ol>"
      ]
    },
    {
      "cell_type": "markdown",
      "metadata": {
        "id": "dTbnq_jLfXm4",
        "colab_type": "text"
      },
      "source": [
        "## 4.2 Pseudo-code"
      ]
    },
    {
      "cell_type": "markdown",
      "metadata": {
        "id": "oiHP3xhm3ntj",
        "colab_type": "text"
      },
      "source": [
        "```\n",
        "entrée : un tableau T\n",
        "sortie : une permutation triée de T\n",
        "fonction triFusion(T[1, …, n])\n",
        "      si n ≤ 1\n",
        "              renvoyer T\n",
        "      sinon\n",
        "              renvoyer fusion(triFusion(T[1, …, n/2]), triFusion(T[n/2 + 1, …, n]))\n",
        "\n",
        "entrée : deux tableaux triés A et B\n",
        "sortie : un tableau trié qui contient exactement les éléments des tableaux A et B\n",
        "fonction fusion(A[1, …, a], B[1, …, b])\n",
        "      si A est le tableau vide\n",
        "              renvoyer B\n",
        "      si B est le tableau vide\n",
        "              renvoyer A\n",
        "      si A[1] ≤ B[1]\n",
        "              renvoyer A[1] :: fusion(A[2, …, a], B)\n",
        "      sinon\n",
        "              renvoyer B[1] :: fusion(A, B[2, …, b])\n",
        "```"
      ]
    },
    {
      "cell_type": "markdown",
      "metadata": {
        "id": "Yvj8wS7zfXm6",
        "colab_type": "text"
      },
      "source": [
        "## 4.3 Code"
      ]
    },
    {
      "cell_type": "code",
      "metadata": {
        "id": "nWaAhw4pfXm7",
        "colab_type": "code",
        "colab": {}
      },
      "source": [
        "# Tapez votre code ici"
      ],
      "execution_count": 0,
      "outputs": []
    },
    {
      "cell_type": "markdown",
      "metadata": {
        "id": "0Xh80FLGfXnB",
        "colab_type": "text"
      },
      "source": [
        "<details>\n",
        "    <summary><h3>Cliquez ici pour dévoiler une solution</h3></summary> \n",
        "    \n",
        "    def fusion(liste1, liste2):\n",
        "        if not liste1:\n",
        "            return liste2\n",
        "        if not liste2:\n",
        "            return liste1\n",
        "        if liste1[0] <= liste2[0]:\n",
        "            return [liste1[0]] + fusion(liste1[1:], liste2)\n",
        "        else:\n",
        "            return [liste2[0]] + fusion(liste1, liste2[1:])\n",
        "    \n",
        "    def tri_fusion(liste):\n",
        "    if len(liste) <= 1:\n",
        "        return liste\n",
        "    else:\n",
        "        n = len(liste)\n",
        "        liste1 = liste[:n//2]\n",
        "        liste2 = liste[n//2:]\n",
        "        return fusion(tri_fusion(liste1), tri_fusion(liste2))\n",
        "    \n",
        "</details>"
      ]
    },
    {
      "cell_type": "markdown",
      "metadata": {
        "id": "mkziZGoGfXnB",
        "colab_type": "text"
      },
      "source": [
        "# 5. Tri rapide\n",
        "\n",
        "## 5.1 Principe\n",
        "\n",
        "La méthode consiste à placer un élément du tableau (appelé pivot) à sa place définitive, en permutant tous les éléments de telle sorte que tous ceux qui sont inférieurs au pivot soient à sa gauche et que tous ceux qui sont supérieurs au pivot soient à sa droite."
      ]
    },
    {
      "cell_type": "markdown",
      "metadata": {
        "id": "AUaCDvKPfXnD",
        "colab_type": "text"
      },
      "source": [
        "Cette opération s'appelle le partitionnement. Pour chacun des sous-tableaux, on définit un nouveau pivot et on répète l'opération de partitionnement. Ce processus est répété récursivement, jusqu'à ce que l'ensemble des éléments soit trié.\n",
        "\n",
        "Le pivot peut être choisi aléatoirement dans la liste, ou plus simplement être son premier élément."
      ]
    },
    {
      "cell_type": "markdown",
      "metadata": {
        "id": "akU2bkYDfXnE",
        "colab_type": "text"
      },
      "source": [
        "<h2>5.2 Pseudo-code</h2>"
      ]
    },
    {
      "cell_type": "markdown",
      "metadata": {
        "id": "mx1NtEUe3zQK",
        "colab_type": "text"
      },
      "source": [
        "```\n",
        "tri_rapide(liste)\n",
        "    si liste est vide\n",
        "        renvoyer liste\n",
        "    sinon\n",
        "        pivot := le premier élément de la liste\n",
        "        liste1 := la liste des éléments inférieurs au pivot\n",
        "        liste2 := la liste des éléments supérieurs au pivot\n",
        "        renvoyer tri_rapide(liste1) + pivot + tri_rapide(liste2)\n",
        "```"
      ]
    },
    {
      "cell_type": "markdown",
      "metadata": {
        "id": "MIixFBGUfXnI",
        "colab_type": "text"
      },
      "source": [
        "<h2>5.3 Code</h2>"
      ]
    },
    {
      "cell_type": "code",
      "metadata": {
        "id": "HL-FuFLHfXnK",
        "colab_type": "code",
        "colab": {}
      },
      "source": [
        "# Tapez votre code ici"
      ],
      "execution_count": 0,
      "outputs": []
    },
    {
      "cell_type": "markdown",
      "metadata": {
        "id": "sfQbsH11fXnN",
        "colab_type": "text"
      },
      "source": [
        "<details>\n",
        "    <summary><h3>Cliquez ici pour dévoiler une solution</h3></summary> \n",
        "    \n",
        "    def quicksort(liste):\n",
        "        if not liste : \n",
        "            return []\n",
        "        else:\n",
        "            pivot = liste[0]\n",
        "            liste_petits = [x for x in liste[1:] if x < pivot]\n",
        "            liste_grands = [x for x in liste[1:] if x >= pivot]\n",
        "            return quicksort(liste_petits) + [pivot] + quicksort(liste_grands)\n",
        "\n",
        "</details>"
      ]
    }
  ]
}